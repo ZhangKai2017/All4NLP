{
 "cells": [
  {
   "cell_type": "markdown",
   "metadata": {
    "toc": true
   },
   "source": [
    "<h1>Table of Contents<span class=\"tocSkip\"></span></h1>\n",
    "<div class=\"toc\"><ul class=\"toc-item\"><li><span><a href=\"#Data-Types\" data-toc-modified-id=\"Data-Types-1\"><span class=\"toc-item-num\">1&nbsp;&nbsp;</span>Data Types</a></span><ul class=\"toc-item\"><li><span><a href=\"#Node-and-Relationship-(Important)\" data-toc-modified-id=\"Node-and-Relationship-(Important)-1.1\"><span class=\"toc-item-num\">1.1&nbsp;&nbsp;</span>Node and Relationship (Important)</a></span></li><li><span><a href=\"#Subgraph\" data-toc-modified-id=\"Subgraph-1.2\"><span class=\"toc-item-num\">1.2&nbsp;&nbsp;</span>Subgraph</a></span></li><li><span><a href=\"#Path-and-other-Walkable-types\" data-toc-modified-id=\"Path-and-other-Walkable-types-1.3\"><span class=\"toc-item-num\">1.3&nbsp;&nbsp;</span>Path and other Walkable types</a></span></li><li><span><a href=\"#Record\" data-toc-modified-id=\"Record-1.4\"><span class=\"toc-item-num\">1.4&nbsp;&nbsp;</span>Record</a></span></li><li><span><a href=\"#Tabel\" data-toc-modified-id=\"Tabel-1.5\"><span class=\"toc-item-num\">1.5&nbsp;&nbsp;</span>Tabel</a></span></li></ul></li><li><span><a href=\"#Graph-Databases\" data-toc-modified-id=\"Graph-Databases-2\"><span class=\"toc-item-num\">2&nbsp;&nbsp;</span>Graph Databases</a></span><ul class=\"toc-item\"><li><span><a href=\"#The-Database\" data-toc-modified-id=\"The-Database-2.1\"><span class=\"toc-item-num\">2.1&nbsp;&nbsp;</span>The Database</a></span></li><li><span><a href=\"#The-Graph-(Important)\" data-toc-modified-id=\"The-Graph-(Important)-2.2\"><span class=\"toc-item-num\">2.2&nbsp;&nbsp;</span>The Graph (Important)</a></span></li><li><span><a href=\"#Transactions-(Important)\" data-toc-modified-id=\"Transactions-(Important)-2.3\"><span class=\"toc-item-num\">2.3&nbsp;&nbsp;</span>Transactions (Important)</a></span></li><li><span><a href=\"#Cypher-Results\" data-toc-modified-id=\"Cypher-Results-2.4\"><span class=\"toc-item-num\">2.4&nbsp;&nbsp;</span>Cypher Results</a></span></li></ul></li><li><span><a href=\"#Entity-Matching\" data-toc-modified-id=\"Entity-Matching-3\"><span class=\"toc-item-num\">3&nbsp;&nbsp;</span>Entity Matching</a></span><ul class=\"toc-item\"><li><span><a href=\"#Node-Matching-(Important)\" data-toc-modified-id=\"Node-Matching-(Important)-3.1\"><span class=\"toc-item-num\">3.1&nbsp;&nbsp;</span>Node Matching (Important)</a></span></li><li><span><a href=\"#Relationship-Matching\" data-toc-modified-id=\"Relationship-Matching-3.2\"><span class=\"toc-item-num\">3.2&nbsp;&nbsp;</span>Relationship Matching</a></span></li></ul></li><li><span><a href=\"#Object-Graph-Mapping-(Important)\" data-toc-modified-id=\"Object-Graph-Mapping-(Important)-4\"><span class=\"toc-item-num\">4&nbsp;&nbsp;</span>Object-Graph Mapping (Important)</a></span><ul class=\"toc-item\"><li><span><a href=\"#Graph-Objects\" data-toc-modified-id=\"Graph-Objects-4.1\"><span class=\"toc-item-num\">4.1&nbsp;&nbsp;</span>Graph Objects</a></span></li><li><span><a href=\"#Properties\" data-toc-modified-id=\"Properties-4.2\"><span class=\"toc-item-num\">4.2&nbsp;&nbsp;</span>Properties</a></span></li><li><span><a href=\"#Labels\" data-toc-modified-id=\"Labels-4.3\"><span class=\"toc-item-num\">4.3&nbsp;&nbsp;</span>Labels</a></span></li><li><span><a href=\"#Related-Objects\" data-toc-modified-id=\"Related-Objects-4.4\"><span class=\"toc-item-num\">4.4&nbsp;&nbsp;</span>Related Objects</a></span></li><li><span><a href=\"#Object-Matching\" data-toc-modified-id=\"Object-Matching-4.5\"><span class=\"toc-item-num\">4.5&nbsp;&nbsp;</span>Object Matching</a></span></li><li><span><a href=\"#Object-Operations\" data-toc-modified-id=\"Object-Operations-4.6\"><span class=\"toc-item-num\">4.6&nbsp;&nbsp;</span>Object Operations</a></span></li></ul></li><li><span><a href=\"#Cypher-Utilities\" data-toc-modified-id=\"Cypher-Utilities-5\"><span class=\"toc-item-num\">5&nbsp;&nbsp;</span>Cypher Utilities</a></span></li><li><span><a href=\"#Cypher-Lexer\" data-toc-modified-id=\"Cypher-Lexer-6\"><span class=\"toc-item-num\">6&nbsp;&nbsp;</span>Cypher Lexer</a></span></li><li><span><a href=\"#Summary\" data-toc-modified-id=\"Summary-7\"><span class=\"toc-item-num\">7&nbsp;&nbsp;</span>Summary</a></span><ul class=\"toc-item\"><li><span><a href=\"#Transactions\" data-toc-modified-id=\"Transactions-7.1\"><span class=\"toc-item-num\">7.1&nbsp;&nbsp;</span>Transactions</a></span></li><li><span><a href=\"#Graph\" data-toc-modified-id=\"Graph-7.2\"><span class=\"toc-item-num\">7.2&nbsp;&nbsp;</span>Graph</a></span></li><li><span><a href=\"#Matching\" data-toc-modified-id=\"Matching-7.3\"><span class=\"toc-item-num\">7.3&nbsp;&nbsp;</span>Matching</a></span></li><li><span><a href=\"#Object-Graph\" data-toc-modified-id=\"Object-Graph-7.4\"><span class=\"toc-item-num\">7.4&nbsp;&nbsp;</span>Object-Graph</a></span></li></ul></li></ul></div>"
   ]
  },
  {
   "cell_type": "markdown",
   "metadata": {},
   "source": [
    "From [The Py2neo v4 Handbook — The Py2neo v4 Handbook](https://py2neo.org/v4/index.html)"
   ]
  },
  {
   "cell_type": "markdown",
   "metadata": {},
   "source": [
    "## Data Types"
   ]
  },
  {
   "cell_type": "markdown",
   "metadata": {},
   "source": [
    "### Node and Relationship (Important)\n",
    "\n",
    "Node: \n",
    "\n",
    "- contains a set of key-value pairs (properties)\n",
    "- can optionally be adorned with one or more textual labels\n",
    "\n",
    "Relationship:\n",
    "\n",
    "- typed, directed connection between a pair of nodes\n",
    "- may contain a set of properties"
   ]
  },
  {
   "cell_type": "code",
   "execution_count": 1,
   "metadata": {},
   "outputs": [],
   "source": [
    "from py2neo.data import Node, Relationship"
   ]
  },
  {
   "cell_type": "code",
   "execution_count": 2,
   "metadata": {},
   "outputs": [
    {
     "data": {
      "text/plain": [
       "(Alice)-[:KNOWS {}]->(Bob)"
      ]
     },
     "execution_count": 2,
     "metadata": {},
     "output_type": "execute_result"
    }
   ],
   "source": [
    "a = Node(\"Person\", name=\"Alice\", age=50)\n",
    "b = Node(\"Person\", name=\"Bob\")\n",
    "ab = Relationship(a, \"KNOWS\", b)\n",
    "\n",
    "ab"
   ]
  },
  {
   "cell_type": "code",
   "execution_count": 3,
   "metadata": {},
   "outputs": [
    {
     "data": {
      "text/plain": [
       "False"
      ]
     },
     "execution_count": 3,
     "metadata": {},
     "output_type": "execute_result"
    }
   ],
   "source": [
    "a == b"
   ]
  },
  {
   "cell_type": "code",
   "execution_count": 4,
   "metadata": {},
   "outputs": [
    {
     "data": {
      "text/plain": [
       "4457041328"
      ]
     },
     "execution_count": 4,
     "metadata": {},
     "output_type": "execute_result"
    }
   ],
   "source": [
    "hash(a)"
   ]
  },
  {
   "cell_type": "code",
   "execution_count": 5,
   "metadata": {},
   "outputs": [
    {
     "data": {
      "text/plain": [
       "'Alice'"
      ]
     },
     "execution_count": 5,
     "metadata": {},
     "output_type": "execute_result"
    }
   ],
   "source": [
    "a['name']"
   ]
  },
  {
   "cell_type": "code",
   "execution_count": 6,
   "metadata": {},
   "outputs": [
    {
     "data": {
      "text/plain": [
       "2"
      ]
     },
     "execution_count": 6,
     "metadata": {},
     "output_type": "execute_result"
    }
   ],
   "source": [
    "len(a)"
   ]
  },
  {
   "cell_type": "code",
   "execution_count": 7,
   "metadata": {},
   "outputs": [
    {
     "data": {
      "text/plain": [
       "{'name': 'Alice', 'age': 50}"
      ]
     },
     "execution_count": 7,
     "metadata": {},
     "output_type": "execute_result"
    }
   ],
   "source": [
    "dict(a)"
   ]
  },
  {
   "cell_type": "code",
   "execution_count": 8,
   "metadata": {},
   "outputs": [
    {
     "data": {
      "text/plain": [
       "dict_items([('name', 'Alice'), ('age', 50)])"
      ]
     },
     "execution_count": 8,
     "metadata": {},
     "output_type": "execute_result"
    }
   ],
   "source": [
    "a.items()"
   ]
  },
  {
   "cell_type": "code",
   "execution_count": 9,
   "metadata": {},
   "outputs": [
    {
     "data": {
      "text/plain": [
       "dict_keys(['name', 'age'])"
      ]
     },
     "execution_count": 9,
     "metadata": {},
     "output_type": "execute_result"
    }
   ],
   "source": [
    "a.keys()"
   ]
  },
  {
   "cell_type": "code",
   "execution_count": 10,
   "metadata": {},
   "outputs": [
    {
     "data": {
      "text/plain": [
       ":Person"
      ]
     },
     "execution_count": 10,
     "metadata": {},
     "output_type": "execute_result"
    }
   ],
   "source": [
    "a.labels"
   ]
  },
  {
   "cell_type": "code",
   "execution_count": 11,
   "metadata": {},
   "outputs": [
    {
     "data": {
      "text/plain": [
       "True"
      ]
     },
     "execution_count": 11,
     "metadata": {},
     "output_type": "execute_result"
    }
   ],
   "source": [
    "a.has_label(\"Person\")"
   ]
  },
  {
   "cell_type": "code",
   "execution_count": 12,
   "metadata": {},
   "outputs": [],
   "source": [
    "a.add_label(\"Parent\")"
   ]
  },
  {
   "cell_type": "code",
   "execution_count": 13,
   "metadata": {},
   "outputs": [],
   "source": [
    "a.update_labels([\"Father\", \"Man\"])"
   ]
  },
  {
   "cell_type": "code",
   "execution_count": 14,
   "metadata": {},
   "outputs": [
    {
     "data": {
      "text/plain": [
       ":Father:Man:Parent:Person"
      ]
     },
     "execution_count": 14,
     "metadata": {},
     "output_type": "execute_result"
    }
   ],
   "source": [
    "a.labels"
   ]
  },
  {
   "cell_type": "code",
   "execution_count": 15,
   "metadata": {},
   "outputs": [
    {
     "data": {
      "text/plain": [
       "__main__.WorksWith"
      ]
     },
     "execution_count": 15,
     "metadata": {},
     "output_type": "execute_result"
    }
   ],
   "source": [
    "c = Node(\"Person\", name=\"Carol\")\n",
    "class WorksWith(Relationship): pass\n",
    "ac = WorksWith(a, c, roles=\"Boss\")\n",
    "type(ac)"
   ]
  },
  {
   "cell_type": "code",
   "execution_count": 16,
   "metadata": {},
   "outputs": [
    {
     "data": {
      "text/plain": [
       "dict_items([('roles', 'Boss')])"
      ]
     },
     "execution_count": 16,
     "metadata": {},
     "output_type": "execute_result"
    }
   ],
   "source": [
    "ac.items()"
   ]
  },
  {
   "cell_type": "code",
   "execution_count": 17,
   "metadata": {},
   "outputs": [
    {
     "data": {
      "text/plain": [
       "False"
      ]
     },
     "execution_count": 17,
     "metadata": {},
     "output_type": "execute_result"
    }
   ],
   "source": [
    "ab == ac"
   ]
  },
  {
   "cell_type": "code",
   "execution_count": 18,
   "metadata": {},
   "outputs": [
    {
     "data": {
      "text/plain": [
       "224687051137051574"
      ]
     },
     "execution_count": 18,
     "metadata": {},
     "output_type": "execute_result"
    }
   ],
   "source": [
    "hash(ac)"
   ]
  },
  {
   "cell_type": "code",
   "execution_count": 19,
   "metadata": {},
   "outputs": [
    {
     "data": {
      "text/plain": [
       "'Boss'"
      ]
     },
     "execution_count": 19,
     "metadata": {},
     "output_type": "execute_result"
    }
   ],
   "source": [
    "ac['roles']"
   ]
  },
  {
   "cell_type": "code",
   "execution_count": 20,
   "metadata": {},
   "outputs": [
    {
     "data": {
      "text/plain": [
       "1"
      ]
     },
     "execution_count": 20,
     "metadata": {},
     "output_type": "execute_result"
    }
   ],
   "source": [
    "len(ac)"
   ]
  },
  {
   "cell_type": "code",
   "execution_count": 21,
   "metadata": {},
   "outputs": [
    {
     "data": {
      "text/plain": [
       "{'roles': 'Boss'}"
      ]
     },
     "execution_count": 21,
     "metadata": {},
     "output_type": "execute_result"
    }
   ],
   "source": [
    "dict(ac)"
   ]
  },
  {
   "cell_type": "markdown",
   "metadata": {},
   "source": [
    "### Subgraph\n",
    "\n",
    "An arbitrary collectio of nodes and relationships.\n",
    "\n",
    "- must contain at least one node\n",
    "- `null subgraphs` should be repesented by `None`"
   ]
  },
  {
   "cell_type": "code",
   "execution_count": 22,
   "metadata": {},
   "outputs": [],
   "source": [
    "from py2neo.data import Subgraph"
   ]
  },
  {
   "cell_type": "code",
   "execution_count": 23,
   "metadata": {},
   "outputs": [],
   "source": [
    "s = ab | ac"
   ]
  },
  {
   "cell_type": "code",
   "execution_count": 24,
   "metadata": {},
   "outputs": [
    {
     "data": {
      "text/plain": [
       "[(Alice)-[:WorksWith {roles: 'Boss'}]->(Carol), (Alice)-[:KNOWS {}]->(Bob)]"
      ]
     },
     "execution_count": 24,
     "metadata": {},
     "output_type": "execute_result"
    }
   ],
   "source": [
    "list(s)"
   ]
  },
  {
   "cell_type": "code",
   "execution_count": 25,
   "metadata": {},
   "outputs": [
    {
     "data": {
      "text/plain": [
       "frozenset({'Father', 'Man', 'Parent', 'Person'})"
      ]
     },
     "execution_count": 25,
     "metadata": {},
     "output_type": "execute_result"
    }
   ],
   "source": [
    "s.labels"
   ]
  },
  {
   "cell_type": "code",
   "execution_count": 26,
   "metadata": {},
   "outputs": [
    {
     "data": {
      "text/plain": [
       "frozenset({'KNOWS', 'WorksWith'})"
      ]
     },
     "execution_count": 26,
     "metadata": {},
     "output_type": "execute_result"
    }
   ],
   "source": [
    "s.types()"
   ]
  },
  {
   "cell_type": "code",
   "execution_count": 27,
   "metadata": {},
   "outputs": [
    {
     "data": {
      "text/plain": [
       "frozenset({'age', 'name', 'roles'})"
      ]
     },
     "execution_count": 27,
     "metadata": {},
     "output_type": "execute_result"
    }
   ],
   "source": [
    "s.keys()"
   ]
  },
  {
   "cell_type": "code",
   "execution_count": 28,
   "metadata": {},
   "outputs": [
    {
     "data": {
      "text/plain": [
       "[(:Person {name: 'Carol'}),\n",
       " (:Father:Man:Parent:Person {age: 50, name: 'Alice'}),\n",
       " (:Person {name: 'Bob'})]"
      ]
     },
     "execution_count": 28,
     "metadata": {},
     "output_type": "execute_result"
    }
   ],
   "source": [
    "list(s.nodes)"
   ]
  },
  {
   "cell_type": "code",
   "execution_count": 29,
   "metadata": {},
   "outputs": [
    {
     "data": {
      "text/plain": [
       "[(Alice)-[:WorksWith {roles: 'Boss'}]->(Carol), (Alice)-[:KNOWS {}]->(Bob)]"
      ]
     },
     "execution_count": 29,
     "metadata": {},
     "output_type": "execute_result"
    }
   ],
   "source": [
    "list(s.relationships)"
   ]
  },
  {
   "cell_type": "code",
   "execution_count": 30,
   "metadata": {},
   "outputs": [],
   "source": [
    "# a | b => a or b\n",
    "# a & b => a and b\n",
    "# a - b => a not b\n",
    "# a ^ b => (a or b) - (a and b)"
   ]
  },
  {
   "cell_type": "markdown",
   "metadata": {},
   "source": [
    "### Path and other Walkable types\n",
    "\n",
    "A walkable is a Subgraph with added traversal information."
   ]
  },
  {
   "cell_type": "code",
   "execution_count": 31,
   "metadata": {},
   "outputs": [],
   "source": [
    "w = ab + Relationship(b, \"LIKES\", c) + ac"
   ]
  },
  {
   "cell_type": "code",
   "execution_count": 32,
   "metadata": {},
   "outputs": [
    {
     "data": {
      "text/plain": [
       "[(Alice)-[:KNOWS {}]->(Bob),\n",
       " (Bob)-[:LIKES {}]->(Carol),\n",
       " (Alice)-[:WorksWith {roles: 'Boss'}]->(Carol)]"
      ]
     },
     "execution_count": 32,
     "metadata": {},
     "output_type": "execute_result"
    }
   ],
   "source": [
    "list(w)"
   ]
  },
  {
   "cell_type": "markdown",
   "metadata": {},
   "source": [
    "### Record\n",
    "\n",
    "Can hold an ordered, keyed collections of values."
   ]
  },
  {
   "cell_type": "code",
   "execution_count": 201,
   "metadata": {},
   "outputs": [],
   "source": [
    "from py2neo.data import Record"
   ]
  },
  {
   "cell_type": "code",
   "execution_count": 207,
   "metadata": {},
   "outputs": [],
   "source": [
    "d = Record({\"name\": \"Yam\", \"age\": 20})"
   ]
  },
  {
   "cell_type": "code",
   "execution_count": 213,
   "metadata": {
    "scrolled": true
   },
   "outputs": [
    {
     "data": {
      "text/plain": [
       "'Yam'"
      ]
     },
     "execution_count": 213,
     "metadata": {},
     "output_type": "execute_result"
    }
   ],
   "source": [
    "d['name']"
   ]
  },
  {
   "cell_type": "code",
   "execution_count": 215,
   "metadata": {},
   "outputs": [
    {
     "data": {
      "text/plain": [
       "20"
      ]
     },
     "execution_count": 215,
     "metadata": {},
     "output_type": "execute_result"
    }
   ],
   "source": [
    "d[1]"
   ]
  },
  {
   "cell_type": "code",
   "execution_count": 216,
   "metadata": {},
   "outputs": [
    {
     "data": {
      "text/plain": [
       "2"
      ]
     },
     "execution_count": 216,
     "metadata": {},
     "output_type": "execute_result"
    }
   ],
   "source": [
    "len(d)"
   ]
  },
  {
   "cell_type": "code",
   "execution_count": 217,
   "metadata": {},
   "outputs": [
    {
     "data": {
      "text/plain": [
       "{'name': 'Yam', 'age': 20}"
      ]
     },
     "execution_count": 217,
     "metadata": {},
     "output_type": "execute_result"
    }
   ],
   "source": [
    "dict(d)"
   ]
  },
  {
   "cell_type": "code",
   "execution_count": 219,
   "metadata": {},
   "outputs": [
    {
     "data": {
      "text/plain": [
       "{'name': 'Yam', 'age': 20}"
      ]
     },
     "execution_count": 219,
     "metadata": {},
     "output_type": "execute_result"
    }
   ],
   "source": [
    "d.data()"
   ]
  },
  {
   "cell_type": "code",
   "execution_count": 220,
   "metadata": {},
   "outputs": [
    {
     "data": {
      "text/plain": [
       "{'age': 20}"
      ]
     },
     "execution_count": 220,
     "metadata": {},
     "output_type": "execute_result"
    }
   ],
   "source": [
    "d.data('age')"
   ]
  },
  {
   "cell_type": "code",
   "execution_count": 221,
   "metadata": {},
   "outputs": [
    {
     "data": {
      "text/plain": [
       "'Yam'"
      ]
     },
     "execution_count": 221,
     "metadata": {},
     "output_type": "execute_result"
    }
   ],
   "source": [
    "d.get('name')"
   ]
  },
  {
   "cell_type": "code",
   "execution_count": 223,
   "metadata": {},
   "outputs": [
    {
     "data": {
      "text/plain": [
       "1"
      ]
     },
     "execution_count": 223,
     "metadata": {},
     "output_type": "execute_result"
    }
   ],
   "source": [
    "d.index('age')"
   ]
  },
  {
   "cell_type": "code",
   "execution_count": 224,
   "metadata": {},
   "outputs": [
    {
     "data": {
      "text/plain": [
       "[('name', 'Yam'), ('age', 20)]"
      ]
     },
     "execution_count": 224,
     "metadata": {},
     "output_type": "execute_result"
    }
   ],
   "source": [
    "d.items()"
   ]
  },
  {
   "cell_type": "code",
   "execution_count": 227,
   "metadata": {},
   "outputs": [],
   "source": [
    "ds = d.to_subgraph()"
   ]
  },
  {
   "cell_type": "code",
   "execution_count": 231,
   "metadata": {},
   "outputs": [
    {
     "data": {
      "text/plain": [
       "['name', 'age']"
      ]
     },
     "execution_count": 231,
     "metadata": {},
     "output_type": "execute_result"
    }
   ],
   "source": [
    "d.keys()"
   ]
  },
  {
   "cell_type": "code",
   "execution_count": 230,
   "metadata": {},
   "outputs": [
    {
     "data": {
      "text/plain": [
       "['Yam', 20]"
      ]
     },
     "execution_count": 230,
     "metadata": {},
     "output_type": "execute_result"
    }
   ],
   "source": [
    "d.values()"
   ]
  },
  {
   "cell_type": "markdown",
   "metadata": {},
   "source": [
    "### Tabel\n",
    "\n",
    "Holds a list of Record, typically received as the result of a Cypher query."
   ]
  },
  {
   "cell_type": "code",
   "execution_count": 232,
   "metadata": {},
   "outputs": [],
   "source": [
    "from py2neo.data import Table"
   ]
  },
  {
   "cell_type": "code",
   "execution_count": 233,
   "metadata": {},
   "outputs": [],
   "source": [
    "e = Record({\"name\": \"Sam\", \"age\": 30})\n",
    "f = Record([(\"name\", \"Ruby\"), (\"age\", 20)])"
   ]
  },
  {
   "cell_type": "code",
   "execution_count": 251,
   "metadata": {},
   "outputs": [],
   "source": [
    "t = Table([e, f], keys=[\"name\", \"age\"])"
   ]
  },
  {
   "cell_type": "code",
   "execution_count": 252,
   "metadata": {},
   "outputs": [
    {
     "data": {
      "text/html": [
       "<table><tr><th>name</th><th>age</th></tr><tr><td style=\"text-align:left\">Sam</td><td style=\"text-align:right\">30</td></tr><tr><td style=\"text-align:left\">Ruby</td><td style=\"text-align:right\">20</td></tr></table>"
      ],
      "text/plain": [
       " name | age \n",
       "------|-----\n",
       " Sam  |  30 \n",
       " Ruby |  20 "
      ]
     },
     "execution_count": 252,
     "metadata": {},
     "output_type": "execute_result"
    }
   ],
   "source": [
    "t"
   ]
  },
  {
   "cell_type": "code",
   "execution_count": 253,
   "metadata": {},
   "outputs": [
    {
     "data": {
      "text/plain": [
       "2"
      ]
     },
     "execution_count": 253,
     "metadata": {},
     "output_type": "execute_result"
    }
   ],
   "source": [
    "len(t)"
   ]
  },
  {
   "cell_type": "code",
   "execution_count": 261,
   "metadata": {},
   "outputs": [
    {
     "data": {
      "text/plain": [
       "['name', 'age']"
      ]
     },
     "execution_count": 261,
     "metadata": {},
     "output_type": "execute_result"
    }
   ],
   "source": [
    "t.keys()"
   ]
  },
  {
   "cell_type": "code",
   "execution_count": 263,
   "metadata": {},
   "outputs": [
    {
     "data": {
      "text/plain": [
       "{'type': str, 'numeric': False, 'optional': False}"
      ]
     },
     "execution_count": 263,
     "metadata": {},
     "output_type": "execute_result"
    }
   ],
   "source": [
    "t.field('name')"
   ]
  },
  {
   "cell_type": "code",
   "execution_count": 264,
   "metadata": {},
   "outputs": [
    {
     "data": {
      "text/plain": [
       "' name | age \\r\\n------|-----\\r\\n Sam  |  30 \\r\\n Ruby |  20 \\r\\n'"
      ]
     },
     "execution_count": 264,
     "metadata": {},
     "output_type": "execute_result"
    }
   ],
   "source": [
    "repr(t)"
   ]
  },
  {
   "cell_type": "code",
   "execution_count": 277,
   "metadata": {},
   "outputs": [
    {
     "name": "stdout",
     "output_type": "stream",
     "text": [
      " Sam  | 30 \n",
      " Ruby | 20 \n"
     ]
    },
    {
     "data": {
      "text/plain": [
       "2"
      ]
     },
     "execution_count": 277,
     "metadata": {},
     "output_type": "execute_result"
    }
   ],
   "source": [
    "t.write()"
   ]
  },
  {
   "cell_type": "code",
   "execution_count": 278,
   "metadata": {},
   "outputs": [
    {
     "name": "stdout",
     "output_type": "stream",
     "text": [
      "<table><tr><td style=\"text-align:left\">Sam</td><td style=\"text-align:right\">30</td></tr><tr><td style=\"text-align:left\">Ruby</td><td style=\"text-align:right\">20</td></tr></table>"
     ]
    },
    {
     "data": {
      "text/plain": [
       "2"
      ]
     },
     "execution_count": 278,
     "metadata": {},
     "output_type": "execute_result"
    }
   ],
   "source": [
    "t.write_html()"
   ]
  },
  {
   "cell_type": "code",
   "execution_count": 274,
   "metadata": {},
   "outputs": [
    {
     "name": "stdout",
     "output_type": "stream",
     "text": [
      "Sam,30\n",
      "Ruby,20\n"
     ]
    },
    {
     "data": {
      "text/plain": [
       "2"
      ]
     },
     "execution_count": 274,
     "metadata": {},
     "output_type": "execute_result"
    }
   ],
   "source": [
    "t.write_csv()"
   ]
  },
  {
   "cell_type": "markdown",
   "metadata": {},
   "source": [
    "## Graph Databases\n",
    "\n",
    "Graph class represents a Neo4j Graph database instance and provides access to a large portion of the most commonly used py2neo API."
   ]
  },
  {
   "cell_type": "code",
   "execution_count": 279,
   "metadata": {},
   "outputs": [],
   "source": [
    "from py2neo import Graph"
   ]
  },
  {
   "cell_type": "code",
   "execution_count": 284,
   "metadata": {},
   "outputs": [],
   "source": [
    "graph = Graph(password=\"password\") # my neo4j server password"
   ]
  },
  {
   "cell_type": "code",
   "execution_count": 285,
   "metadata": {},
   "outputs": [
    {
     "data": {
      "text/html": [
       "<table><tr><th>n</th><th>n_sq</th></tr><tr><td style=\"text-align:right\">1</td><td style=\"text-align:right\">1</td></tr><tr><td style=\"text-align:right\">2</td><td style=\"text-align:right\">4</td></tr><tr><td style=\"text-align:right\">3</td><td style=\"text-align:right\">9</td></tr></table>"
      ],
      "text/plain": [
       " n | n_sq \n",
       "---|------\n",
       " 1 |    1 \n",
       " 2 |    4 \n",
       " 3 |    9 "
      ]
     },
     "execution_count": 285,
     "metadata": {},
     "output_type": "execute_result"
    }
   ],
   "source": [
    "graph.run(\"UNWIND range(1, 3) AS n RETURN n, n * n as n_sq\").to_table()"
   ]
  },
  {
   "cell_type": "markdown",
   "metadata": {},
   "source": [
    "### The Database\n",
    "\n",
    "Accessor for an entire Neo4j graph database installation over Bolt or HTTP."
   ]
  },
  {
   "cell_type": "code",
   "execution_count": 231,
   "metadata": {},
   "outputs": [],
   "source": [
    "from py2neo.database import Database\n",
    "# from py2neo import Database"
   ]
  },
  {
   "cell_type": "code",
   "execution_count": 288,
   "metadata": {},
   "outputs": [],
   "source": [
    "db = Database(\"bolt://localhost:7687\") # also the default value\n",
    "db = Database()"
   ]
  },
  {
   "cell_type": "code",
   "execution_count": 289,
   "metadata": {},
   "outputs": [
    {
     "data": {
      "text/plain": [
       "<Database uri='bolt://localhost:7687' secure=False user_agent='py2neo/4.3.0 neobolt/1.7.13 Python/3.7.2-final-0 (darwin)'>"
      ]
     },
     "execution_count": 289,
     "metadata": {},
     "output_type": "execute_result"
    }
   ],
   "source": [
    "db"
   ]
  },
  {
   "cell_type": "code",
   "execution_count": 291,
   "metadata": {},
   "outputs": [],
   "source": [
    "# db.config"
   ]
  },
  {
   "cell_type": "code",
   "execution_count": 292,
   "metadata": {},
   "outputs": [
    {
     "data": {
      "text/plain": [
       "<Graph database=<Database uri='bolt://localhost:7687' secure=False user_agent='py2neo/4.3.0 neobolt/1.7.13 Python/3.7.2-final-0 (darwin)'> name='data'>"
      ]
     },
     "execution_count": 292,
     "metadata": {},
     "output_type": "execute_result"
    }
   ],
   "source": [
    "db.default_graph"
   ]
  },
  {
   "cell_type": "code",
   "execution_count": 293,
   "metadata": {},
   "outputs": [
    {
     "data": {
      "text/plain": [
       "datetime.datetime(2019, 8, 29, 11, 14, 11, 527000)"
      ]
     },
     "execution_count": 293,
     "metadata": {},
     "output_type": "execute_result"
    }
   ],
   "source": [
    "db.kernel_start_time"
   ]
  },
  {
   "cell_type": "code",
   "execution_count": 294,
   "metadata": {},
   "outputs": [
    {
     "data": {
      "text/plain": [
       "(3, 5, 8)"
      ]
     },
     "execution_count": 294,
     "metadata": {},
     "output_type": "execute_result"
    }
   ],
   "source": [
    "db.kernel_version"
   ]
  },
  {
   "cell_type": "code",
   "execution_count": 295,
   "metadata": {},
   "outputs": [
    {
     "data": {
      "text/plain": [
       "['data']"
      ]
     },
     "execution_count": 295,
     "metadata": {},
     "output_type": "execute_result"
    }
   ],
   "source": [
    "db.keys()"
   ]
  },
  {
   "cell_type": "code",
   "execution_count": 296,
   "metadata": {},
   "outputs": [
    {
     "data": {
      "text/plain": [
       "'graph.db'"
      ]
     },
     "execution_count": 296,
     "metadata": {},
     "output_type": "execute_result"
    }
   ],
   "source": [
    "db.name"
   ]
  },
  {
   "cell_type": "code",
   "execution_count": 297,
   "metadata": {},
   "outputs": [
    {
     "data": {
      "text/plain": [
       "{'NumberOfPropertyIdsInUse': 40,\n",
       " 'NumberOfRelationshipIdsInUse': 40,\n",
       " 'NumberOfNodeIdsInUse': 40,\n",
       " 'NumberOfRelationshipTypeIdsInUse': 1}"
      ]
     },
     "execution_count": 297,
     "metadata": {},
     "output_type": "execute_result"
    }
   ],
   "source": [
    "db.primitive_counts"
   ]
  },
  {
   "cell_type": "code",
   "execution_count": 298,
   "metadata": {},
   "outputs": [
    {
     "data": {
      "text/plain": [
       "'neo4j-kernel, version: 3.5.8,6cd2ad1ef0d166e3ecfb61577dacd502b9b7e279'"
      ]
     },
     "execution_count": 298,
     "metadata": {},
     "output_type": "execute_result"
    }
   ],
   "source": [
    "db.product"
   ]
  },
  {
   "cell_type": "code",
   "execution_count": 299,
   "metadata": {},
   "outputs": [
    {
     "data": {
      "text/plain": [
       "<bound method Database.query_jmx of <Database uri='bolt://localhost:7687' secure=False user_agent='py2neo/4.3.0 neobolt/1.7.13 Python/3.7.2-final-0 (darwin)'>>"
      ]
     },
     "execution_count": 299,
     "metadata": {},
     "output_type": "execute_result"
    }
   ],
   "source": [
    "db.query_jmx"
   ]
  },
  {
   "cell_type": "code",
   "execution_count": 300,
   "metadata": {},
   "outputs": [
    {
     "data": {
      "text/plain": [
       "datetime.datetime(2019, 8, 29, 11, 14, 8, 207000)"
      ]
     },
     "execution_count": 300,
     "metadata": {},
     "output_type": "execute_result"
    }
   ],
   "source": [
    "db.store_creation_time"
   ]
  },
  {
   "cell_type": "code",
   "execution_count": 301,
   "metadata": {},
   "outputs": [
    {
     "data": {
      "text/plain": [
       "{'LogicalLogSize': 2714,\n",
       " 'StringStoreSize': 8192,\n",
       " 'ArrayStoreSize': 8192,\n",
       " 'RelationshipStoreSize': 8160,\n",
       " 'PropertyStoreSize': 8159,\n",
       " 'TotalStoreSize': 175352,\n",
       " 'NodeStoreSize': 8190}"
      ]
     },
     "execution_count": 301,
     "metadata": {},
     "output_type": "execute_result"
    }
   ],
   "source": [
    "db.store_file_sizes"
   ]
  },
  {
   "cell_type": "code",
   "execution_count": 302,
   "metadata": {},
   "outputs": [
    {
     "data": {
      "text/plain": [
       "'8a1765f79d81ae75'"
      ]
     },
     "execution_count": 302,
     "metadata": {},
     "output_type": "execute_result"
    }
   ],
   "source": [
    "db.store_id"
   ]
  },
  {
   "cell_type": "code",
   "execution_count": 303,
   "metadata": {},
   "outputs": [
    {
     "data": {
      "text/plain": [
       "'bolt://localhost:7687'"
      ]
     },
     "execution_count": 303,
     "metadata": {},
     "output_type": "execute_result"
    }
   ],
   "source": [
    "db.uri"
   ]
  },
  {
   "cell_type": "markdown",
   "metadata": {},
   "source": [
    "### The Graph (Important)\n",
    "\n",
    "Represents the graph data storage space within a Neo4j graph database.\n",
    "\n",
    "**The most important part below is `match` and `exists`**"
   ]
  },
  {
   "cell_type": "code",
   "execution_count": 22,
   "metadata": {},
   "outputs": [],
   "source": [
    "from py2neo import Graph"
   ]
  },
  {
   "cell_type": "code",
   "execution_count": 23,
   "metadata": {},
   "outputs": [],
   "source": [
    "g = Graph() # default password is \"password\""
   ]
  },
  {
   "cell_type": "code",
   "execution_count": 32,
   "metadata": {},
   "outputs": [],
   "source": [
    "# begin a new transaction\n",
    "tx = g.begin()"
   ]
  },
  {
   "cell_type": "code",
   "execution_count": 33,
   "metadata": {},
   "outputs": [],
   "source": [
    "# run a Transaction.create() operation \n",
    "tx.create(ab | ac)\n",
    "tx.commit()"
   ]
  },
  {
   "cell_type": "code",
   "execution_count": 35,
   "metadata": {},
   "outputs": [
    {
     "data": {
      "text/plain": [
       "<Database uri='bolt://localhost:7687' secure=False user_agent='py2neo/4.3.0 neobolt/1.7.13 Python/3.7.2-final-0 (darwin)'>"
      ]
     },
     "execution_count": 35,
     "metadata": {},
     "output_type": "execute_result"
    }
   ],
   "source": [
    "g.database"
   ]
  },
  {
   "cell_type": "code",
   "execution_count": 36,
   "metadata": {},
   "outputs": [
    {
     "data": {
      "text/plain": [
       "(_41:Father:Man:Parent:Person {age: 50, name: 'Alice'})"
      ]
     },
     "execution_count": 36,
     "metadata": {},
     "output_type": "execute_result"
    }
   ],
   "source": [
    "# g.evaluate(cypher, parameters=None, **kwparameters)\n",
    "# Run a Transaction.evaluate() operation within an autocommit Transaction.\n",
    "# Run g.create(s) first, then\n",
    "g.evaluate(\"MATCH (m:Person) RETURN m\")"
   ]
  },
  {
   "cell_type": "code",
   "execution_count": 38,
   "metadata": {
    "scrolled": true
   },
   "outputs": [
    {
     "data": {
      "text/plain": [
       "True"
      ]
     },
     "execution_count": 38,
     "metadata": {},
     "output_type": "execute_result"
    }
   ],
   "source": [
    "g.exists(ab | ac)"
   ]
  },
  {
   "cell_type": "code",
   "execution_count": 39,
   "metadata": {},
   "outputs": [
    {
     "data": {
      "text/plain": [
       "True"
      ]
     },
     "execution_count": 39,
     "metadata": {},
     "output_type": "execute_result"
    }
   ],
   "source": [
    "g.exists(ab)"
   ]
  },
  {
   "cell_type": "code",
   "execution_count": 40,
   "metadata": {
    "scrolled": true
   },
   "outputs": [
    {
     "data": {
      "text/plain": [
       "True"
      ]
     },
     "execution_count": 40,
     "metadata": {},
     "output_type": "execute_result"
    }
   ],
   "source": [
    "g.exists(b)"
   ]
  },
  {
   "cell_type": "code",
   "execution_count": 41,
   "metadata": {},
   "outputs": [
    {
     "name": "stdout",
     "output_type": "stream",
     "text": [
      "(Alice)-[:WorksWith {roles: 'Boss'}]->(Carol)\n",
      "(Alice)-[:KNOWS {}]->(Bob)\n"
     ]
    }
   ],
   "source": [
    "# Match and return all relationships with specific criteria.\n",
    "for rel in g.match():\n",
    "    print(rel)"
   ]
  },
  {
   "cell_type": "code",
   "execution_count": 42,
   "metadata": {
    "scrolled": true
   },
   "outputs": [
    {
     "data": {
      "text/plain": [
       "(_41:Father:Man:Parent:Person {age: 50, name: 'Alice'})"
      ]
     },
     "execution_count": 42,
     "metadata": {},
     "output_type": "execute_result"
    }
   ],
   "source": [
    "a"
   ]
  },
  {
   "cell_type": "code",
   "execution_count": 43,
   "metadata": {},
   "outputs": [
    {
     "name": "stdout",
     "output_type": "stream",
     "text": [
      "(Alice)-[:WorksWith {roles: 'Boss'}]->(Carol) || Carol\n",
      "(Alice)-[:KNOWS {}]->(Bob) || Bob\n"
     ]
    }
   ],
   "source": [
    "for rel in g.match((a, )):\n",
    "    print(rel, \"||\", rel.end_node['name'])"
   ]
  },
  {
   "cell_type": "code",
   "execution_count": 44,
   "metadata": {
    "scrolled": true
   },
   "outputs": [
    {
     "data": {
      "text/plain": [
       "(Alice)-[:KNOWS {}]->(Bob)"
      ]
     },
     "execution_count": 44,
     "metadata": {},
     "output_type": "execute_result"
    }
   ],
   "source": [
    "g.match_one((a, ), r_type=\"KNOWS\")"
   ]
  },
  {
   "cell_type": "code",
   "execution_count": 45,
   "metadata": {},
   "outputs": [
    {
     "data": {
      "text/plain": [
       "3"
      ]
     },
     "execution_count": 45,
     "metadata": {},
     "output_type": "execute_result"
    }
   ],
   "source": [
    "len(g.nodes)"
   ]
  },
  {
   "cell_type": "code",
   "execution_count": 46,
   "metadata": {
    "scrolled": true
   },
   "outputs": [
    {
     "data": {
      "text/plain": [
       "1"
      ]
     },
     "execution_count": 46,
     "metadata": {},
     "output_type": "execute_result"
    }
   ],
   "source": [
    "len(g.nodes.match(\"Person\", age=50))"
   ]
  },
  {
   "cell_type": "code",
   "execution_count": 48,
   "metadata": {},
   "outputs": [
    {
     "data": {
      "text/plain": [
       "(_41:Father:Man:Parent:Person {age: 50, name: 'Alice'})"
      ]
     },
     "execution_count": 48,
     "metadata": {},
     "output_type": "execute_result"
    }
   ],
   "source": [
    "g.nodes[41]"
   ]
  },
  {
   "cell_type": "code",
   "execution_count": 49,
   "metadata": {},
   "outputs": [
    {
     "data": {
      "text/plain": [
       "(_41:Father:Man:Parent:Person {age: 50, name: 'Alice'})"
      ]
     },
     "execution_count": 49,
     "metadata": {},
     "output_type": "execute_result"
    }
   ],
   "source": [
    "g.nodes.get(41)"
   ]
  },
  {
   "cell_type": "code",
   "execution_count": 50,
   "metadata": {},
   "outputs": [
    {
     "data": {
      "text/plain": [
       "(_41:Father:Man:Parent:Person {age: 50, name: 'Alice'})"
      ]
     },
     "execution_count": 50,
     "metadata": {},
     "output_type": "execute_result"
    }
   ],
   "source": [
    "g.nodes.match(\"Person\", name=\"Alice\").first()"
   ]
  },
  {
   "cell_type": "code",
   "execution_count": 51,
   "metadata": {},
   "outputs": [
    {
     "data": {
      "text/plain": [
       "(Alice)-[:KNOWS {}]->(Bob)"
      ]
     },
     "execution_count": 51,
     "metadata": {},
     "output_type": "execute_result"
    }
   ],
   "source": [
    "g.relationships.match((a,), r_type=\"KNOWS\").first()"
   ]
  },
  {
   "cell_type": "code",
   "execution_count": 30,
   "metadata": {},
   "outputs": [],
   "source": [
    "g.delete(ab | ac)"
   ]
  },
  {
   "cell_type": "code",
   "execution_count": 4,
   "metadata": {},
   "outputs": [],
   "source": [
    "# delete all nodes and relationships and cannot be undone\n",
    "g.delete_all()"
   ]
  },
  {
   "cell_type": "code",
   "execution_count": 6,
   "metadata": {
    "code_folding": []
   },
   "outputs": [],
   "source": [
    "# merge: Run a Transaction.merge() operation within an autocommit Transaction.\n",
    "from py2neo import Graph, Node, Relationship\n",
    "g = Graph()\n",
    "p1 = Node(\"Person\", name=\"Alice\", age=33)\n",
    "p2 = Node(\"Person\", name=\"Bob\", age=44)\n",
    "KNOWS = Relationship.type(\"KNOWS\")\n",
    "g.merge(KNOWS(p1, p2), \"Person\", \"name\")\n",
    "\n",
    "pc = Node(\"Company\", name=\"ACME\")\n",
    "pc.__primarylabel__ = \"Company\"\n",
    "pc.__primarykey__ = \"name\"\n",
    "WORKS_FOR = Relationship.type(\"WORKS_FOR\")\n",
    "\n",
    "g.merge(WORKS_FOR(p1, pc) | WORKS_FOR(p2, pc))"
   ]
  },
  {
   "cell_type": "code",
   "execution_count": 12,
   "metadata": {},
   "outputs": [
    {
     "name": "stdout",
     "output_type": "stream",
     "text": [
      "Alice ACME\n"
     ]
    }
   ],
   "source": [
    "for rel in g.match((p1, ), r_type=\"WORKS_FOR\"):\n",
    "    print(rel.start_node['name'], rel.end_node['name'])"
   ]
  },
  {
   "cell_type": "code",
   "execution_count": null,
   "metadata": {},
   "outputs": [],
   "source": [
    "# MATCH (a:Person {name: \"Alice\"}) -[r:WORKS_FOR]->(c:Company)\n",
    "# RETURN a, c"
   ]
  },
  {
   "cell_type": "markdown",
   "metadata": {},
   "source": [
    "### Transactions (Important)"
   ]
  },
  {
   "cell_type": "code",
   "execution_count": 34,
   "metadata": {},
   "outputs": [],
   "source": [
    "g.delete_all()"
   ]
  },
  {
   "cell_type": "code",
   "execution_count": 345,
   "metadata": {},
   "outputs": [],
   "source": [
    "# It's the same as \"merge\" above\n",
    "from py2neo import Graph, Node, Relationship\n",
    "class WorksWith(Relationship): pass\n",
    "\n",
    "g = Graph()\n",
    "tx = g.begin()\n",
    "a = Node(\"Person\", name=\"Alice\")\n",
    "b = Node(\"Person\", name=\"Bob\")\n",
    "c = Node(\"Company\", name=\"ACME\")\n",
    "ab = Relationship(a, \"KNOWS\", b)\n",
    "ac = Relationship(a, \"WORKS_FOR\", c)\n",
    "bc = WorksWith(b, c)\n",
    "tx.create(ab | ac | bc)\n",
    "# tx.create(ab)\n",
    "# tx.create(ac)\n",
    "# tx.create(bc)\n",
    "tx.commit()\n",
    "assert tx.finished() == True"
   ]
  },
  {
   "cell_type": "markdown",
   "metadata": {},
   "source": [
    "### Cypher Results\n",
    "\n",
    "A Cursor is a navigator for a stream of records."
   ]
  },
  {
   "cell_type": "code",
   "execution_count": 232,
   "metadata": {},
   "outputs": [],
   "source": [
    "from py2neo.database import Cursor"
   ]
  },
  {
   "cell_type": "code",
   "execution_count": 48,
   "metadata": {},
   "outputs": [
    {
     "name": "stdout",
     "output_type": "stream",
     "text": [
      "[{'a.name': 'Alice'}, {'a.name': 'Alice'}, {'a.name': 'Bob'}]\n"
     ]
    }
   ],
   "source": [
    "cursor = graph.run(\"MATCH (a:Person) RETURN a.name LIMIT 4\")\n",
    "print(cursor.data())\n",
    "while cursor.forward():\n",
    "    print(cursor.data())"
   ]
  },
  {
   "cell_type": "code",
   "execution_count": 46,
   "metadata": {
    "scrolled": true
   },
   "outputs": [
    {
     "name": "stdout",
     "output_type": "stream",
     "text": [
      "Alice\n",
      "Alice\n",
      "Bob\n"
     ]
    }
   ],
   "source": [
    "cursor = graph.run(\"MATCH (a:Person) RETURN a.name as name LIMIT 4\")\n",
    "for record in cursor:\n",
    "    print(record['name'])"
   ]
  },
  {
   "cell_type": "code",
   "execution_count": 45,
   "metadata": {},
   "outputs": [
    {
     "name": "stdout",
     "output_type": "stream",
     "text": [
      "Alice\n"
     ]
    }
   ],
   "source": [
    "cursor = graph.run(\"MATCH (a:Person) RETURN a.name as name LIMIT 4\")\n",
    "print(cursor.evaluate())"
   ]
  },
  {
   "cell_type": "code",
   "execution_count": 8,
   "metadata": {},
   "outputs": [
    {
     "data": {
      "text/plain": [
       "[{'a.name': 'Alice', 'a.born': None}, {'a.name': 'Bob', 'a.born': None}]"
      ]
     },
     "execution_count": 8,
     "metadata": {},
     "output_type": "execute_result"
    }
   ],
   "source": [
    "graph = Graph()\n",
    "graph.run(\"MATCH (a:Person) RETURN a.name, a.born LIMIT 4\").data()"
   ]
  },
  {
   "cell_type": "code",
   "execution_count": 12,
   "metadata": {},
   "outputs": [
    {
     "data": {
      "text/plain": [
       "'Bob'"
      ]
     },
     "execution_count": 12,
     "metadata": {},
     "output_type": "execute_result"
    }
   ],
   "source": [
    "graph.run(\"MATCH (a) WHERE a.name={x} RETURN a.name\", x=\"Bob\").evaluate()"
   ]
  },
  {
   "cell_type": "code",
   "execution_count": 13,
   "metadata": {
    "scrolled": true
   },
   "outputs": [
    {
     "data": {
      "text/plain": [
       "constraints_added: 0\n",
       "constraints_removed: 0\n",
       "contained_updates: True\n",
       "indexes_added: 0\n",
       "indexes_removed: 0\n",
       "labels_added: 1\n",
       "labels_removed: 0\n",
       "nodes_created: 1\n",
       "nodes_deleted: 0\n",
       "properties_set: 1\n",
       "relationships_created: 0\n",
       "relationships_deleted: 0"
      ]
     },
     "execution_count": 13,
     "metadata": {},
     "output_type": "execute_result"
    }
   ],
   "source": [
    "graph.run(\"CREATE (a:Person) SET a.name = 'Alice'\").stats()"
   ]
  },
  {
   "cell_type": "code",
   "execution_count": 14,
   "metadata": {
    "scrolled": true
   },
   "outputs": [
    {
     "data": {
      "text/html": [
       "<div>\n",
       "<style scoped>\n",
       "    .dataframe tbody tr th:only-of-type {\n",
       "        vertical-align: middle;\n",
       "    }\n",
       "\n",
       "    .dataframe tbody tr th {\n",
       "        vertical-align: top;\n",
       "    }\n",
       "\n",
       "    .dataframe thead th {\n",
       "        text-align: right;\n",
       "    }\n",
       "</style>\n",
       "<table border=\"1\" class=\"dataframe\">\n",
       "  <thead>\n",
       "    <tr style=\"text-align: right;\">\n",
       "      <th></th>\n",
       "      <th>a.born</th>\n",
       "      <th>a.name</th>\n",
       "    </tr>\n",
       "  </thead>\n",
       "  <tbody>\n",
       "    <tr>\n",
       "      <th>0</th>\n",
       "      <td>None</td>\n",
       "      <td>Alice</td>\n",
       "    </tr>\n",
       "    <tr>\n",
       "      <th>1</th>\n",
       "      <td>None</td>\n",
       "      <td>Alice</td>\n",
       "    </tr>\n",
       "    <tr>\n",
       "      <th>2</th>\n",
       "      <td>None</td>\n",
       "      <td>Bob</td>\n",
       "    </tr>\n",
       "  </tbody>\n",
       "</table>\n",
       "</div>"
      ],
      "text/plain": [
       "  a.born a.name\n",
       "0   None  Alice\n",
       "1   None  Alice\n",
       "2   None    Bob"
      ]
     },
     "execution_count": 14,
     "metadata": {},
     "output_type": "execute_result"
    }
   ],
   "source": [
    "graph.run(\"MATCH (a:Person) RETURN a.name, a.born LIMIT 4\").to_data_frame()"
   ]
  },
  {
   "cell_type": "markdown",
   "metadata": {},
   "source": [
    "## Entity Matching\n",
    "\n",
    "For each entity type, a `Matcher` class and a `Match` class are provided. \n",
    "The `Matcher` can be used to perform a basic selection, returning a `Match` that can be evaluated or further refined."
   ]
  },
  {
   "cell_type": "markdown",
   "metadata": {},
   "source": [
    "### Node Matching (Important)\n",
    "\n",
    "- `matcher.match()`\n",
    "- `matcher.match().where(a condition expression or simple property **euqalities**)`\n",
    "\n",
    "We can add conditions in the `match()`, also leave it blank.  \n",
    "In my opinion, we could add some basic condition in the `match()`, for example label \"Person\", \n",
    "other next conditions will add to the `where()`.  \n",
    "After that, we could use `order_by()` to get the ordered list.\n",
    "\n",
    "`NodeMatcher(graph)` returns a `NodeMatch` instance, so we'd better use `NodeMatcher`."
   ]
  },
  {
   "cell_type": "code",
   "execution_count": 207,
   "metadata": {},
   "outputs": [],
   "source": [
    "from py2neo import Graph, NodeMatcher"
   ]
  },
  {
   "cell_type": "code",
   "execution_count": 296,
   "metadata": {},
   "outputs": [],
   "source": [
    "graph = Graph()"
   ]
  },
  {
   "cell_type": "code",
   "execution_count": 297,
   "metadata": {},
   "outputs": [],
   "source": [
    "matcher = NodeMatcher(graph)"
   ]
  },
  {
   "cell_type": "code",
   "execution_count": 210,
   "metadata": {},
   "outputs": [
    {
     "data": {
      "text/plain": [
       "(_1:Person {born: 1964, name: 'Keanu Reeves'})"
      ]
     },
     "execution_count": 210,
     "metadata": {},
     "output_type": "execute_result"
    }
   ],
   "source": [
    "matcher.__getitem__(1)"
   ]
  },
  {
   "cell_type": "code",
   "execution_count": 76,
   "metadata": {},
   "outputs": [
    {
     "data": {
      "text/plain": [
       "188"
      ]
     },
     "execution_count": 76,
     "metadata": {},
     "output_type": "execute_result"
    }
   ],
   "source": [
    "matcher.__len__()"
   ]
  },
  {
   "cell_type": "code",
   "execution_count": 77,
   "metadata": {},
   "outputs": [
    {
     "data": {
      "text/plain": [
       "188"
      ]
     },
     "execution_count": 77,
     "metadata": {},
     "output_type": "execute_result"
    }
   ],
   "source": [
    "len(matcher)"
   ]
  },
  {
   "cell_type": "code",
   "execution_count": 78,
   "metadata": {},
   "outputs": [
    {
     "data": {
      "text/plain": [
       "(_2:Person {born: 1967, name: 'Carrie-Anne Moss'})"
      ]
     },
     "execution_count": 78,
     "metadata": {},
     "output_type": "execute_result"
    }
   ],
   "source": [
    "matcher.get(2)"
   ]
  },
  {
   "cell_type": "code",
   "execution_count": 40,
   "metadata": {},
   "outputs": [
    {
     "data": {
      "text/plain": [
       "(_1:Person {born: 1964, name: 'Keanu Reeves'})"
      ]
     },
     "execution_count": 40,
     "metadata": {},
     "output_type": "execute_result"
    }
   ],
   "source": [
    "matcher.match(\"Person\", name=\"Keanu Reeves\").first()"
   ]
  },
  {
   "cell_type": "code",
   "execution_count": 44,
   "metadata": {},
   "outputs": [
    {
     "data": {
      "text/plain": [
       "(_19:Person {born: 1958, name: 'Kevin Bacon'})"
      ]
     },
     "execution_count": 44,
     "metadata": {},
     "output_type": "execute_result"
    }
   ],
   "source": [
    "# Explicit Equal, __exact, =\n",
    "matcher.match(\"Person\", name__exact=\"Kevin Bacon\").first()\n",
    "# MATCH (_:Person) WHERE _.name = “Kevin Bacon” RETURN _"
   ]
  },
  {
   "cell_type": "code",
   "execution_count": 42,
   "metadata": {},
   "outputs": [
    {
     "data": {
      "text/plain": [
       "(_19:Person {born: 1958, name: 'Kevin Bacon'})"
      ]
     },
     "execution_count": 42,
     "metadata": {},
     "output_type": "execute_result"
    }
   ],
   "source": [
    "# Not Euqal, __not, <>\n",
    "matcher.match(\"Person\", name__not=\"Rick Astley\").first()\n",
    "# MATCH (_:Person) WHERE _.name <> “Rick Astley” RETURN _"
   ]
  },
  {
   "cell_type": "code",
   "execution_count": 56,
   "metadata": {},
   "outputs": [
    {
     "data": {
      "text/plain": [
       "(_44:Person {born: 1996, name: 'Jonathan Lipnicki'})"
      ]
     },
     "execution_count": 56,
     "metadata": {},
     "output_type": "execute_result"
    }
   ],
   "source": [
    "# Greater than, __gt, >\n",
    "# also Less than, __lt, <\n",
    "matcher.match(\"Person\", born__gt=1985).first()\n",
    "# MATCH (_:Person) WHERE _.born > 1985 RETURN _"
   ]
  },
  {
   "cell_type": "code",
   "execution_count": 57,
   "metadata": {},
   "outputs": [
    {
     "data": {
      "text/plain": [
       "(_2:Person {born: 1967, name: 'Carrie-Anne Moss'})"
      ]
     },
     "execution_count": 57,
     "metadata": {},
     "output_type": "execute_result"
    }
   ],
   "source": [
    "# Greater than or equal to, __gte, >=\n",
    "# also Less than or equal to, _lte <=\n",
    "matcher.match(\"Person\", born__gte=1965).first()\n",
    "# MATCH (_:Person) WHERE _.born >= 1985 RETURN _"
   ]
  },
  {
   "cell_type": "code",
   "execution_count": 61,
   "metadata": {},
   "outputs": [
    {
     "data": {
      "text/plain": [
       "(_19:Person {born: 1958, name: 'Kevin Bacon'})"
      ]
     },
     "execution_count": 61,
     "metadata": {},
     "output_type": "execute_result"
    }
   ],
   "source": [
    "# Starts with, __startswith, STARTS WITH\n",
    "# also Ends with, __endswith, ENDS WITH\n",
    "matcher.match(\"Person\", name__startswith=\"Kevin\").first()\n",
    "# MATCH (_:Person) WHERE _.name STARTS WITH “Kevin” RETURN _"
   ]
  },
  {
   "cell_type": "code",
   "execution_count": 62,
   "metadata": {},
   "outputs": [
    {
     "data": {
      "text/plain": [
       "(_25:Person {born: 1967, name: 'James Marshall'})"
      ]
     },
     "execution_count": 62,
     "metadata": {},
     "output_type": "execute_result"
    }
   ],
   "source": [
    "# Contains, __contains, CONTAINS\n",
    "matcher.match(\"Person\", name__contains=\"James\").first()\n",
    "# MATCH (_:Person) HWERE _.name CONTAINS “James” RETURN _"
   ]
  },
  {
   "cell_type": "code",
   "execution_count": 141,
   "metadata": {},
   "outputs": [
    {
     "data": {
      "text/plain": [
       "[(_25:Person {born: 1967, name: 'James Marshall'}),\n",
       " (_55:Person {born: 1940, name: 'James L. Brooks'}),\n",
       " (_65:Person {born: 1940, name: 'James Cromwell'}),\n",
       " (_170:Person {name: 'James Thompson'})]"
      ]
     },
     "execution_count": 141,
     "metadata": {},
     "output_type": "execute_result"
    }
   ],
   "source": [
    "list(matcher.match(\"Person\", name__contains=\"James\"))"
   ]
  },
  {
   "cell_type": "code",
   "execution_count": 137,
   "metadata": {
    "scrolled": true
   },
   "outputs": [
    {
     "data": {
      "text/plain": [
       "[(_25:Person {born: 1967, name: 'James Marshall'})]"
      ]
     },
     "execution_count": 137,
     "metadata": {},
     "output_type": "execute_result"
    }
   ],
   "source": [
    "list(matcher.match(\"Person\", name__contains=\"James\", born__gt=1940))"
   ]
  },
  {
   "cell_type": "code",
   "execution_count": 66,
   "metadata": {},
   "outputs": [
    {
     "data": {
      "text/plain": [
       "[(_1:Person {born: 1964, name: 'Keanu Reeves'}),\n",
       " (_19:Person {born: 1958, name: 'Kevin Bacon'}),\n",
       " (_20:Person {born: 1966, name: 'Kiefer Sutherland'}),\n",
       " (_23:Person {born: 1957, name: 'Kevin Pollak'}),\n",
       " (_30:Person {born: 1957, name: 'Kelly McGillis'}),\n",
       " (_39:Person {born: 1962, name: 'Kelly Preston'}),\n",
       " (_184:Person {born: 1964, name: 'Keanu Reeves'}),\n",
       " (_185:Person {born: 1964, name: 'Keanu Reeves'})]"
      ]
     },
     "execution_count": 66,
     "metadata": {},
     "output_type": "execute_result"
    }
   ],
   "source": [
    "# NodeMatch.where()\n",
    "\n",
    "list(matcher.match(\"Person\").where(\"_.name =~ 'K.*'\"))"
   ]
  },
  {
   "cell_type": "code",
   "execution_count": 67,
   "metadata": {},
   "outputs": [
    {
     "data": {
      "text/plain": [
       "[(_1:Person {born: 1964, name: 'Keanu Reeves'}),\n",
       " (_185:Person {born: 1964, name: 'Keanu Reeves'}),\n",
       " (_184:Person {born: 1964, name: 'Keanu Reeves'})]"
      ]
     },
     "execution_count": 67,
     "metadata": {},
     "output_type": "execute_result"
    }
   ],
   "source": [
    "list(matcher.match(\"Person\").where(\"_.name =~ 'K.*'\").order_by(\"_.name\").limit(3))"
   ]
  },
  {
   "cell_type": "code",
   "execution_count": 142,
   "metadata": {},
   "outputs": [
    {
     "data": {
      "text/plain": [
       "8"
      ]
     },
     "execution_count": 142,
     "metadata": {},
     "output_type": "execute_result"
    }
   ],
   "source": [
    "len(matcher.match(\"Person\").where(\"_.name =~ 'K.*'\"))"
   ]
  },
  {
   "cell_type": "code",
   "execution_count": 211,
   "metadata": {},
   "outputs": [],
   "source": [
    "match = matcher.match(\"Person\", name__contains=\"James\")\n",
    "# match = matcher.match(\"Person\")\n",
    "# match = matcher.match(\"Person\").where(\"_.name =~ 'K.*'\")"
   ]
  },
  {
   "cell_type": "code",
   "execution_count": 212,
   "metadata": {
    "scrolled": true
   },
   "outputs": [
    {
     "data": {
      "text/plain": [
       "4"
      ]
     },
     "execution_count": 212,
     "metadata": {},
     "output_type": "execute_result"
    }
   ],
   "source": [
    "match.__len__()"
   ]
  },
  {
   "cell_type": "code",
   "execution_count": 96,
   "metadata": {},
   "outputs": [
    {
     "data": {
      "text/plain": [
       "4"
      ]
     },
     "execution_count": 96,
     "metadata": {},
     "output_type": "execute_result"
    }
   ],
   "source": [
    "len(match)"
   ]
  },
  {
   "cell_type": "code",
   "execution_count": 97,
   "metadata": {},
   "outputs": [
    {
     "data": {
      "text/plain": [
       "(_25:Person {born: 1967, name: 'James Marshall'})"
      ]
     },
     "execution_count": 97,
     "metadata": {},
     "output_type": "execute_result"
    }
   ],
   "source": [
    "match.first()"
   ]
  },
  {
   "cell_type": "code",
   "execution_count": 99,
   "metadata": {},
   "outputs": [
    {
     "data": {
      "text/plain": [
       "[(_25:Person {born: 1967, name: 'James Marshall'}),\n",
       " (_55:Person {born: 1940, name: 'James L. Brooks'}),\n",
       " (_65:Person {born: 1940, name: 'James Cromwell'})]"
      ]
     },
     "execution_count": 99,
     "metadata": {},
     "output_type": "execute_result"
    }
   ],
   "source": [
    "list(match.limit(3))"
   ]
  },
  {
   "cell_type": "code",
   "execution_count": 101,
   "metadata": {},
   "outputs": [
    {
     "data": {
      "text/plain": [
       "[(_65:Person {born: 1940, name: 'James Cromwell'}),\n",
       " (_55:Person {born: 1940, name: 'James L. Brooks'}),\n",
       " (_25:Person {born: 1967, name: 'James Marshall'}),\n",
       " (_170:Person {name: 'James Thompson'})]"
      ]
     },
     "execution_count": 101,
     "metadata": {},
     "output_type": "execute_result"
    }
   ],
   "source": [
    "list(match.order_by(\"_.name\"))"
   ]
  },
  {
   "cell_type": "code",
   "execution_count": 102,
   "metadata": {},
   "outputs": [
    {
     "data": {
      "text/plain": [
       "[(_65:Person {born: 1940, name: 'James Cromwell'}),\n",
       " (_170:Person {name: 'James Thompson'})]"
      ]
     },
     "execution_count": 102,
     "metadata": {},
     "output_type": "execute_result"
    }
   ],
   "source": [
    "list(match.skip(2))"
   ]
  },
  {
   "cell_type": "code",
   "execution_count": 110,
   "metadata": {},
   "outputs": [
    {
     "data": {
      "text/plain": [
       "[(_65:Person {born: 1940, name: 'James Cromwell'})]"
      ]
     },
     "execution_count": 110,
     "metadata": {},
     "output_type": "execute_result"
    }
   ],
   "source": [
    "list(match.where(\"_.name =~ 'James C.*'\"))"
   ]
  },
  {
   "cell_type": "code",
   "execution_count": 134,
   "metadata": {},
   "outputs": [
    {
     "data": {
      "text/plain": [
       "[(_65:Person {born: 1940, name: 'James Cromwell'})]"
      ]
     },
     "execution_count": 134,
     "metadata": {},
     "output_type": "execute_result"
    }
   ],
   "source": [
    "list(match.where(name=\"James Cromwell\"))"
   ]
  },
  {
   "cell_type": "code",
   "execution_count": 214,
   "metadata": {},
   "outputs": [],
   "source": [
    "match = matcher.match(\"Person\")"
   ]
  },
  {
   "cell_type": "code",
   "execution_count": 217,
   "metadata": {},
   "outputs": [
    {
     "data": {
      "text/plain": [
       "[(_2:Person {born: 1967, name: 'Carrie-Anne Moss'}),\n",
       " (_5:Person {born: 1967, name: 'Lilly Wachowski'}),\n",
       " (_25:Person {born: 1967, name: 'James Marshall'}),\n",
       " (_70:Person {born: 1967, name: 'Steve Zahn'}),\n",
       " (_120:Person {born: 1967, name: 'Ben Miles'}),\n",
       " (_148:Person {born: 1967, name: 'Philip Seymour Hoffman'}),\n",
       " (_160:Person {born: 1967, name: 'Julia Roberts'})]"
      ]
     },
     "execution_count": 217,
     "metadata": {},
     "output_type": "execute_result"
    }
   ],
   "source": [
    "list(match.where(born=1967))"
   ]
  },
  {
   "cell_type": "markdown",
   "metadata": {},
   "source": [
    "### Relationship Matching\n",
    "\n",
    "It's almost the same as Node Matching."
   ]
  },
  {
   "cell_type": "code",
   "execution_count": 230,
   "metadata": {},
   "outputs": [],
   "source": [
    "from py2neo import Graph\n",
    "from py2neo.matching import RelationshipMatcher"
   ]
  },
  {
   "cell_type": "code",
   "execution_count": 193,
   "metadata": {},
   "outputs": [],
   "source": [
    "graph = Graph()"
   ]
  },
  {
   "cell_type": "code",
   "execution_count": 194,
   "metadata": {},
   "outputs": [],
   "source": [
    "rmatcher = RelationshipMatcher(graph)"
   ]
  },
  {
   "cell_type": "code",
   "execution_count": 195,
   "metadata": {},
   "outputs": [
    {
     "data": {
      "text/plain": [
       "(Carrie-Anne Moss)-[:ACTED_IN {roles: ['Trinity']}]->(Bob)"
      ]
     },
     "execution_count": 195,
     "metadata": {},
     "output_type": "execute_result"
    }
   ],
   "source": [
    "rmatcher.__getitem__(1)"
   ]
  },
  {
   "cell_type": "code",
   "execution_count": 196,
   "metadata": {},
   "outputs": [
    {
     "data": {
      "text/plain": [
       "265"
      ]
     },
     "execution_count": 196,
     "metadata": {},
     "output_type": "execute_result"
    }
   ],
   "source": [
    "rmatcher.__len__()"
   ]
  },
  {
   "cell_type": "code",
   "execution_count": 197,
   "metadata": {},
   "outputs": [
    {
     "data": {
      "text/plain": [
       "265"
      ]
     },
     "execution_count": 197,
     "metadata": {},
     "output_type": "execute_result"
    }
   ],
   "source": [
    "len(rmatcher)"
   ]
  },
  {
   "cell_type": "code",
   "execution_count": 198,
   "metadata": {},
   "outputs": [
    {
     "data": {
      "text/plain": [
       "(John C. Reilly)-[:ACTED_IN {roles: ['Peter \"Pete\" Connelly']}]->(_141)"
      ]
     },
     "execution_count": 198,
     "metadata": {},
     "output_type": "execute_result"
    }
   ],
   "source": [
    "rmatcher.get(200)"
   ]
  },
  {
   "cell_type": "code",
   "execution_count": 199,
   "metadata": {},
   "outputs": [],
   "source": [
    "rmatch = rmatcher.match()"
   ]
  },
  {
   "cell_type": "code",
   "execution_count": 174,
   "metadata": {},
   "outputs": [
    {
     "data": {
      "text/plain": [
       "265"
      ]
     },
     "execution_count": 174,
     "metadata": {},
     "output_type": "execute_result"
    }
   ],
   "source": [
    "rmatch.__len__()"
   ]
  },
  {
   "cell_type": "code",
   "execution_count": 175,
   "metadata": {},
   "outputs": [
    {
     "data": {
      "text/plain": [
       "(Keanu Reeves)-[:ACTED_IN {roles: ['Julian Mercer']}]->(_154)"
      ]
     },
     "execution_count": 175,
     "metadata": {},
     "output_type": "execute_result"
    }
   ],
   "source": [
    "rmatch.first()"
   ]
  },
  {
   "cell_type": "code",
   "execution_count": 184,
   "metadata": {},
   "outputs": [
    {
     "data": {
      "text/plain": [
       "<py2neo.matching.RelationshipMatch at 0x10aa0f358>"
      ]
     },
     "execution_count": 184,
     "metadata": {},
     "output_type": "execute_result"
    }
   ],
   "source": [
    "rmatch.order_by(\"_.weight\")"
   ]
  },
  {
   "cell_type": "code",
   "execution_count": 202,
   "metadata": {},
   "outputs": [
    {
     "data": {
      "text/plain": [
       "[]"
      ]
     },
     "execution_count": 202,
     "metadata": {},
     "output_type": "execute_result"
    }
   ],
   "source": [
    "list(rmatch.where(\"_.weight >= 30\"))"
   ]
  },
  {
   "cell_type": "code",
   "execution_count": 189,
   "metadata": {},
   "outputs": [
    {
     "data": {
      "text/plain": [
       "[]"
      ]
     },
     "execution_count": 189,
     "metadata": {},
     "output_type": "execute_result"
    }
   ],
   "source": [
    "list(rmatch.where(since=1999))"
   ]
  },
  {
   "cell_type": "code",
   "execution_count": 206,
   "metadata": {},
   "outputs": [
    {
     "data": {
      "text/plain": [
       "[(Keanu Reeves)-[:ACTED_IN {roles: ['Julian Mercer']}]->(_154)]"
      ]
     },
     "execution_count": 206,
     "metadata": {},
     "output_type": "execute_result"
    }
   ],
   "source": [
    "list(rmatch.where(roles = [\"Julian Mercer\"]))"
   ]
  },
  {
   "cell_type": "markdown",
   "metadata": {},
   "source": [
    "## Object-Graph Mapping (Important)"
   ]
  },
  {
   "cell_type": "code",
   "execution_count": 228,
   "metadata": {},
   "outputs": [],
   "source": [
    "from py2neo.ogm import GraphObject, Property, RelatedFrom, RelatedTo"
   ]
  },
  {
   "cell_type": "code",
   "execution_count": 244,
   "metadata": {},
   "outputs": [],
   "source": [
    "class Movie(GraphObject):\n",
    "    __primarykey__ = \"title\"\n",
    "\n",
    "    title = Property()\n",
    "    tag_line = Property(\"tagline\") # tagline is the key (not tag_line)\n",
    "    released = Property()\n",
    "\n",
    "    actors = RelatedFrom(\"Person\", \"ACTED_IN\")\n",
    "    directors = RelatedFrom(\"Person\", \"DIRECTED\")\n",
    "    producers = RelatedFrom(\"Person\", \"PRODUCED\")\n",
    "\n",
    "\n",
    "class Person(GraphObject):\n",
    "    __primarykey__ = \"name\"\n",
    "\n",
    "    name = Property()\n",
    "    born = Property()\n",
    "\n",
    "    acted_in = RelatedTo(Movie)\n",
    "    directed = RelatedTo(Movie)\n",
    "    produced = RelatedTo(Movie)"
   ]
  },
  {
   "cell_type": "markdown",
   "metadata": {},
   "source": [
    "### Graph Objects\n",
    "\n",
    "\n",
    "At the heart of the py2neo OGM framework is the GraphObject.\n",
    "\n",
    "This is a base class for all classes that are to be mapped onto the graph database. \n",
    "\n",
    "Each GraphObject wraps a node as well as a set of pointers to RelatedObjects and the relationship details that connect them.\n",
    "\n",
    "A GraphObject instance may be constructed just like any other Python object but can also be matched from the database. \n",
    "\n",
    "Each instance may contain attributes that represent labels, nodes or related objects.\n"
   ]
  },
  {
   "cell_type": "code",
   "execution_count": 245,
   "metadata": {},
   "outputs": [],
   "source": [
    "graph = Graph()"
   ]
  },
  {
   "cell_type": "code",
   "execution_count": 248,
   "metadata": {},
   "outputs": [
    {
     "data": {
      "text/plain": [
       "[<Person name='Bob'>]"
      ]
     },
     "execution_count": 248,
     "metadata": {},
     "output_type": "execute_result"
    }
   ],
   "source": [
    "list(Person.match(graph, primary_value=\"Bob\"))"
   ]
  },
  {
   "cell_type": "code",
   "execution_count": 250,
   "metadata": {},
   "outputs": [
    {
     "data": {
      "text/plain": [
       "143"
      ]
     },
     "execution_count": 250,
     "metadata": {},
     "output_type": "execute_result"
    }
   ],
   "source": [
    "len(list(Person.match(graph)))"
   ]
  },
  {
   "cell_type": "markdown",
   "metadata": {},
   "source": [
    "### Properties"
   ]
  },
  {
   "cell_type": "code",
   "execution_count": 253,
   "metadata": {},
   "outputs": [],
   "source": [
    "class Person(GraphObject):\n",
    "    name = Property()"
   ]
  },
  {
   "cell_type": "code",
   "execution_count": 254,
   "metadata": {},
   "outputs": [],
   "source": [
    "alice = Person()"
   ]
  },
  {
   "cell_type": "code",
   "execution_count": 255,
   "metadata": {},
   "outputs": [],
   "source": [
    "alice.name = \"Alice Smith\""
   ]
  },
  {
   "cell_type": "code",
   "execution_count": 256,
   "metadata": {},
   "outputs": [
    {
     "data": {
      "text/plain": [
       "'Alice Smith'"
      ]
     },
     "execution_count": 256,
     "metadata": {},
     "output_type": "execute_result"
    }
   ],
   "source": [
    "alice.name"
   ]
  },
  {
   "cell_type": "markdown",
   "metadata": {},
   "source": [
    "### Labels"
   ]
  },
  {
   "cell_type": "code",
   "execution_count": 259,
   "metadata": {},
   "outputs": [],
   "source": [
    "from py2neo.ogm import Label"
   ]
  },
  {
   "cell_type": "code",
   "execution_count": 260,
   "metadata": {},
   "outputs": [],
   "source": [
    "class Food(GraphObject):\n",
    "    hot = Label()"
   ]
  },
  {
   "cell_type": "code",
   "execution_count": 261,
   "metadata": {},
   "outputs": [],
   "source": [
    "pizza = Food()"
   ]
  },
  {
   "cell_type": "code",
   "execution_count": 262,
   "metadata": {},
   "outputs": [
    {
     "data": {
      "text/plain": [
       "False"
      ]
     },
     "execution_count": 262,
     "metadata": {},
     "output_type": "execute_result"
    }
   ],
   "source": [
    "pizza.hot"
   ]
  },
  {
   "cell_type": "code",
   "execution_count": 263,
   "metadata": {},
   "outputs": [],
   "source": [
    "pizza.hot = True"
   ]
  },
  {
   "cell_type": "markdown",
   "metadata": {},
   "source": [
    "### Related Objects"
   ]
  },
  {
   "cell_type": "code",
   "execution_count": 267,
   "metadata": {},
   "outputs": [],
   "source": [
    "from py2neo.ogm import RelatedTo"
   ]
  },
  {
   "cell_type": "code",
   "execution_count": 268,
   "metadata": {},
   "outputs": [],
   "source": [
    "class Person(GraphObject):\n",
    "    __primarykey__ = \"name\"\n",
    "\n",
    "    name = Property()\n",
    "\n",
    "    likes = RelatedTo(\"Person\")"
   ]
  },
  {
   "cell_type": "code",
   "execution_count": 273,
   "metadata": {},
   "outputs": [],
   "source": [
    "person = Person()"
   ]
  },
  {
   "cell_type": "code",
   "execution_count": 285,
   "metadata": {},
   "outputs": [
    {
     "data": {
      "text/plain": [
       "<py2neo.ogm.RelatedObjects at 0x107548470>"
      ]
     },
     "execution_count": 285,
     "metadata": {},
     "output_type": "execute_result"
    }
   ],
   "source": [
    "person.likes"
   ]
  },
  {
   "cell_type": "code",
   "execution_count": 286,
   "metadata": {},
   "outputs": [],
   "source": [
    "_.get(\"Person\", \"name\")"
   ]
  },
  {
   "cell_type": "markdown",
   "metadata": {},
   "source": [
    "### Object Matching"
   ]
  },
  {
   "cell_type": "code",
   "execution_count": 287,
   "metadata": {},
   "outputs": [
    {
     "data": {
      "text/plain": [
       "<Person name='Keanu Reeves'>"
      ]
     },
     "execution_count": 287,
     "metadata": {},
     "output_type": "execute_result"
    }
   ],
   "source": [
    "Person.match(graph, \"Keanu Reeves\").first()"
   ]
  },
  {
   "cell_type": "code",
   "execution_count": 290,
   "metadata": {},
   "outputs": [
    {
     "data": {
      "text/plain": [
       "[<Person name='Keanu Reeves'>,\n",
       " <Person name='Kevin Bacon'>,\n",
       " <Person name='Kiefer Sutherland'>,\n",
       " <Person name='Kevin Pollak'>,\n",
       " <Person name='Kelly McGillis'>,\n",
       " <Person name='Kelly Preston'>,\n",
       " <Person name='Keanu Reeves'>,\n",
       " <Person name='Keanu Reeves'>]"
      ]
     },
     "execution_count": 290,
     "metadata": {},
     "output_type": "execute_result"
    }
   ],
   "source": [
    "list(Person.match(graph).where(\"_.name =~ 'K.*'\"))"
   ]
  },
  {
   "cell_type": "markdown",
   "metadata": {},
   "source": [
    "### Object Operations\n",
    "\n",
    "- `Graph.pull(graph_object)`\n",
    "- `Graph.push(graph_object)`\n",
    "- `Graph.create(graph_object)`\n",
    "- `Graph.merge(graph_object)`\n",
    "- `Graph.delete(graph_object)`"
   ]
  },
  {
   "cell_type": "code",
   "execution_count": 291,
   "metadata": {},
   "outputs": [],
   "source": [
    "alice = Person()"
   ]
  },
  {
   "cell_type": "code",
   "execution_count": 292,
   "metadata": {},
   "outputs": [],
   "source": [
    "alice.name = \"Alice Smith\""
   ]
  },
  {
   "cell_type": "code",
   "execution_count": 293,
   "metadata": {},
   "outputs": [],
   "source": [
    "graph.push(alice)"
   ]
  },
  {
   "cell_type": "code",
   "execution_count": 294,
   "metadata": {},
   "outputs": [
    {
     "data": {
      "text/plain": [
       "(_208:Person {name: 'Alice Smith'})"
      ]
     },
     "execution_count": 294,
     "metadata": {},
     "output_type": "execute_result"
    }
   ],
   "source": [
    "alice.__node__"
   ]
  },
  {
   "cell_type": "markdown",
   "metadata": {},
   "source": [
    "## Cypher Utilities"
   ]
  },
  {
   "cell_type": "code",
   "execution_count": 299,
   "metadata": {},
   "outputs": [],
   "source": [
    "from py2neo.cypher import cypher_escape"
   ]
  },
  {
   "cell_type": "code",
   "execution_count": 300,
   "metadata": {},
   "outputs": [
    {
     "data": {
      "text/plain": [
       "'simple_identifier'"
      ]
     },
     "execution_count": 300,
     "metadata": {},
     "output_type": "execute_result"
    }
   ],
   "source": [
    "cypher_escape(\"simple_identifier\")"
   ]
  },
  {
   "cell_type": "code",
   "execution_count": 301,
   "metadata": {},
   "outputs": [
    {
     "data": {
      "text/plain": [
       "'`identifier with ``backticks```'"
      ]
     },
     "execution_count": 301,
     "metadata": {},
     "output_type": "execute_result"
    }
   ],
   "source": [
    "cypher_escape(\"identifier with `backticks`\")"
   ]
  },
  {
   "cell_type": "code",
   "execution_count": 302,
   "metadata": {},
   "outputs": [
    {
     "data": {
      "text/plain": [
       "'MATCH (a:`Employee of the Month`) RETURN id(a)'"
      ]
     },
     "execution_count": 302,
     "metadata": {},
     "output_type": "execute_result"
    }
   ],
   "source": [
    "\"MATCH (a:{label}) RETURN id(a)\".format(label=cypher_escape(\"Employee of the Month\"))"
   ]
  },
  {
   "cell_type": "markdown",
   "metadata": {},
   "source": [
    "## Cypher Lexer"
   ]
  },
  {
   "cell_type": "code",
   "execution_count": 304,
   "metadata": {},
   "outputs": [],
   "source": [
    "from pygments.lexers import get_lexer_by_name"
   ]
  },
  {
   "cell_type": "code",
   "execution_count": 305,
   "metadata": {},
   "outputs": [],
   "source": [
    "lexer = get_lexer_by_name(\"py2neo.cypher\")"
   ]
  },
  {
   "cell_type": "code",
   "execution_count": 306,
   "metadata": {},
   "outputs": [
    {
     "data": {
      "text/plain": [
       "[(Token.Keyword, 'MATCH'),\n",
       " (Token.Text.Whitespace, ' '),\n",
       " (Token.Punctuation, '('),\n",
       " (Token.Name.Variable, 'a'),\n",
       " (Token.Punctuation, ':'),\n",
       " (Token.Name.Label, 'Person'),\n",
       " (Token.Punctuation, ')-['),\n",
       " (Token.Punctuation, ':'),\n",
       " (Token.Name.Label, 'KNOWS'),\n",
       " (Token.Punctuation, ']->('),\n",
       " (Token.Name.Variable, 'b'),\n",
       " (Token.Punctuation, ')'),\n",
       " (Token.Text.Whitespace, ' '),\n",
       " (Token.Keyword, 'RETURN'),\n",
       " (Token.Text.Whitespace, ' '),\n",
       " (Token.Name.Variable, 'a'),\n",
       " (Token.Text.Whitespace, '\\n')]"
      ]
     },
     "execution_count": 306,
     "metadata": {},
     "output_type": "execute_result"
    }
   ],
   "source": [
    "list(lexer.get_tokens(\"MATCH (a:Person)-[:KNOWS]->(b) RETURN a\"))"
   ]
  },
  {
   "cell_type": "code",
   "execution_count": 307,
   "metadata": {},
   "outputs": [
    {
     "data": {
      "text/plain": [
       "[\"CREATE (:Person {name:'Alice'})\",\n",
       " \"MATCH (a:Person {name:'Alice'}) RETURN id(a)\"]"
      ]
     },
     "execution_count": 307,
     "metadata": {},
     "output_type": "execute_result"
    }
   ],
   "source": [
    "list(lexer.get_statements(\n",
    "    \"CREATE (:Person {name:'Alice'}); MATCH (a:Person {name:'Alice'}) RETURN id(a)\"))"
   ]
  },
  {
   "cell_type": "markdown",
   "metadata": {},
   "source": [
    "## Summary\n",
    "\n",
    "`py2neo` is a very powerful toolkit for neo4j database operation. Here we just summary some very important parts which are probably be used in our program."
   ]
  },
  {
   "cell_type": "markdown",
   "metadata": {},
   "source": [
    "### Transactions"
   ]
  },
  {
   "cell_type": "code",
   "execution_count": 436,
   "metadata": {},
   "outputs": [],
   "source": [
    "# class py2neo.data.Node(*labels, **properties)\n",
    "\n",
    "# class py2neo.data.Relationship(start_node, type, end_node, **properties)\n",
    "# class py2neo.data.Relationship(start_node, end_node, **properties)\n",
    "# class py2neo.data.Relationship(node, type, **properties)\n",
    "# class py2neo.data.Relationship(node, **properties)\n",
    "g.delete_all()\n",
    "class WorksWith(Relationship): pass\n",
    "\n",
    "g = Graph()\n",
    "tx = g.begin()\n",
    "a = Node(\"Person\", name=\"Alice\")\n",
    "b = Node(\"Person\", name=\"Bob\")\n",
    "c = Node(\"Company\", name=\"ACME\")\n",
    "ab = Relationship(a, \"KNOWS\", b, **{\"roles\": [\"friend\", \"classmate\"]})\n",
    "ac = Relationship(a, \"WORKS_FOR\", c, **{\"roles\": [\"workmate\", \"underling\"]})\n",
    "bc = WorksWith(b, c, **{\"roles\": \"workmate\"})\n",
    "tx.create(ab | ac | bc)\n",
    "tx.commit()\n",
    "assert tx.finished() == True"
   ]
  },
  {
   "cell_type": "markdown",
   "metadata": {},
   "source": [
    "### Graph\n",
    "\n",
    " Exists, Match and Delete"
   ]
  },
  {
   "cell_type": "code",
   "execution_count": 344,
   "metadata": {},
   "outputs": [
    {
     "name": "stdout",
     "output_type": "stream",
     "text": [
      "(Alice)-[:WORKS_FOR {}]->(ACME) || ACME\n",
      "(Alice)-[:KNOWS {}]->(Bob) || Bob\n"
     ]
    },
    {
     "data": {
      "text/plain": [
       "frozenset()"
      ]
     },
     "execution_count": 344,
     "metadata": {},
     "output_type": "execute_result"
    }
   ],
   "source": [
    "# class py2neo.database.Graph(uri, **settings)\n",
    "\n",
    "g = Graph()\n",
    "g.exists(a)\n",
    "g.exists(ab)\n",
    "for rel in g.match((a, )):\n",
    "    print(rel, \"||\", rel.end_node['name'])\n",
    "\n",
    "# g.nodes return a NodeMatcher\n",
    "g.nodes.match(\"Person\", name=\"Alice\").first()\n",
    "# g.relationships return a RelationshipMatcher\n",
    "g.relationships.match((a,), r_type=\"KNOWS\").first()\n",
    "\n",
    "g.delete(ab | ac)\n",
    "g.delete(a)"
   ]
  },
  {
   "cell_type": "code",
   "execution_count": 348,
   "metadata": {},
   "outputs": [
    {
     "data": {
      "text/plain": [
       "frozenset({'KNOWS', 'WORKS_FOR', 'WorksWith'})"
      ]
     },
     "execution_count": 348,
     "metadata": {},
     "output_type": "execute_result"
    }
   ],
   "source": [
    "# class py2neo.database.Schema(graph)\n",
    "\n",
    "g.schema.node_labels\n",
    "g.schema.relationship_types"
   ]
  },
  {
   "cell_type": "markdown",
   "metadata": {},
   "source": [
    "### Matching"
   ]
  },
  {
   "cell_type": "code",
   "execution_count": 434,
   "metadata": {},
   "outputs": [
    {
     "data": {
      "text/plain": [
       "<py2neo.matching.RelationshipMatch at 0x10b68d198>"
      ]
     },
     "execution_count": 434,
     "metadata": {},
     "output_type": "execute_result"
    }
   ],
   "source": [
    "# class py2neo.matching.NodeMatcher(graph)\n",
    "# class py2neo.matching.NodeMatch(graph, labels=frozenset({}), \n",
    "#                                 conditions=(), order_by=(), skip=None, limit=None)\n",
    "\n",
    "matcher = NodeMatcher(graph)\n",
    "matcher.match(\"Person\", name=\"Keanu Reeves\").first()\n",
    "matcher.match(\"Person\", name__exact=\"Kevin Bacon\").first()\n",
    "matcher.match(\"Person\", name__not=\"Rick Astley\").first()\n",
    "matcher.match(\"Person\", born__gt=1985).first()\n",
    "matcher.match(\"Person\", born__gte=1965).first()\n",
    "matcher.match(\"Person\", name__startswith=\"Kevin\").first()\n",
    "matcher.match(\"Person\", name__contains=\"James\").first()\n",
    "matcher.match(\"Person\", name__contains=\"James\", born__gt=1940)\n",
    "\n",
    "matcher.match(\"Person\").where(\"_.name =~ 'K.*'\")\n",
    "matcher.match(\"Person\").where(\"_.name =~ 'K.*'\").order_by(\"_.name\").limit(3)\n",
    "match = matcher.match(\"Person\")\n",
    "match.where(born=1967)\n",
    "\n",
    "\n",
    "# class py2neo.matching.RelationshipMatcher(graph)\n",
    "# class py2neo.matching.RelationshipMatch(graph, nodes=None, r_type=None, \n",
    "#                                  conditions=(), order_by=(), skip=None, limit=None)\n",
    "\n",
    "rmatcher = RelationshipMatcher(graph)\n",
    "rmatch = rmatcher.match()\n",
    "rmatch.where(roles=['workmate', 'underling'])\n",
    "rmatch.where(\"_.roles =~ 'work.*'\") # [(Bob)-[:WorksWith {roles: 'workmate'}]->(ACME)]"
   ]
  },
  {
   "cell_type": "markdown",
   "metadata": {},
   "source": [
    "### Object-Graph\n",
    "\n",
    "Create, Match, and Push."
   ]
  },
  {
   "cell_type": "code",
   "execution_count": 442,
   "metadata": {
    "scrolled": true
   },
   "outputs": [
    {
     "data": {
      "text/plain": [
       "(_10:Person {name: 'Alice Smith'})"
      ]
     },
     "execution_count": 442,
     "metadata": {},
     "output_type": "execute_result"
    }
   ],
   "source": [
    "class Movie(GraphObject):\n",
    "    __primarykey__ = \"title\"\n",
    "\n",
    "    title = Property()\n",
    "    tag_line = Property(\"tagline\") # tagline is the key (not tag_line)\n",
    "    released = Property()\n",
    "\n",
    "    actors = RelatedFrom(\"Person\", \"ACTED_IN\")\n",
    "    directors = RelatedFrom(\"Person\", \"DIRECTED\")\n",
    "    producers = RelatedFrom(\"Person\", \"PRODUCED\")\n",
    "\n",
    "\n",
    "class Person(GraphObject):\n",
    "    __primarykey__ = \"name\"\n",
    "\n",
    "    name = Property()\n",
    "    born = Property()\n",
    "\n",
    "    acted_in = RelatedTo(Movie)\n",
    "    directed = RelatedTo(Movie)\n",
    "    produced = RelatedTo(Movie)\n",
    "\n",
    "Person.match(graph, \"Keanu Reeves\").first()\n",
    "Person.match(graph).where(\"_.name =~ 'K.*'\")\n",
    "\n",
    "alice = Person()\n",
    "alice.name = \"Alice Smith\"\n",
    "# has been pushed into the graph\n",
    "g.push(alice)\n",
    "alice.__node__\n",
    "# this can not push into the graph\n",
    "d = Node(\"Person\", name=\"Dd\")\n",
    "g.push(d)"
   ]
  },
  {
   "cell_type": "code",
   "execution_count": null,
   "metadata": {},
   "outputs": [],
   "source": []
  },
  {
   "cell_type": "code",
   "execution_count": null,
   "metadata": {},
   "outputs": [],
   "source": []
  }
 ],
 "metadata": {
  "kernelspec": {
   "display_name": "Python 3",
   "language": "python",
   "name": "python3"
  },
  "language_info": {
   "codemirror_mode": {
    "name": "ipython",
    "version": 3
   },
   "file_extension": ".py",
   "mimetype": "text/x-python",
   "name": "python",
   "nbconvert_exporter": "python",
   "pygments_lexer": "ipython3",
   "version": "3.7.2"
  },
  "latex_envs": {
   "LaTeX_envs_menu_present": true,
   "autoclose": false,
   "autocomplete": true,
   "bibliofile": "biblio.bib",
   "cite_by": "apalike",
   "current_citInitial": 1,
   "eqLabelWithNumbers": true,
   "eqNumInitial": 1,
   "hotkeys": {
    "equation": "Ctrl-E",
    "itemize": "Ctrl-I"
   },
   "labels_anchors": false,
   "latex_user_defs": false,
   "report_style_numbering": false,
   "user_envs_cfg": false
  },
  "toc": {
   "base_numbering": 1,
   "nav_menu": {},
   "number_sections": true,
   "sideBar": true,
   "skip_h1_title": false,
   "title_cell": "Table of Contents",
   "title_sidebar": "Contents",
   "toc_cell": true,
   "toc_position": {
    "height": "calc(100% - 180px)",
    "left": "10px",
    "top": "150px",
    "width": "282px"
   },
   "toc_section_display": true,
   "toc_window_display": true
  }
 },
 "nbformat": 4,
 "nbformat_minor": 2
}
