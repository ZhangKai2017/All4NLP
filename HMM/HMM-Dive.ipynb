{
 "cells": [
  {
   "cell_type": "markdown",
   "metadata": {},
   "source": [
    "Markov Models: used in sequence models: time series, speech, language, etc.\n",
    "\n",
    "Markov chain: \n",
    "\n",
    "- simplying assumptions: discrete time and discrete space\n",
    "- first-order MC, second-order MC\n",
    "\n",
    "HMM：Can't expect to perfectly observe **complete** the true state of system! So one way to address this is to acknowledge the fact that there's some hidden information that we're not seeing. Model with hidden variables or latent variables, is HMM.\n",
    "\n",
    "$$p(x_1,...x_n,z_1,...,z_n) = p(z_1)p(x_1|z_1) \\prod_{k=2}{^n} p(z_k|z_{k-1})p(x_k|z_k)$$\n",
    "\n",
    "- Transition probs: $$T(i,j) = p(z_{k+1}=j|z_k=i)$$\n",
    "- Emission probs: $$\\epsilon_i(x) = p(x|z_k=i) = p(X_k=x|z_k=i)$$\n",
    "- Initial dist: $$\\pi(i) = p(z_i=i)$$"
   ]
  },
  {
   "cell_type": "code",
   "execution_count": null,
   "metadata": {},
   "outputs": [],
   "source": []
  }
 ],
 "metadata": {
  "kernelspec": {
   "display_name": "Python 3",
   "language": "python",
   "name": "python3"
  },
  "language_info": {
   "codemirror_mode": {
    "name": "ipython",
    "version": 3
   },
   "file_extension": ".py",
   "mimetype": "text/x-python",
   "name": "python",
   "nbconvert_exporter": "python",
   "pygments_lexer": "ipython3",
   "version": "3.7.2"
  },
  "latex_envs": {
   "LaTeX_envs_menu_present": true,
   "autoclose": false,
   "autocomplete": true,
   "bibliofile": "biblio.bib",
   "cite_by": "apalike",
   "current_citInitial": 1,
   "eqLabelWithNumbers": true,
   "eqNumInitial": 1,
   "hotkeys": {
    "equation": "Ctrl-E",
    "itemize": "Ctrl-I"
   },
   "labels_anchors": false,
   "latex_user_defs": false,
   "report_style_numbering": false,
   "user_envs_cfg": false
  },
  "toc": {
   "base_numbering": 1,
   "nav_menu": {},
   "number_sections": true,
   "sideBar": true,
   "skip_h1_title": false,
   "title_cell": "Table of Contents",
   "title_sidebar": "Contents",
   "toc_cell": false,
   "toc_position": {},
   "toc_section_display": true,
   "toc_window_display": false
  }
 },
 "nbformat": 4,
 "nbformat_minor": 2
}
