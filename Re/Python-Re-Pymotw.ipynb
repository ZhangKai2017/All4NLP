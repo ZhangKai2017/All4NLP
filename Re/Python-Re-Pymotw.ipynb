{
 "cells": [
  {
   "cell_type": "markdown",
   "metadata": {
    "toc": "true"
   },
   "source": [
    "<h1>Table of Contents<span class=\"tocSkip\"></span></h1>\n",
    "<div class=\"toc\"><ul class=\"toc-item\"><li><span><a href=\"#PyMOTW\" data-toc-modified-id=\"PyMOTW-1\"><span class=\"toc-item-num\">1&nbsp;&nbsp;</span>PyMOTW</a></span><ul class=\"toc-item\"><li><span><a href=\"#Finding-Patterns-in-Text\" data-toc-modified-id=\"Finding-Patterns-in-Text-1.1\"><span class=\"toc-item-num\">1.1&nbsp;&nbsp;</span>Finding Patterns in Text</a></span></li><li><span><a href=\"#Compiling-Expressions\" data-toc-modified-id=\"Compiling-Expressions-1.2\"><span class=\"toc-item-num\">1.2&nbsp;&nbsp;</span>Compiling Expressions</a></span></li><li><span><a href=\"#Multiple-Matches\" data-toc-modified-id=\"Multiple-Matches-1.3\"><span class=\"toc-item-num\">1.3&nbsp;&nbsp;</span>Multiple Matches</a></span></li><li><span><a href=\"#Pattern-Syntax\" data-toc-modified-id=\"Pattern-Syntax-1.4\"><span class=\"toc-item-num\">1.4&nbsp;&nbsp;</span>Pattern Syntax</a></span><ul class=\"toc-item\"><li><span><a href=\"#Repetition\" data-toc-modified-id=\"Repetition-1.4.1\"><span class=\"toc-item-num\">1.4.1&nbsp;&nbsp;</span>Repetition</a></span></li><li><span><a href=\"#Character-Sets\" data-toc-modified-id=\"Character-Sets-1.4.2\"><span class=\"toc-item-num\">1.4.2&nbsp;&nbsp;</span>Character Sets</a></span></li><li><span><a href=\"#Anchoring\" data-toc-modified-id=\"Anchoring-1.4.3\"><span class=\"toc-item-num\">1.4.3&nbsp;&nbsp;</span>Anchoring</a></span></li></ul></li><li><span><a href=\"#Constraining-the-Search\" data-toc-modified-id=\"Constraining-the-Search-1.5\"><span class=\"toc-item-num\">1.5&nbsp;&nbsp;</span>Constraining the Search</a></span></li><li><span><a href=\"#Dissecting-Matches-with-Groups\" data-toc-modified-id=\"Dissecting-Matches-with-Groups-1.6\"><span class=\"toc-item-num\">1.6&nbsp;&nbsp;</span>Dissecting Matches with Groups</a></span></li><li><span><a href=\"#Search-Options\" data-toc-modified-id=\"Search-Options-1.7\"><span class=\"toc-item-num\">1.7&nbsp;&nbsp;</span>Search Options</a></span><ul class=\"toc-item\"><li><span><a href=\"#Case-insensitive-Matching\" data-toc-modified-id=\"Case-insensitive-Matching-1.7.1\"><span class=\"toc-item-num\">1.7.1&nbsp;&nbsp;</span>Case-insensitive Matching</a></span></li><li><span><a href=\"#Input-with-Multiple-Lines\" data-toc-modified-id=\"Input-with-Multiple-Lines-1.7.2\"><span class=\"toc-item-num\">1.7.2&nbsp;&nbsp;</span>Input with Multiple Lines</a></span></li><li><span><a href=\"#Unicode\" data-toc-modified-id=\"Unicode-1.7.3\"><span class=\"toc-item-num\">1.7.3&nbsp;&nbsp;</span>Unicode</a></span></li><li><span><a href=\"#Verbose-Expression-Syntax\" data-toc-modified-id=\"Verbose-Expression-Syntax-1.7.4\"><span class=\"toc-item-num\">1.7.4&nbsp;&nbsp;</span>Verbose Expression Syntax</a></span></li><li><span><a href=\"#Embedding-Flags-in-Patterns\" data-toc-modified-id=\"Embedding-Flags-in-Patterns-1.7.5\"><span class=\"toc-item-num\">1.7.5&nbsp;&nbsp;</span>Embedding Flags in Patterns</a></span></li></ul></li><li><span><a href=\"#Looking-Ahead,-or-behind\" data-toc-modified-id=\"Looking-Ahead,-or-behind-1.8\"><span class=\"toc-item-num\">1.8&nbsp;&nbsp;</span>Looking Ahead, or behind</a></span></li><li><span><a href=\"#Self-referencing-Expressions\" data-toc-modified-id=\"Self-referencing-Expressions-1.9\"><span class=\"toc-item-num\">1.9&nbsp;&nbsp;</span>Self-referencing Expressions</a></span></li><li><span><a href=\"#Modifying-Strings-with-Patterns\" data-toc-modified-id=\"Modifying-Strings-with-Patterns-1.10\"><span class=\"toc-item-num\">1.10&nbsp;&nbsp;</span>Modifying Strings with Patterns</a></span></li><li><span><a href=\"#Splitting-with-Patterns\" data-toc-modified-id=\"Splitting-with-Patterns-1.11\"><span class=\"toc-item-num\">1.11&nbsp;&nbsp;</span>Splitting with Patterns</a></span></li></ul></li><li><span><a href=\"#笔记\" data-toc-modified-id=\"笔记-2\"><span class=\"toc-item-num\">2&nbsp;&nbsp;</span>笔记</a></span><ul class=\"toc-item\"><li><span><a href=\"#RE\" data-toc-modified-id=\"RE-2.1\"><span class=\"toc-item-num\">2.1&nbsp;&nbsp;</span><code>RE</code></a></span></li><li><span><a href=\"#正则要义\" data-toc-modified-id=\"正则要义-2.2\"><span class=\"toc-item-num\">2.2&nbsp;&nbsp;</span>正则要义</a></span></li></ul></li></ul></div>"
   ]
  },
  {
   "cell_type": "markdown",
   "metadata": {},
   "source": [
    "# PyMOTW\n",
    "\n",
    "[re – Regular Expressions - Python Module of the Week](https://pymotw.com/2/re/)"
   ]
  },
  {
   "cell_type": "markdown",
   "metadata": {},
   "source": [
    "## Finding Patterns in Text"
   ]
  },
  {
   "cell_type": "code",
   "execution_count": 3,
   "metadata": {},
   "outputs": [
    {
     "name": "stdout",
     "output_type": "stream",
     "text": [
      "Looking for \"this\" in \"Does this text match the pattern?\" ->\n",
      "found a match!\n",
      "Looking for \"that\" in \"Does this text match the pattern?\" ->\n",
      "no match\n"
     ]
    }
   ],
   "source": [
    "import re\n",
    "\n",
    "patterns = [ 'this', 'that' ]\n",
    "text = 'Does this text match the pattern?'\n",
    "\n",
    "for pattern in patterns:\n",
    "    print ('Looking for \"%s\" in \"%s\" ->' % (pattern, text)),\n",
    "\n",
    "    if re.search(pattern,  text):\n",
    "        print ('found a match!')\n",
    "    else:\n",
    "        print ('no match')"
   ]
  },
  {
   "cell_type": "code",
   "execution_count": 5,
   "metadata": {},
   "outputs": [
    {
     "name": "stdout",
     "output_type": "stream",
     "text": [
      "Found \"this\" in \"Does this text match the pattern?\" from 5 to 9 (\"this\")\n"
     ]
    }
   ],
   "source": [
    "import re\n",
    "\n",
    "pattern = 'this'\n",
    "text = 'Does this text match the pattern?'\n",
    "\n",
    "match = re.search(pattern, text)\n",
    "\n",
    "s = match.start()\n",
    "e = match.end()\n",
    "\n",
    "print ('Found \"%s\" in \"%s\" from %d to %d (\"%s\")' % \\\n",
    "    (match.re.pattern, match.string, s, e, text[s:e]))"
   ]
  },
  {
   "cell_type": "markdown",
   "metadata": {},
   "source": [
    "## Compiling Expressions"
   ]
  },
  {
   "cell_type": "code",
   "execution_count": 7,
   "metadata": {},
   "outputs": [
    {
     "name": "stdout",
     "output_type": "stream",
     "text": [
      "Looking for \"this\" in \"Does this text match the pattern?\" ->\n",
      "found a match!\n",
      "Looking for \"that\" in \"Does this text match the pattern?\" ->\n",
      "no match\n"
     ]
    }
   ],
   "source": [
    "import re\n",
    "\n",
    "# Pre-compile the patterns\n",
    "regexes = [ re.compile(p) for p in [ 'this',\n",
    "                                     'that',\n",
    "                                     ]\n",
    "            ]\n",
    "text = 'Does this text match the pattern?'\n",
    "\n",
    "for regex in regexes:\n",
    "    print ('Looking for \"%s\" in \"%s\" ->' % (regex.pattern, text)),\n",
    "\n",
    "    if regex.search(text):\n",
    "        print ('found a match!')\n",
    "    else:\n",
    "        print ('no match')"
   ]
  },
  {
   "cell_type": "markdown",
   "metadata": {},
   "source": [
    "## Multiple Matches"
   ]
  },
  {
   "cell_type": "code",
   "execution_count": 11,
   "metadata": {},
   "outputs": [
    {
     "name": "stdout",
     "output_type": "stream",
     "text": [
      "Found \"ab\"\n",
      "Found \"ab\"\n"
     ]
    }
   ],
   "source": [
    "import re\n",
    "\n",
    "text = 'abbaaabbbbaaaaa'\n",
    "\n",
    "pattern = 'ab'\n",
    "\n",
    "for match in re.findall(pattern, text):\n",
    "    print ('Found \"%s\"' % match)"
   ]
  },
  {
   "cell_type": "code",
   "execution_count": 10,
   "metadata": {},
   "outputs": [
    {
     "name": "stdout",
     "output_type": "stream",
     "text": [
      "Found \"ab\" at 0:2\n",
      "Found \"ab\" at 5:7\n"
     ]
    }
   ],
   "source": [
    "import re\n",
    "\n",
    "text = 'abbaaabbbbaaaaa'\n",
    "\n",
    "pattern = 'ab'\n",
    "\n",
    "for match in re.finditer(pattern, text):\n",
    "    s = match.start()\n",
    "    e = match.end()\n",
    "    print ('Found \"%s\" at %d:%d' % (text[s:e], s, e))"
   ]
  },
  {
   "cell_type": "markdown",
   "metadata": {},
   "source": [
    "## Pattern Syntax"
   ]
  },
  {
   "cell_type": "code",
   "execution_count": 15,
   "metadata": {},
   "outputs": [
    {
     "name": "stdout",
     "output_type": "stream",
     "text": [
      " 0.10.20.30.40.50.60.70.80.91.01.11.21.31.4\n",
      "012345678901234\n",
      "abbaaabbbbaaaaa\n",
      "Matching \"ab\"\n",
      "   0 :  1 = \"ab\"\n",
      "   5 :  6 = \"ab\"\n"
     ]
    }
   ],
   "source": [
    "import re\n",
    "\n",
    "def test_patterns(text, patterns=[]):\n",
    "    \"\"\"Given source text and a list of patterns, look for\n",
    "    matches for each pattern within the text and print\n",
    "    them to stdout.\n",
    "    \"\"\"\n",
    "    # Show the character positions and input text\n",
    "    print\n",
    "    print (''.join(str(i/10 or ' ') for i in range(len(text))))\n",
    "    print (''.join(str(i%10) for i in range(len(text))))\n",
    "    print (text)\n",
    "\n",
    "    # Look for each pattern in the text and print the results\n",
    "    for pattern in patterns:\n",
    "        print\n",
    "        print ('Matching \"%s\"' % pattern)\n",
    "        for match in re.finditer(pattern, text):\n",
    "            s = match.start()\n",
    "            e = match.end()\n",
    "            print ('  %2d : %2d = \"%s\"' % \\\n",
    "                (s, e-1, text[s:e]))\n",
    "    return\n",
    "\n",
    "if __name__ == '__main__':\n",
    "    test_patterns('abbaaabbbbaaaaa', ['ab'])"
   ]
  },
  {
   "cell_type": "markdown",
   "metadata": {},
   "source": [
    "### Repetition"
   ]
  },
  {
   "cell_type": "code",
   "execution_count": 27,
   "metadata": {},
   "outputs": [
    {
     "name": "stdout",
     "output_type": "stream",
     "text": [
      " 0.10.20.30.40.50.60.70.80.91.01.11.21.31.4\n",
      "012345678901234\n",
      "abbaaabbbbaaaaa\n",
      "Matching \"ab*\"\n",
      "   0 :  2 = \"abb\"\n",
      "   3 :  3 = \"a\"\n",
      "   4 :  4 = \"a\"\n",
      "   5 :  9 = \"abbbb\"\n",
      "  10 : 10 = \"a\"\n",
      "  11 : 11 = \"a\"\n",
      "  12 : 12 = \"a\"\n",
      "  13 : 13 = \"a\"\n",
      "  14 : 14 = \"a\"\n",
      "Matching \"ab+\"\n",
      "   0 :  2 = \"abb\"\n",
      "   5 :  9 = \"abbbb\"\n",
      "Matching \"ab?\"\n",
      "   0 :  1 = \"ab\"\n",
      "   3 :  3 = \"a\"\n",
      "   4 :  4 = \"a\"\n",
      "   5 :  6 = \"ab\"\n",
      "  10 : 10 = \"a\"\n",
      "  11 : 11 = \"a\"\n",
      "  12 : 12 = \"a\"\n",
      "  13 : 13 = \"a\"\n",
      "  14 : 14 = \"a\"\n",
      "Matching \"ab{3}\"\n",
      "   5 :  8 = \"abbb\"\n",
      "Matching \"ab{2,3}\"\n",
      "   0 :  2 = \"abb\"\n",
      "   5 :  8 = \"abbb\"\n"
     ]
    }
   ],
   "source": [
    "test_patterns('abbaaabbbbaaaaa',\n",
    "              [ 'ab*',     # a followed by zero or more b\n",
    "                'ab+',     # a followed by one or more b\n",
    "                'ab?',     # a followed by zero or one b\n",
    "                'ab{3}',   # a followed by three b\n",
    "                'ab{2,3}', # a followed by two to three b\n",
    "                ])"
   ]
  },
  {
   "cell_type": "code",
   "execution_count": 30,
   "metadata": {},
   "outputs": [
    {
     "name": "stdout",
     "output_type": "stream",
     "text": [
      " 0.10.20.30.40.50.60.70.80.91.01.11.21.31.4\n",
      "012345678901234\n",
      "abbaaabbbbaaaaa\n",
      "Matching \"ab*?\"\n",
      "   0 :  0 = \"a\"\n",
      "   3 :  3 = \"a\"\n",
      "   4 :  4 = \"a\"\n",
      "   5 :  5 = \"a\"\n",
      "  10 : 10 = \"a\"\n",
      "  11 : 11 = \"a\"\n",
      "  12 : 12 = \"a\"\n",
      "  13 : 13 = \"a\"\n",
      "  14 : 14 = \"a\"\n",
      "Matching \"ab+?\"\n",
      "   0 :  1 = \"ab\"\n",
      "   5 :  6 = \"ab\"\n",
      "Matching \"ab??\"\n",
      "   0 :  0 = \"a\"\n",
      "   3 :  3 = \"a\"\n",
      "   4 :  4 = \"a\"\n",
      "   5 :  5 = \"a\"\n",
      "  10 : 10 = \"a\"\n",
      "  11 : 11 = \"a\"\n",
      "  12 : 12 = \"a\"\n",
      "  13 : 13 = \"a\"\n",
      "  14 : 14 = \"a\"\n",
      "Matching \"ab{3}?\"\n",
      "   5 :  8 = \"abbb\"\n",
      "Matching \"ab{2,3}?\"\n",
      "   0 :  2 = \"abb\"\n",
      "   5 :  7 = \"abb\"\n"
     ]
    }
   ],
   "source": [
    "test_patterns('abbaaabbbbaaaaa',\n",
    "              [ 'ab*?',     # a followed by zero or more b\n",
    "                'ab+?',     # a followed by one or more b\n",
    "                'ab??',     # a followed by zero or one b\n",
    "                'ab{3}?',   # a followed by three b\n",
    "                'ab{2,3}?', # a followed by two to three b\n",
    "                ])"
   ]
  },
  {
   "cell_type": "markdown",
   "metadata": {},
   "source": [
    "### Character Sets"
   ]
  },
  {
   "cell_type": "code",
   "execution_count": 31,
   "metadata": {},
   "outputs": [
    {
     "name": "stdout",
     "output_type": "stream",
     "text": [
      " 0.10.20.30.40.50.60.70.80.91.01.11.21.31.4\n",
      "012345678901234\n",
      "abbaaabbbbaaaaa\n",
      "Matching \"[ab]\"\n",
      "   0 :  0 = \"a\"\n",
      "   1 :  1 = \"b\"\n",
      "   2 :  2 = \"b\"\n",
      "   3 :  3 = \"a\"\n",
      "   4 :  4 = \"a\"\n",
      "   5 :  5 = \"a\"\n",
      "   6 :  6 = \"b\"\n",
      "   7 :  7 = \"b\"\n",
      "   8 :  8 = \"b\"\n",
      "   9 :  9 = \"b\"\n",
      "  10 : 10 = \"a\"\n",
      "  11 : 11 = \"a\"\n",
      "  12 : 12 = \"a\"\n",
      "  13 : 13 = \"a\"\n",
      "  14 : 14 = \"a\"\n",
      "Matching \"a[ab]+\"\n",
      "   0 : 14 = \"abbaaabbbbaaaaa\"\n",
      "Matching \"a[ab]+?\"\n",
      "   0 :  1 = \"ab\"\n",
      "   3 :  4 = \"aa\"\n",
      "   5 :  6 = \"ab\"\n",
      "  10 : 11 = \"aa\"\n",
      "  12 : 13 = \"aa\"\n"
     ]
    }
   ],
   "source": [
    "test_patterns('abbaaabbbbaaaaa',\n",
    "              [ '[ab]',    # either a or b\n",
    "                'a[ab]+',  # a followed by one or more a or b\n",
    "                'a[ab]+?', # a followed by one or more a or b, not greedy\n",
    "                ])"
   ]
  },
  {
   "cell_type": "code",
   "execution_count": 32,
   "metadata": {},
   "outputs": [
    {
     "name": "stdout",
     "output_type": "stream",
     "text": [
      " 0.10.20.30.40.50.60.70.80.91.01.11.21.31.41.51.61.71.81.92.02.12.22.32.42.52.62.72.82.93.03.13.23.33.43.53.63.7\n",
      "01234567890123456789012345678901234567\n",
      "This is some text -- with punctuation.\n",
      "Matching \"[^-. ]+\"\n",
      "   0 :  3 = \"This\"\n",
      "   5 :  6 = \"is\"\n",
      "   8 : 11 = \"some\"\n",
      "  13 : 16 = \"text\"\n",
      "  21 : 24 = \"with\"\n",
      "  26 : 36 = \"punctuation\"\n"
     ]
    }
   ],
   "source": [
    "test_patterns('This is some text -- with punctuation.',\n",
    "              [ '[^-. ]+',  # sequences without -, ., or space\n",
    "                ])"
   ]
  },
  {
   "cell_type": "code",
   "execution_count": 33,
   "metadata": {},
   "outputs": [
    {
     "name": "stdout",
     "output_type": "stream",
     "text": [
      " 0.10.20.30.40.50.60.70.80.91.01.11.21.31.41.51.61.71.81.92.02.12.22.32.42.52.62.72.82.93.03.13.23.33.43.53.63.7\n",
      "01234567890123456789012345678901234567\n",
      "This is some text -- with punctuation.\n",
      "Matching \"[a-z]+\"\n",
      "   1 :  3 = \"his\"\n",
      "   5 :  6 = \"is\"\n",
      "   8 : 11 = \"some\"\n",
      "  13 : 16 = \"text\"\n",
      "  21 : 24 = \"with\"\n",
      "  26 : 36 = \"punctuation\"\n",
      "Matching \"[A-Z]+\"\n",
      "   0 :  0 = \"T\"\n",
      "Matching \"[a-zA-Z]+\"\n",
      "   0 :  3 = \"This\"\n",
      "   5 :  6 = \"is\"\n",
      "   8 : 11 = \"some\"\n",
      "  13 : 16 = \"text\"\n",
      "  21 : 24 = \"with\"\n",
      "  26 : 36 = \"punctuation\"\n",
      "Matching \"[A-Z][a-z]+\"\n",
      "   0 :  3 = \"This\"\n"
     ]
    }
   ],
   "source": [
    "test_patterns('This is some text -- with punctuation.',\n",
    "              [ '[a-z]+',      # sequences of lower case letters\n",
    "                '[A-Z]+',      # sequences of upper case letters\n",
    "                '[a-zA-Z]+',   # sequences of lower or upper case letters\n",
    "                '[A-Z][a-z]+', # one upper case letter followed by lower case letters\n",
    "                ])"
   ]
  },
  {
   "cell_type": "code",
   "execution_count": 34,
   "metadata": {},
   "outputs": [
    {
     "name": "stdout",
     "output_type": "stream",
     "text": [
      " 0.10.20.30.40.50.60.70.80.91.01.11.21.31.4\n",
      "012345678901234\n",
      "abbaaabbbbaaaaa\n",
      "Matching \"a.\"\n",
      "   0 :  1 = \"ab\"\n",
      "   3 :  4 = \"aa\"\n",
      "   5 :  6 = \"ab\"\n",
      "  10 : 11 = \"aa\"\n",
      "  12 : 13 = \"aa\"\n",
      "Matching \"b.\"\n",
      "   1 :  2 = \"bb\"\n",
      "   6 :  7 = \"bb\"\n",
      "   8 :  9 = \"bb\"\n",
      "Matching \"a.*b\"\n",
      "   0 :  9 = \"abbaaabbbb\"\n",
      "Matching \"a.*?b\"\n",
      "   0 :  1 = \"ab\"\n",
      "   3 :  6 = \"aaab\"\n"
     ]
    }
   ],
   "source": [
    "test_patterns('abbaaabbbbaaaaa',\n",
    "              [ 'a.',   # a followed by any one character\n",
    "                'b.',   # b followed by any one character\n",
    "                'a.*b', # a followed by anything, ending in b\n",
    "                'a.*?b', # a followed by anything, ending in b\n",
    "                ])"
   ]
  },
  {
   "cell_type": "code",
   "execution_count": 35,
   "metadata": {},
   "outputs": [
    {
     "name": "stdout",
     "output_type": "stream",
     "text": [
      " 0.10.20.30.40.50.60.70.80.91.01.11.21.31.41.51.61.71.81.92.02.12.22.32.42.52.6\n",
      "012345678901234567890123456\n",
      "This is a prime #1 example!\n",
      "Matching \"\\d+\"\n",
      "  17 : 17 = \"1\"\n",
      "Matching \"\\D+\"\n",
      "   0 : 16 = \"This is a prime #\"\n",
      "  18 : 26 = \" example!\"\n",
      "Matching \"\\s+\"\n",
      "   4 :  4 = \" \"\n",
      "   7 :  7 = \" \"\n",
      "   9 :  9 = \" \"\n",
      "  15 : 15 = \" \"\n",
      "  18 : 18 = \" \"\n",
      "Matching \"\\S+\"\n",
      "   0 :  3 = \"This\"\n",
      "   5 :  6 = \"is\"\n",
      "   8 :  8 = \"a\"\n",
      "  10 : 14 = \"prime\"\n",
      "  16 : 17 = \"#1\"\n",
      "  19 : 26 = \"example!\"\n",
      "Matching \"\\w+\"\n",
      "   0 :  3 = \"This\"\n",
      "   5 :  6 = \"is\"\n",
      "   8 :  8 = \"a\"\n",
      "  10 : 14 = \"prime\"\n",
      "  17 : 17 = \"1\"\n",
      "  19 : 25 = \"example\"\n",
      "Matching \"\\W+\"\n",
      "   4 :  4 = \" \"\n",
      "   7 :  7 = \" \"\n",
      "   9 :  9 = \" \"\n",
      "  15 : 16 = \" #\"\n",
      "  18 : 18 = \" \"\n",
      "  26 : 26 = \"!\"\n"
     ]
    }
   ],
   "source": [
    "test_patterns('This is a prime #1 example!',\n",
    "              [ r'\\d+', # sequence of digits\n",
    "                r'\\D+', # sequence of non-digits\n",
    "                r'\\s+', # sequence of whitespace\n",
    "                r'\\S+', # sequence of non-whitespace\n",
    "                r'\\w+', # alphanumeric characters\n",
    "                r'\\W+', # non-alphanumeric\n",
    "                ])"
   ]
  },
  {
   "cell_type": "code",
   "execution_count": 36,
   "metadata": {},
   "outputs": [
    {
     "name": "stdout",
     "output_type": "stream",
     "text": [
      " 0.10.20.30.40.50.60.70.80.91.01.11.21.31.41.51.61.71.81.92.02.12.2\n",
      "01234567890123456789012\n",
      "\\d+ \\D+ \\s+ \\S+ \\w+ \\W+\n",
      "Matching \"\\\\d\\+\"\n",
      "   0 :  2 = \"\\d+\"\n",
      "Matching \"\\\\D\\+\"\n",
      "   4 :  6 = \"\\D+\"\n",
      "Matching \"\\\\s\\+\"\n",
      "   8 : 10 = \"\\s+\"\n",
      "Matching \"\\\\S\\+\"\n",
      "  12 : 14 = \"\\S+\"\n",
      "Matching \"\\\\w\\+\"\n",
      "  16 : 18 = \"\\w+\"\n",
      "Matching \"\\\\W\\+\"\n",
      "  20 : 22 = \"\\W+\"\n"
     ]
    }
   ],
   "source": [
    "test_patterns(r'\\d+ \\D+ \\s+ \\S+ \\w+ \\W+',\n",
    "              [ r'\\\\d\\+',\n",
    "                r'\\\\D\\+',\n",
    "                r'\\\\s\\+',\n",
    "                r'\\\\S\\+',\n",
    "                r'\\\\w\\+',\n",
    "                r'\\\\W\\+',\n",
    "                ])"
   ]
  },
  {
   "cell_type": "markdown",
   "metadata": {},
   "source": [
    "### Anchoring"
   ]
  },
  {
   "cell_type": "code",
   "execution_count": 40,
   "metadata": {},
   "outputs": [
    {
     "name": "stdout",
     "output_type": "stream",
     "text": [
      " 0.10.20.30.40.50.60.70.80.91.01.11.21.31.41.51.61.71.81.92.02.12.22.32.42.52.62.72.82.93.03.13.23.33.43.53.63.7\n",
      "01234567890123456789012345678901234567\n",
      "This is some text -- with punctuation.\n",
      "Matching \"^\\w+\"\n",
      "   0 :  3 = \"This\"\n",
      "Matching \"\\A\\w+\"\n",
      "   0 :  3 = \"This\"\n",
      "Matching \"\\w+\\S*$\"\n",
      "  26 : 37 = \"punctuation.\"\n",
      "Matching \"\\w+\\S*\\Z\"\n",
      "  26 : 37 = \"punctuation.\"\n",
      "Matching \"\\w*t\\w*\"\n",
      "  13 : 16 = \"text\"\n",
      "  21 : 24 = \"with\"\n",
      "  26 : 36 = \"punctuation\"\n",
      "Matching \"\\bt\\w+\"\n",
      "  13 : 16 = \"text\"\n",
      "Matching \"\\w+t\\b\"\n",
      "  13 : 16 = \"text\"\n",
      "Matching \"\\Bt\\B\"\n",
      "  23 : 23 = \"t\"\n",
      "  30 : 30 = \"t\"\n",
      "  33 : 33 = \"t\"\n"
     ]
    }
   ],
   "source": [
    "test_patterns('This is some text -- with punctuation.',\n",
    "              [ r'^\\w+',     # word at start of string\n",
    "                r'\\A\\w+',    # word at start of string\n",
    "                r'\\w+\\S*$',  # word at end of string, with optional punctuation\n",
    "                r'\\w+\\S*\\Z', # word at end of string, with optional punctuation\n",
    "                r'\\w*t\\w*',  # word containing 't'\n",
    "                r'\\bt\\w+',   # 't' at start of word\n",
    "                r'\\w+t\\b',   # 't' at end of word\n",
    "                r'\\Bt\\B',    # 't', not start or end of word\n",
    "                ])"
   ]
  },
  {
   "cell_type": "markdown",
   "metadata": {},
   "source": [
    "## Constraining the Search"
   ]
  },
  {
   "cell_type": "code",
   "execution_count": 52,
   "metadata": {},
   "outputs": [
    {
     "name": "stdout",
     "output_type": "stream",
     "text": [
      "Text   : This is some text -- with punctuation.\n",
      "Pattern: is\n",
      "Match  : None\n",
      "Search : <_sre.SRE_Match object; span=(2, 4), match='is'>\n"
     ]
    }
   ],
   "source": [
    "text = 'This is some text -- with punctuation.'\n",
    "pattern = 'is'\n",
    "\n",
    "print ('Text   :', text)\n",
    "print ('Pattern:', pattern)\n",
    "\n",
    "m = re.match(pattern, text)\n",
    "print ('Match  :', m)\n",
    "s = re.search(pattern, text)\n",
    "print ('Search :', s)"
   ]
  },
  {
   "cell_type": "code",
   "execution_count": 50,
   "metadata": {},
   "outputs": [
    {
     "name": "stdout",
     "output_type": "stream",
     "text": [
      "Text: This is some text -- with punctuation.\n",
      "   0 :  3 = \"This\"\n",
      "   5 :  6 = \"is\"\n"
     ]
    }
   ],
   "source": [
    "text = 'This is some text -- with punctuation.'\n",
    "pattern = re.compile(r'\\b\\w*is\\w*\\b')\n",
    "\n",
    "print ('Text:', text)\n",
    "print\n",
    "\n",
    "pos = 0\n",
    "while True:\n",
    "    match = pattern.search(text, pos)\n",
    "    if not match:\n",
    "        break\n",
    "    s = match.start()\n",
    "    e = match.end()\n",
    "    print ('  %2d : %2d = \"%s\"' % \\\n",
    "        (s, e-1, text[s:e]))\n",
    "    # Move forward in text for the next search\n",
    "    pos = e\n",
    "    "
   ]
  },
  {
   "cell_type": "markdown",
   "metadata": {},
   "source": [
    "## Dissecting Matches with Groups"
   ]
  },
  {
   "cell_type": "code",
   "execution_count": 57,
   "metadata": {},
   "outputs": [
    {
     "name": "stdout",
     "output_type": "stream",
     "text": [
      " 0.10.20.30.40.50.60.70.80.91.01.11.21.31.4\n",
      "012345678901234\n",
      "abbaaabbbbaaaaa\n",
      "Matching \"a(ab)\"\n",
      "   4 :  6 = \"aab\"\n",
      "Matching \"a(a*b*)\"\n",
      "   0 :  2 = \"abb\"\n",
      "   3 :  9 = \"aaabbbb\"\n",
      "  10 : 14 = \"aaaaa\"\n",
      "Matching \"a(ab)*\"\n",
      "   0 :  0 = \"a\"\n",
      "   3 :  3 = \"a\"\n",
      "   4 :  6 = \"aab\"\n",
      "  10 : 10 = \"a\"\n",
      "  11 : 11 = \"a\"\n",
      "  12 : 12 = \"a\"\n",
      "  13 : 13 = \"a\"\n",
      "  14 : 14 = \"a\"\n",
      "Matching \"a(ab)+\"\n",
      "   4 :  6 = \"aab\"\n"
     ]
    }
   ],
   "source": [
    "test_patterns('abbaaabbbbaaaaa',\n",
    "              [ 'a(ab)',    # 'a' followed by literal 'ab'\n",
    "                'a(a*b*)',  # 'a' followed by 0-n 'a' and 0-n 'b'\n",
    "                'a(ab)*',   # 'a' followed by 0-n 'ab'\n",
    "                'a(ab)+',   # 'a' followed by 1-n 'ab'\n",
    "                ])"
   ]
  },
  {
   "cell_type": "code",
   "execution_count": 59,
   "metadata": {},
   "outputs": [
    {
     "name": "stdout",
     "output_type": "stream",
     "text": [
      "This is some text -- with punctuation.\n",
      "Matching \"^(\\w+)\"\n",
      "   ('This',)\n",
      "Matching \"(\\w+)\\S*$\"\n",
      "   ('punctuation',)\n",
      "Matching \"(\\bt\\w+)\\W+(\\w+)\"\n",
      "   ('text', 'with')\n",
      "Matching \"(\\w+t)\\b\"\n",
      "   ('text',)\n"
     ]
    }
   ],
   "source": [
    "text = 'This is some text -- with punctuation.'\n",
    "\n",
    "print (text)\n",
    "print\n",
    "\n",
    "for pattern in [ r'^(\\w+)',           # word at start of string\n",
    "                 r'(\\w+)\\S*$',        # word at end of string, with optional punctuation\n",
    "                 r'(\\bt\\w+)\\W+(\\w+)', # word starting with 't' then another word\n",
    "                 r'(\\w+t)\\b',         # word ending with 't'\n",
    "                 ]:\n",
    "    regex = re.compile(pattern)\n",
    "    match = regex.search(text)\n",
    "    print ('Matching \"%s\"' % pattern)\n",
    "    print ('  ', match.groups())\n",
    "    print"
   ]
  },
  {
   "cell_type": "code",
   "execution_count": 62,
   "metadata": {},
   "outputs": [
    {
     "name": "stdout",
     "output_type": "stream",
     "text": [
      "Input text            : This is some text -- with punctuation.\n",
      "Pattern               : (\\bt\\w+)\\W+(\\w+)\n",
      "Entire match          : text -- with\n",
      "Word starting with \"t\": text\n",
      "Word after \"t\" word   : with\n",
      "('text', 'with')\n"
     ]
    }
   ],
   "source": [
    "text = 'This is some text -- with punctuation.'\n",
    "\n",
    "print ('Input text            :', text)\n",
    "\n",
    "# word starting with 't' then another word\n",
    "regex = re.compile(r'(\\bt\\w+)\\W+(\\w+)')\n",
    "print ('Pattern               :', regex.pattern)\n",
    "\n",
    "match = regex.search(text)\n",
    "print ('Entire match          :', match.group(0))\n",
    "print ('Word starting with \"t\":', match.group(1))\n",
    "print ('Word after \"t\" word   :', match.group(2))\n",
    "print (match.groups())"
   ]
  },
  {
   "cell_type": "code",
   "execution_count": 65,
   "metadata": {},
   "outputs": [
    {
     "name": "stdout",
     "output_type": "stream",
     "text": [
      "This is some text -- with punctuation.\n",
      "Matching \"^(?P<first_word>\\w+)\"\n",
      "   ('This',)\n",
      "   {'first_word': 'This'}\n",
      "Matching \"(?P<last_word>\\w+)\\S*$\"\n",
      "   ('punctuation',)\n",
      "   {'last_word': 'punctuation'}\n",
      "Matching \"(?P<t_word>\\bt\\w+)\\W+(?P<other_word>\\w+)\"\n",
      "   ('text', 'with')\n",
      "   {'t_word': 'text', 'other_word': 'with'}\n",
      "Matching \"(?P<ends_with_t>\\w+t)\\b\"\n",
      "   ('text',)\n",
      "   {'ends_with_t': 'text'}\n"
     ]
    }
   ],
   "source": [
    "text = 'This is some text -- with punctuation.'\n",
    "\n",
    "print (text)\n",
    "print\n",
    "\n",
    "for pattern in [ r'^(?P<first_word>\\w+)',\n",
    "                 r'(?P<last_word>\\w+)\\S*$',\n",
    "                 r'(?P<t_word>\\bt\\w+)\\W+(?P<other_word>\\w+)',\n",
    "                 r'(?P<ends_with_t>\\w+t)\\b',\n",
    "                 ]:\n",
    "    regex = re.compile(pattern)\n",
    "    match = regex.search(text)\n",
    "    print ('Matching \"%s\"' % pattern)\n",
    "    print ('  ', match.groups())\n",
    "    print ('  ', match.groupdict())\n",
    "    print"
   ]
  },
  {
   "cell_type": "code",
   "execution_count": 83,
   "metadata": {
    "collapsed": true
   },
   "outputs": [],
   "source": [
    "def test_patterns(text, patterns=[]):\n",
    "    \"\"\"Given source text and a list of patterns, look for\n",
    "    matches for each pattern within the text and print\n",
    "    them to stdout.\n",
    "    \"\"\"\n",
    "    # Show the character positions and input text\n",
    "    print\n",
    "    print (''.join(str(i/10 or ' ') for i in range(len(text))))\n",
    "    print (''.join(str(i%10) for i in range(len(text))))\n",
    "    print (text)\n",
    "\n",
    "    # Look for each pattern in the text and print the results\n",
    "    for pattern in patterns:\n",
    "        print\n",
    "        print ('Matching \"%s\"' % pattern)\n",
    "        for match in re.finditer(pattern, text):\n",
    "            s = match.start()\n",
    "            e = match.end()\n",
    "            print ('  %2d : %2d = \"%s\"' % \\\n",
    "                (s, e-1, text[s:e]))\n",
    "            print ('    Groups:', match.groups())\n",
    "            if match.groupdict():\n",
    "                print ('    Named groups:', match.groupdict())\n",
    "            print\n",
    "    return"
   ]
  },
  {
   "cell_type": "code",
   "execution_count": 84,
   "metadata": {},
   "outputs": [
    {
     "name": "stdout",
     "output_type": "stream",
     "text": [
      " 0.10.20.30.40.50.60.70.80.91.01.11.21.31.4\n",
      "012345678901234\n",
      "abbaaabbbbaaaaa\n",
      "Matching \"a((a*)(b*))\"\n",
      "   0 :  2 = \"abb\"\n",
      "    Groups: ('bb', '', 'bb')\n",
      "   3 :  9 = \"aaabbbb\"\n",
      "    Groups: ('aabbbb', 'aa', 'bbbb')\n",
      "  10 : 14 = \"aaaaa\"\n",
      "    Groups: ('aaaa', 'aaaa', '')\n"
     ]
    }
   ],
   "source": [
    "test_patterns('abbaaabbbbaaaaa',\n",
    "              [r'a((a*)(b*))', # 'a' followed by 0-n 'a' and 0-n 'b'\n",
    "               ])"
   ]
  },
  {
   "cell_type": "code",
   "execution_count": 92,
   "metadata": {},
   "outputs": [
    {
     "data": {
      "text/plain": [
       "[('bb', '', 'bb'), ('aabbbb', 'aa', 'bbbb'), ('aaaa', 'aaaa', '')]"
      ]
     },
     "execution_count": 92,
     "metadata": {},
     "output_type": "execute_result"
    }
   ],
   "source": [
    "re.findall(r'a((a*)(b*))',t)"
   ]
  },
  {
   "cell_type": "code",
   "execution_count": 101,
   "metadata": {},
   "outputs": [
    {
     "data": {
      "text/plain": [
       "['a', 'a']"
      ]
     },
     "execution_count": 101,
     "metadata": {},
     "output_type": "execute_result"
    }
   ],
   "source": [
    "re.findall(r'b(a)',t)"
   ]
  },
  {
   "cell_type": "code",
   "execution_count": 102,
   "metadata": {},
   "outputs": [
    {
     "name": "stdout",
     "output_type": "stream",
     "text": [
      " 0.10.20.30.40.50.60.70.80.91.01.11.21.31.4\n",
      "012345678901234\n",
      "abbaaabbbbaaaaa\n",
      "Matching \"a((a+)|(b+))\"\n",
      "   0 :  2 = \"abb\"\n",
      "    Groups: ('bb', None, 'bb')\n",
      "   3 :  5 = \"aaa\"\n",
      "    Groups: ('aa', 'aa', None)\n",
      "  10 : 14 = \"aaaaa\"\n",
      "    Groups: ('aaaa', 'aaaa', None)\n",
      "Matching \"a((a|b)+)\"\n",
      "   0 : 14 = \"abbaaabbbbaaaaa\"\n",
      "    Groups: ('bbaaabbbbaaaaa', 'a')\n"
     ]
    }
   ],
   "source": [
    "test_patterns('abbaaabbbbaaaaa',\n",
    "              [r'a((a+)|(b+))', # 'a' followed by a sequence of 'a' or sequence of 'b'\n",
    "               r'a((a|b)+)',    # 'a' followed by a sequence of 'a' or 'b'\n",
    "               ])"
   ]
  },
  {
   "cell_type": "code",
   "execution_count": 70,
   "metadata": {},
   "outputs": [
    {
     "name": "stdout",
     "output_type": "stream",
     "text": [
      " 0.10.20.30.40.50.60.70.80.91.01.11.21.31.4\n",
      "012345678901234\n",
      "abbaaabbbbaaaaa\n",
      "Matching \"a((a+)|(b+))\"\n",
      "   0 :  2 = \"abb\"\n",
      "    Groups: ('bb', None, 'bb')\n",
      "   3 :  5 = \"aaa\"\n",
      "    Groups: ('aa', 'aa', None)\n",
      "  10 : 14 = \"aaaaa\"\n",
      "    Groups: ('aaaa', 'aaaa', None)\n",
      "Matching \"a((?:a+)|(?:b+))\"\n",
      "   0 :  2 = \"abb\"\n",
      "    Groups: ('bb',)\n",
      "   3 :  5 = \"aaa\"\n",
      "    Groups: ('aa',)\n",
      "  10 : 14 = \"aaaaa\"\n",
      "    Groups: ('aaaa',)\n"
     ]
    }
   ],
   "source": [
    "test_patterns('abbaaabbbbaaaaa',\n",
    "              [r'a((a+)|(b+))',     # capturing form\n",
    "               r'a((?:a+)|(?:b+))', # non-capturing\n",
    "               ])"
   ]
  },
  {
   "cell_type": "markdown",
   "metadata": {},
   "source": [
    "## Search Options"
   ]
  },
  {
   "cell_type": "markdown",
   "metadata": {},
   "source": [
    "### Case-insensitive Matching"
   ]
  },
  {
   "cell_type": "code",
   "execution_count": 103,
   "metadata": {},
   "outputs": [
    {
     "name": "stdout",
     "output_type": "stream",
     "text": [
      "Text            : This is some text -- with punctuation.\n",
      "Pattern         : \\bT\\w+\n",
      "Case-sensitive  : ['This']\n",
      "Case-insensitive: ['This', 'text']\n"
     ]
    }
   ],
   "source": [
    "text = 'This is some text -- with punctuation.'\n",
    "pattern = r'\\bT\\w+'\n",
    "with_case = re.compile(pattern)\n",
    "without_case = re.compile(pattern, re.IGNORECASE)\n",
    "\n",
    "print ('Text            :', text)\n",
    "print ('Pattern         :', pattern)\n",
    "print ('Case-sensitive  :', with_case.findall(text))\n",
    "print ('Case-insensitive:', without_case.findall(text))"
   ]
  },
  {
   "cell_type": "markdown",
   "metadata": {},
   "source": [
    "### Input with Multiple Lines"
   ]
  },
  {
   "cell_type": "code",
   "execution_count": 109,
   "metadata": {},
   "outputs": [
    {
     "name": "stdout",
     "output_type": "stream",
     "text": [
      "Text        : 'This is some text -- with punctuation.\\nAnd a second line.'\n",
      "Pattern     : (^\\w+)|(\\w+\\S*$)\n",
      "Single Line : [('This', ''), ('', 'line.')]\n",
      "Multline    : [('This', ''), ('', 'punctuation.'), ('And', ''), ('', 'line.')]\n"
     ]
    }
   ],
   "source": [
    "text = 'This is some text -- with punctuation.\\nAnd a second line.'\n",
    "pattern = r'(^\\w+)|(\\w+\\S*$)'\n",
    "single_line = re.compile(pattern)\n",
    "multiline = re.compile(pattern, re.MULTILINE)\n",
    "\n",
    "print ('Text        :', repr(text))\n",
    "print ('Pattern     :', pattern)\n",
    "print ('Single Line :', single_line.findall(text))\n",
    "print ('Multline    :', multiline.findall(text))"
   ]
  },
  {
   "cell_type": "code",
   "execution_count": 111,
   "metadata": {},
   "outputs": [
    {
     "name": "stdout",
     "output_type": "stream",
     "text": [
      "No newlines : ['This is some text -- with punctuation.', 'And a second line.']\n",
      "Dotall      : ['This is some text -- with punctuation.\\nAnd a second line.']\n"
     ]
    }
   ],
   "source": [
    "text = 'This is some text -- with punctuation.\\nAnd a second line.'\n",
    "pattern = r'.+'\n",
    "no_newlines = re.compile(pattern)\n",
    "dotall = re.compile(pattern, re.DOTALL)\n",
    "\n",
    "# print 'Text        :', repr(text)\n",
    "# print 'Pattern     :', pattern\n",
    "print ('No newlines :', no_newlines.findall(text))\n",
    "print ('Dotall      :', dotall.findall(text))"
   ]
  },
  {
   "cell_type": "markdown",
   "metadata": {},
   "source": [
    "### Unicode\n",
    "\n",
    "Python3 不需要，因为 Python3 默认对所有的 string 使用 Unicode 编码"
   ]
  },
  {
   "cell_type": "code",
   "execution_count": null,
   "metadata": {
    "collapsed": true
   },
   "outputs": [],
   "source": [
    "import re\n",
    "import codecs\n",
    "import sys\n",
    "\n",
    "# Python2\n",
    "# Set standard output encoding to UTF-8.\n",
    "sys.stdout = codecs.getwriter('UTF-8')(sys.stdout)\n",
    "\n",
    "text = u'Français złoty Österreich'\n",
    "pattern = ur'\\w+'\n",
    "ascii_pattern = re.compile(pattern)\n",
    "unicode_pattern = re.compile(pattern, re.UNICODE)\n",
    "\n",
    "print ('Text    :', text)\n",
    "print ('Pattern :', pattern)\n",
    "print ('ASCII   :', u', '.join(ascii_pattern.findall(text)))\n",
    "print ('Unicode :', u', '.join(unicode_pattern.findall(text)))"
   ]
  },
  {
   "cell_type": "markdown",
   "metadata": {},
   "source": [
    "### Verbose Expression Syntax"
   ]
  },
  {
   "cell_type": "code",
   "execution_count": 2,
   "metadata": {},
   "outputs": [
    {
     "name": "stdout",
     "output_type": "stream",
     "text": [
      "Candidate: first.last@example.com\n",
      "  Matches\n",
      "Candidate: first.last+category@gmail.com\n",
      "  Matches\n",
      "Candidate: valid-address@mail.example.com\n",
      "  Matches\n",
      "Candidate: not-valid@example.foo\n",
      "  No match\n"
     ]
    }
   ],
   "source": [
    "import re\n",
    "\n",
    "address = re.compile('[\\w\\d.+-]+@([\\w\\d.]+\\.)+(com|org|edu)', re.UNICODE)\n",
    "\n",
    "candidates = [\n",
    "    u'first.last@example.com',\n",
    "    u'first.last+category@gmail.com',\n",
    "    u'valid-address@mail.example.com',\n",
    "    u'not-valid@example.foo',\n",
    "    ]\n",
    "\n",
    "for candidate in candidates:\n",
    "    print\n",
    "    print ('Candidate:', candidate)\n",
    "    match = address.search(candidate)\n",
    "    if match:\n",
    "        print ('  Matches')\n",
    "    else:\n",
    "        print ('  No match')"
   ]
  },
  {
   "cell_type": "code",
   "execution_count": 8,
   "metadata": {},
   "outputs": [
    {
     "name": "stdout",
     "output_type": "stream",
     "text": [
      "Candidate: first.last@example.com\n",
      "  Matches\n",
      "Candidate: first.last+category@gmail.com\n",
      "  Matches\n",
      "Candidate: valid-address@mail.example.com\n",
      "  Matches\n",
      "Candidate: not-valid@example.foo\n",
      "  No match\n"
     ]
    }
   ],
   "source": [
    "# 方括号里的就是元素本身，不代表数量\n",
    "address = re.compile(\n",
    "    '''\n",
    "    [\\w\\d.+-]+       # username\n",
    "    @\n",
    "    ([\\w\\d.]+\\.)+    # domain name prefix\n",
    "    (com|org|edu)    # we should support more top-level domains\n",
    "    ''',\n",
    "    re.UNICODE | re.VERBOSE)\n",
    "\n",
    "candidates = [\n",
    "    u'first.last@example.com',\n",
    "    u'first.last+category@gmail.com',\n",
    "    u'valid-address@mail.example.com',\n",
    "    u'not-valid@example.foo',\n",
    "    ]\n",
    "\n",
    "for candidate in candidates:\n",
    "    print\n",
    "    print ('Candidate:', candidate)\n",
    "    match = address.search(candidate)\n",
    "    if match:\n",
    "        print ('  Matches')\n",
    "    else:\n",
    "        print ('  No match')"
   ]
  },
  {
   "cell_type": "code",
   "execution_count": 17,
   "metadata": {},
   "outputs": [
    {
     "name": "stdout",
     "output_type": "stream",
     "text": [
      "Candidate: first.last@example.com\n",
      "  Match name : None\n",
      "  Match email: first.last@example.com\n",
      "Candidate: first.last+category@gmail.com\n",
      "  Match name : None\n",
      "  Match email: first.last+category@gmail.com\n",
      "Candidate: valid-address@mail.example.com\n",
      "  Match name : None\n",
      "  Match email: valid-address@mail.example.com\n",
      "Candidate: not-valid@example.foo\n",
      "  No match\n",
      "Candidate: First Last <first.last@example.com>\n",
      "  Match name : First Last\n",
      "  Match email: first.last@example.com\n",
      "Candidate: No Brackets first.last@example.com\n",
      "  Match name : None\n",
      "  Match email: first.last@example.com\n",
      "Candidate: First Last\n",
      "  No match\n",
      "Candidate: First Middle Last <first.last@example.com>\n",
      "  Match name : First Middle Last\n",
      "  Match email: first.last@example.com\n",
      "Candidate: First M. Last <first.last@example.com>\n",
      "  Match name : First M. Last\n",
      "  Match email: first.last@example.com\n",
      "Candidate: <first.last@example.com>\n",
      "  Match name : None\n",
      "  Match email: first.last@example.com\n"
     ]
    }
   ],
   "source": [
    "address = re.compile(\n",
    "    '''\n",
    "\n",
    "    # A name is made up of letters, and may include \".\" for title\n",
    "    # abbreviations and middle initials.\n",
    "    ((?P<name>\n",
    "       ([\\w.,]+\\s+)*[\\w.,]+)\n",
    "       \\s*\n",
    "       # Email addresses are wrapped in angle brackets: < >\n",
    "       # but we only want one if we found a name, so keep\n",
    "       # the start bracket in this group.\n",
    "       <\n",
    "    )? # the entire name is optional\n",
    "\n",
    "    # The address itself: username@domain.tld\n",
    "    (?P<email>\n",
    "      [\\w\\d.+-]+       # username\n",
    "      @\n",
    "      ([\\w\\d.]+\\.)+    # domain name prefix\n",
    "      (com|org|edu)    # limit the allowed top-level domains\n",
    "    )\n",
    "\n",
    "    >? # optional closing angle bracket\n",
    "    ''',\n",
    "    re.UNICODE | re.VERBOSE)\n",
    "\n",
    "candidates = [\n",
    "    u'first.last@example.com',\n",
    "    u'first.last+category@gmail.com',\n",
    "    u'valid-address@mail.example.com',\n",
    "    u'not-valid@example.foo',\n",
    "    u'First Last <first.last@example.com>',\n",
    "    u'No Brackets first.last@example.com',\n",
    "    u'First Last',\n",
    "    u'First Middle Last <first.last@example.com>',\n",
    "    u'First M. Last <first.last@example.com>',\n",
    "    u'<first.last@example.com>',\n",
    "    ]\n",
    "\n",
    "for candidate in candidates:\n",
    "    print\n",
    "    print ('Candidate:', candidate)\n",
    "    match = address.search(candidate)\n",
    "    if match:\n",
    "        print ('  Match name :', match.groupdict()['name'])\n",
    "        print ('  Match email:', match.groupdict()['email'])\n",
    "    else:\n",
    "        print ('  No match')"
   ]
  },
  {
   "cell_type": "markdown",
   "metadata": {},
   "source": [
    "### Embedding Flags in Patterns"
   ]
  },
  {
   "cell_type": "code",
   "execution_count": 19,
   "metadata": {},
   "outputs": [
    {
     "name": "stdout",
     "output_type": "stream",
     "text": [
      "Text      : This is some text -- with punctuation.\n",
      "Pattern   : (?i)\\bT\\w+\n",
      "Matches   : ['This', 'text']\n"
     ]
    }
   ],
   "source": [
    "text = 'This is some text -- with punctuation.'\n",
    "pattern = r'(?i)\\bT\\w+'\n",
    "regex = re.compile(pattern)\n",
    "\n",
    "print ('Text      :', text)\n",
    "print ('Pattern   :', pattern)\n",
    "print ('Matches   :', regex.findall(text))"
   ]
  },
  {
   "cell_type": "code",
   "execution_count": 25,
   "metadata": {},
   "outputs": [
    {
     "name": "stdout",
     "output_type": "stream",
     "text": [
      "Text      : This is some text -- with punctuation.\n",
      "Pattern   : (?i)\\bT\\w+\n",
      "Matches   : ['This', 'text']\n"
     ]
    }
   ],
   "source": [
    "text = 'This is some text -- with punctuation.'\n",
    "pattern = r'(?i)\\bT\\w+'\n",
    "regex = re.compile(pattern)\n",
    "\n",
    "print ('Text      :', text)\n",
    "print ('Pattern   :', pattern)\n",
    "print ('Matches   :', regex.findall(text))"
   ]
  },
  {
   "cell_type": "markdown",
   "metadata": {},
   "source": [
    "## Looking Ahead, or behind"
   ]
  },
  {
   "cell_type": "code",
   "execution_count": 62,
   "metadata": {},
   "outputs": [
    {
     "name": "stdout",
     "output_type": "stream",
     "text": [
      "Candidate: First Last <first.last@example.com>\n",
      "  Match name : First Last\n",
      "  Match email: first.last@example.com\n",
      "Candidate: No Brackets first.last@example.com\n",
      "  Match name : No Brackets\n",
      "  Match email: first.last@example.com\n",
      "Candidate: Open Bracket <first.last@example.com\n",
      "  No match\n",
      "Candidate: Close Bracket first.last@example.com>\n",
      "  No match\n"
     ]
    }
   ],
   "source": [
    "address = re.compile(\n",
    "    '''\n",
    "    # A name is made up of letters, and may include \".\" for title\n",
    "    # abbreviations and middle initials.\n",
    "    ((?P<name>\n",
    "       ([\\w.,]+\\s+)*[\\w.,]+\n",
    "     )\n",
    "     \\s+\n",
    "    ) # name is no longer optional\n",
    "\n",
    "    # LOOKAHEAD\n",
    "    # Email addresses are wrapped in angle brackets, but we only want\n",
    "    # the brackets if they are both there, or neither are.\n",
    "    (?= (<.*>$)       # remainder wrapped in angle brackets\n",
    "        |\n",
    "        ([^<].*[^>]$) # remainder *not* wrapped in angle brackets\n",
    "      )\n",
    "\n",
    "    <? # optional opening angle bracket\n",
    "\n",
    "    # The address itself: username@domain.tld\n",
    "    (?P<email>\n",
    "      [\\w\\d.+-]+       # username\n",
    "      @\n",
    "      ([\\w\\d.]+\\.)+    # domain name prefix\n",
    "      (com|org|edu)    # limit the allowed top-level domains\n",
    "    )\n",
    "\n",
    "    >? # optional closing angle bracket\n",
    "    ''',\n",
    "    re.UNICODE | re.VERBOSE)\n",
    "\n",
    "candidates = [\n",
    "    u'First Last <first.last@example.com>',\n",
    "    u'No Brackets first.last@example.com',\n",
    "    u'Open Bracket <first.last@example.com',\n",
    "    u'Close Bracket first.last@example.com>',\n",
    "    ]\n",
    "\n",
    "for candidate in candidates:\n",
    "    print\n",
    "    print ('Candidate:', candidate)\n",
    "    match = address.search(candidate)\n",
    "    if match:\n",
    "        print ('  Match name :', match.groupdict()['name'])\n",
    "        print ('  Match email:', match.groupdict()['email'])\n",
    "    else:\n",
    "        print ('  No match')"
   ]
  },
  {
   "cell_type": "code",
   "execution_count": 89,
   "metadata": {},
   "outputs": [
    {
     "name": "stdout",
     "output_type": "stream",
     "text": [
      "Candidate: first.last@example.com\n",
      "  Match: first.last@example.com\n",
      "Candidate: noreply@example.com\n",
      "  No match\n"
     ]
    }
   ],
   "source": [
    "address = re.compile(\n",
    "    '''\n",
    "    ^\n",
    "\n",
    "    # An address: username@domain.tld\n",
    "\n",
    "    # Ignore noreply addresses\n",
    "    (?!noreply@.*$)\n",
    "\n",
    "    [\\w\\d.+-]+       # username\n",
    "    @\n",
    "    ([\\w\\d.]+\\.)+    # domain name prefix\n",
    "    (com|org|edu)    # limit the allowed top-level domains\n",
    "\n",
    "    $\n",
    "    ''',\n",
    "    re.UNICODE | re.VERBOSE)\n",
    "\n",
    "candidates = [\n",
    "    u'first.last@example.com',\n",
    "    u'noreply@example.com',\n",
    "    ]\n",
    "\n",
    "for candidate in candidates:\n",
    "    print\n",
    "    print ('Candidate:', candidate)\n",
    "    match = address.search(candidate)\n",
    "    if match:\n",
    "        print ('  Match:', candidate[match.start():match.end()])\n",
    "    else:\n",
    "        print ('  No match')"
   ]
  },
  {
   "cell_type": "code",
   "execution_count": 97,
   "metadata": {},
   "outputs": [
    {
     "name": "stdout",
     "output_type": "stream",
     "text": [
      "Candidate: first.last@example.com\n",
      "  Match: first.last@example.com\n",
      "Candidate: noreply@example.com\n",
      "  No match\n"
     ]
    }
   ],
   "source": [
    "address = re.compile(\n",
    "    '''\n",
    "    ^\n",
    "\n",
    "    # An address: username@domain.tld\n",
    "\n",
    "    [\\w\\d.+-]+       # username\n",
    "\n",
    "    # Ignore noreply addresses\n",
    "    (?<!noreply)\n",
    "\n",
    "    @\n",
    "    ([\\w\\d.]+\\.)+    # domain name prefix\n",
    "    (com|org|edu)    # limit the allowed top-level domains\n",
    "\n",
    "    $\n",
    "    ''',\n",
    "    re.UNICODE | re.VERBOSE)\n",
    "\n",
    "candidates = [\n",
    "    u'first.last@example.com',\n",
    "    u'noreply@example.com',\n",
    "    ]\n",
    "\n",
    "for candidate in candidates:\n",
    "    print\n",
    "    print ('Candidate:', candidate)\n",
    "    match = address.search(candidate)\n",
    "    if match:\n",
    "        print ('  Match:', candidate[match.start():match.end()])\n",
    "    else:\n",
    "        print ('  No match')"
   ]
  },
  {
   "cell_type": "code",
   "execution_count": 4,
   "metadata": {
    "scrolled": true
   },
   "outputs": [
    {
     "name": "stdout",
     "output_type": "stream",
     "text": [
      "This text includes two Twitter handles.\n",
      "One for @ThePSF, and one for the author, @doughellmann.\n",
      "\n",
      "Handle: ThePSF\n",
      "Handle: doughellmann\n"
     ]
    }
   ],
   "source": [
    "import re\n",
    "twitter = re.compile(\n",
    "    '''\n",
    "    # A twitter handle: @username\n",
    "    (?<=@)\n",
    "    ([\\w\\d_]+)       # username\n",
    "    ''',\n",
    "    re.UNICODE | re.VERBOSE)\n",
    "\n",
    "text = '''This text includes two Twitter handles.\n",
    "One for @ThePSF, and one for the author, @doughellmann.\n",
    "'''\n",
    "\n",
    "print (text)\n",
    "for match in twitter.findall(text):\n",
    "    print ('Handle:', match)"
   ]
  },
  {
   "cell_type": "code",
   "execution_count": 12,
   "metadata": {},
   "outputs": [
    {
     "name": "stdout",
     "output_type": "stream",
     "text": [
      "This text includes two Twitter handles.\n",
      "One for @ThePSF, and one for the author, @doughellmann.\n",
      "\n"
     ]
    }
   ],
   "source": [
    "import re\n",
    "twitter = re.compile(\n",
    "    '''\n",
    "    # A twitter handle: @username\n",
    "    # 注意，改成「=」不对\n",
    "    (?=@)\n",
    "    ([\\w\\d_]+)       # username\n",
    "    ''',\n",
    "    re.UNICODE | re.VERBOSE)\n",
    "\n",
    "text = '''This text includes two Twitter handles.\n",
    "One for @ThePSF, and one for the author, @doughellmann.\n",
    "'''\n",
    "\n",
    "print (text)\n",
    "for match in twitter.findall(text):\n",
    "    print ('Handle:', match)"
   ]
  },
  {
   "cell_type": "markdown",
   "metadata": {},
   "source": [
    "## Self-referencing Expressions"
   ]
  },
  {
   "cell_type": "code",
   "execution_count": 110,
   "metadata": {},
   "outputs": [
    {
     "name": "stdout",
     "output_type": "stream",
     "text": [
      "Candidate: First Last <first.last@example.com>\n",
      "  Match name : First Last\n",
      "  Match email: first.last@example.com\n",
      "Candidate: Different Name <first.last@example.com>\n",
      "  No match\n",
      "Candidate: First Middle Last <first.last@example.com>\n",
      "  Match name : First Last\n",
      "  Match email: first.last@example.com\n",
      "Candidate: First M. Last <first.last@example.com>\n",
      "  Match name : First Last\n",
      "  Match email: first.last@example.com\n"
     ]
    }
   ],
   "source": [
    "address = re.compile(\n",
    "    r'''\n",
    "\n",
    "    # The regular name\n",
    "    (\\w+)               # first name\n",
    "    \\s+\n",
    "    (([\\w.]+)\\s+)?      # optional middle name or initial\n",
    "    (\\w+)               # last name\n",
    "\n",
    "    \\s+\n",
    "\n",
    "    <\n",
    "\n",
    "    # The address: first_name.last_name@domain.tld\n",
    "    (?P<email>\n",
    "      \\1               # first name\n",
    "      \\.\n",
    "      \\4               # last name\n",
    "      @\n",
    "      ([\\w\\d.]+\\.)+    # domain name prefix\n",
    "      (com|org|edu)    # limit the allowed top-level domains\n",
    "    )\n",
    "\n",
    "    >\n",
    "    ''',\n",
    "    re.UNICODE | re.VERBOSE | re.IGNORECASE)\n",
    "\n",
    "candidates = [\n",
    "    u'First Last <first.last@example.com>',\n",
    "    u'Different Name <first.last@example.com>',\n",
    "    u'First Middle Last <first.last@example.com>',\n",
    "    u'First M. Last <first.last@example.com>',\n",
    "    ]\n",
    "\n",
    "for candidate in candidates:\n",
    "    print\n",
    "    print ('Candidate:', candidate)\n",
    "    match = address.search(candidate)\n",
    "    if match:\n",
    "        print ('  Match name :', match.group(1), match.group(4))\n",
    "        print ('  Match email:', match.group(5))\n",
    "    else:\n",
    "        print ('  No match')"
   ]
  },
  {
   "cell_type": "code",
   "execution_count": 112,
   "metadata": {},
   "outputs": [
    {
     "name": "stdout",
     "output_type": "stream",
     "text": [
      "Candidate: First Last <first.last@example.com>\n",
      "  Match name : First Last\n",
      "  Match email: first.last@example.com\n",
      "Candidate: Different Name <first.last@example.com>\n",
      "  No match\n",
      "Candidate: First Middle Last <first.last@example.com>\n",
      "  Match name : First Last\n",
      "  Match email: first.last@example.com\n",
      "Candidate: First M. Last <first.last@example.com>\n",
      "  Match name : First Last\n",
      "  Match email: first.last@example.com\n"
     ]
    }
   ],
   "source": [
    "address = re.compile(\n",
    "    '''\n",
    "\n",
    "    # The regular name\n",
    "    (?P<first_name>\\w+)\n",
    "    \\s+\n",
    "    (([\\w.]+)\\s+)?      # optional middle name or initial\n",
    "    (?P<last_name>\\w+)\n",
    "\n",
    "    \\s+\n",
    "\n",
    "    <\n",
    "\n",
    "    # The address: first_name.last_name@domain.tld\n",
    "    (?P<email>\n",
    "      (?P=first_name)\n",
    "      \\.\n",
    "      (?P=last_name)\n",
    "      @\n",
    "      ([\\w\\d.]+\\.)+    # domain name prefix\n",
    "      (com|org|edu)    # limit the allowed top-level domains\n",
    "    )\n",
    "\n",
    "    >\n",
    "    ''',\n",
    "    re.UNICODE | re.VERBOSE | re.IGNORECASE)\n",
    "\n",
    "candidates = [\n",
    "    u'First Last <first.last@example.com>',\n",
    "    u'Different Name <first.last@example.com>',\n",
    "    u'First Middle Last <first.last@example.com>',\n",
    "    u'First M. Last <first.last@example.com>',\n",
    "    ]\n",
    "\n",
    "for candidate in candidates:\n",
    "    print\n",
    "    print ('Candidate:', candidate)\n",
    "    match = address.search(candidate)\n",
    "    if match:\n",
    "        print ('  Match name :', match.groupdict()['first_name'], match.groupdict()['last_name'])\n",
    "        print ('  Match email:', match.groupdict()['email'])\n",
    "    else:\n",
    "        print ('  No match')"
   ]
  },
  {
   "cell_type": "code",
   "execution_count": 113,
   "metadata": {},
   "outputs": [
    {
     "name": "stdout",
     "output_type": "stream",
     "text": [
      "Candidate: First Last <first.last@example.com>\n",
      "  Match name : First Last\n",
      "  Match email: first.last@example.com\n",
      "Candidate: No Brackets first.last@example.com\n",
      "  No match\n",
      "Candidate: Open Bracket <first.last@example.com\n",
      "  No match\n",
      "Candidate: Close Bracket first.last@example.com>\n",
      "  No match\n",
      "Candidate: no.brackets@example.com\n",
      "  Match name : None\n",
      "  Match email: no.brackets@example.com\n"
     ]
    }
   ],
   "source": [
    "address = re.compile(\n",
    "    '''\n",
    "    ^\n",
    "\n",
    "    # A name is made up of letters, and may include \".\" for title\n",
    "    # abbreviations and middle initials.\n",
    "    (?P<name>\n",
    "       ([\\w.]+\\s+)*[\\w.]+\n",
    "     )?\n",
    "    \\s*\n",
    "\n",
    "    # Email addresses are wrapped in angle brackets, but we only want\n",
    "    # the brackets if we found a name.\n",
    "    (?(name)\n",
    "      # remainder wrapped in angle brackets because we have a name\n",
    "      (?P<brackets>(?=(<.*>$)))\n",
    "      |\n",
    "      # remainder does not include angle brackets without name\n",
    "      (?=([^<].*[^>]$))\n",
    "     )\n",
    "\n",
    "    # Only look for a bracket if our look ahead assertion found both\n",
    "    # of them.\n",
    "    (?(brackets)<|\\s*)\n",
    "\n",
    "    # The address itself: username@domain.tld\n",
    "    (?P<email>\n",
    "      [\\w\\d.+-]+       # username\n",
    "      @\n",
    "      ([\\w\\d.]+\\.)+    # domain name prefix\n",
    "      (com|org|edu)    # limit the allowed top-level domains\n",
    "     )\n",
    "\n",
    "    # Only look for a bracket if our look ahead assertion found both\n",
    "    # of them.\n",
    "    (?(brackets)>|\\s*)\n",
    "\n",
    "    $\n",
    "    ''',\n",
    "    re.UNICODE | re.VERBOSE)\n",
    "\n",
    "candidates = [\n",
    "    u'First Last <first.last@example.com>',\n",
    "    u'No Brackets first.last@example.com',\n",
    "    u'Open Bracket <first.last@example.com',\n",
    "    u'Close Bracket first.last@example.com>',\n",
    "    u'no.brackets@example.com',\n",
    "    ]\n",
    "\n",
    "for candidate in candidates:\n",
    "    print\n",
    "    print ('Candidate:', candidate)\n",
    "    match = address.search(candidate)\n",
    "    if match:\n",
    "        print ('  Match name :', match.groupdict()['name'])\n",
    "        print ('  Match email:', match.groupdict()['email'])\n",
    "    else:\n",
    "        print ('  No match')"
   ]
  },
  {
   "cell_type": "code",
   "execution_count": 150,
   "metadata": {
    "scrolled": true
   },
   "outputs": [
    {
     "name": "stdout",
     "output_type": "stream",
     "text": [
      "Candidate: First Last <first.last@example.com>\n",
      "  No match\n",
      "Candidate: No Brackets first.last@example.com\n",
      "  Match name : No Brackets \n",
      "Candidate: Open Bracket <first.last@example.com\n",
      "  No match\n",
      "Candidate: Close Bracket first.last@example.com>\n",
      "  Match name : Close Bracket \n",
      "Candidate: fdf no.brackets@example.com\n",
      "  No match\n"
     ]
    }
   ],
   "source": [
    "address = re.compile(\n",
    "    '''\n",
    "    # 注意，目前这种情无法匹配到 u'First Last <first.last@example.com>'，因为 '<'\n",
    "    ^(?P<name>\\w+\\s\\w+\\s)\n",
    "    (?(name)(?=(\\w+))|(?=([^<].*[^>]$)))\n",
    "    ''',re.UNICODE | re.VERBOSE)\n",
    "\n",
    "candidates = [\n",
    "    u'First Last <first.last@example.com>',\n",
    "    u'No Brackets first.last@example.com',\n",
    "    u'Open Bracket <first.last@example.com',\n",
    "    u'Close Bracket first.last@example.com>',\n",
    "    u'fdf no.brackets@example.com',\n",
    "    ]\n",
    "\n",
    "for candidate in candidates:\n",
    "    print\n",
    "    print ('Candidate:', candidate)\n",
    "    match = address.search(candidate)\n",
    "    if match:\n",
    "        print ('  Match name :', match.groupdict()['name'])\n",
    "    else:\n",
    "        print ('  No match')"
   ]
  },
  {
   "cell_type": "markdown",
   "metadata": {},
   "source": [
    "## Modifying Strings with Patterns"
   ]
  },
  {
   "cell_type": "code",
   "execution_count": 161,
   "metadata": {
    "scrolled": false
   },
   "outputs": [
    {
     "name": "stdout",
     "output_type": "stream",
     "text": [
      "Text: Make this **bold**.  This **too**.\n",
      "Bold: Make this <b>bold</b>.  This <b>too</b>.\n"
     ]
    }
   ],
   "source": [
    "# ?表示非贪婪匹配\n",
    "bold = re.compile(r'\\*{2}(.*?)\\*{2}', re.UNICODE)\n",
    "\n",
    "text = 'Make this **bold**.  This **too**.'\n",
    "\n",
    "print ('Text:', text)\n",
    "print ('Bold:', bold.sub(r'<b>\\1</b>', text))"
   ]
  },
  {
   "cell_type": "code",
   "execution_count": 164,
   "metadata": {},
   "outputs": [
    {
     "name": "stdout",
     "output_type": "stream",
     "text": [
      "Text: Make this **bold**.  This **too**.\n",
      "Bold: Make this <b>bold</b>.  This <b>too</b>.\n"
     ]
    }
   ],
   "source": [
    "# 可以用名字\n",
    "bold = re.compile(r'\\*{2}(?P<bold_text>.*?)\\*{2}', re.UNICODE)\n",
    "\n",
    "text = 'Make this **bold**.  This **too**.'\n",
    "\n",
    "print ('Text:', text)\n",
    "print ('Bold:', bold.sub(r'<b>\\g<bold_text></b>', text))"
   ]
  },
  {
   "cell_type": "code",
   "execution_count": 165,
   "metadata": {
    "scrolled": true
   },
   "outputs": [
    {
     "name": "stdout",
     "output_type": "stream",
     "text": [
      "Text: Make this **bold**.  This **too**.\n",
      "Bold: ('Make this <b>bold</b>.  This <b>too</b>.', 2)\n"
     ]
    }
   ],
   "source": [
    "bold = re.compile(r'\\*{2}(.*?)\\*{2}', re.UNICODE)\n",
    "\n",
    "text = 'Make this **bold**.  This **too**.'\n",
    "\n",
    "print ('Text:', text)\n",
    "print ('Bold:', bold.subn(r'<b>\\1</b>', text))"
   ]
  },
  {
   "cell_type": "markdown",
   "metadata": {},
   "source": [
    "## Splitting with Patterns"
   ]
  },
  {
   "cell_type": "code",
   "execution_count": 179,
   "metadata": {},
   "outputs": [
    {
     "name": "stdout",
     "output_type": "stream",
     "text": [
      "0 'Paragraph one\\non two lines.'\n",
      "1 'Paragraph two.'\n"
     ]
    }
   ],
   "source": [
    "text = 'Paragraph one\\non two lines.\\n\\nParagraph two.\\n\\n\\nParagraph three.'\n",
    "\n",
    "for num, para in enumerate(re.findall(r'(.+?)\\n{2,}', text, flags=re.DOTALL)):\n",
    "    print (num, repr(para))\n",
    "    print"
   ]
  },
  {
   "cell_type": "code",
   "execution_count": 191,
   "metadata": {},
   "outputs": [
    {
     "name": "stdout",
     "output_type": "stream",
     "text": [
      "With findall:\n",
      "0 ('Paragraph one\\non two lines.', '\\n\\n')\n",
      "1 ('Paragraph two.', '\\n\\n\\n')\n",
      "2 ('Paragraph three.', '')\n",
      "With split:\n",
      "0 'Paragraph one\\non two lines.'\n",
      "1 'Paragraph two.'\n",
      "2 'Paragraph three.'\n"
     ]
    }
   ],
   "source": [
    "text = 'Paragraph one\\non two lines.\\n\\nParagraph two.\\n\\n\\nParagraph three.'\n",
    "\n",
    "print ('With findall:')\n",
    "for num, para in enumerate(re.findall(r'(.+?)(\\n{2,}|$)', text, flags=re.DOTALL)):\n",
    "    print (num, repr(para))\n",
    "    print\n",
    "\n",
    "print\n",
    "print ('With split:')\n",
    "for num, para in enumerate(re.split(r'\\n{2,}', text)):\n",
    "    print (num, repr(para))\n",
    "    print"
   ]
  },
  {
   "cell_type": "code",
   "execution_count": 189,
   "metadata": {},
   "outputs": [
    {
     "name": "stdout",
     "output_type": "stream",
     "text": [
      "With split:\n",
      "0 'Paragraph one\\non two lines.'\n",
      "1 '\\n\\n'\n",
      "2 'Paragraph two.'\n",
      "3 '\\n\\n\\n'\n",
      "4 'Paragraph three.'\n"
     ]
    }
   ],
   "source": [
    "text = 'Paragraph one\\non two lines.\\n\\nParagraph two.\\n\\n\\nParagraph three.'\n",
    "\n",
    "print\n",
    "print ('With split:')\n",
    "for num, para in enumerate(re.split(r'(\\n{2,})', text)):\n",
    "    print (num, repr(para))\n",
    "    print"
   ]
  },
  {
   "cell_type": "markdown",
   "metadata": {},
   "source": [
    "# 笔记\n",
    "\n",
    "\n",
    "说明：例子可以直接从 1.8 开始看\n",
    "\n",
    "\n",
    "## `RE`\n",
    "\n",
    "- `re.compile()`\n",
    "  - compile 常用的表达式更高效\n",
    "    - 使用编译的表达式能避免高速缓存查找开销，将编译工作转移到应用程序启动时，而不是程序响应用户操作\n",
    "  - `re.compile(pattern, re.IGNORECASE)`: IGNORECASE 忽略大小写\n",
    "  - `re.compile(pattern, re.MULTILINE)`: 是否按行匹配，带参数按行，不带参数整个字符串为整体（不考虑换行符）\n",
    "  - `re.compile(pattern, re.DOTALL)`: 默认不匹配换行符，带参数匹配换行符\n",
    "  - `re.compile(pattern, re.Unicode | re.VERBOSE)`: 让 pattern 看起来更易读\n",
    "  - `< and >`: angle brackets，`(?P<pattern_name>pattern)`，给 pattern 命名\n",
    "  - 嵌入标志（编译表达式无法添加标志时，可以在表达式字符串本身内嵌入标志）\n",
    "    - 打开不区分大小写匹配项: `(?i)` 添加到 pattern 的最前面就好\n",
    "    - `i: IGNORECASE; m: MULTILINE; s: DOTALL; u: UNICODE; x: VERBOSE`\n",
    "    - `?:...`: 无捕获组\n",
    "  - `(?(id)yes-expression|no-expression)`,  id 是 group name or number\n",
    "    - `yes-expression` is the pattern to use if the group has a value，如果 group 有返回值时执行 \n",
    "    - `no-expression` is the pattern to use otherwise.\n",
    "  - `(?pattern)`\n",
    "      - `(?!pattern)`: 不匹配 pattern\n",
    "      - `(?<!noreply)` 放在匹配到的 username 下和 `(?!noreply@.*$)` 放在最前面匹配是一样的\n",
    "      - `(?<=@)`: 等于 @\n",
    "- `re.search()`\n",
    "  - 使用 pattern 扫描文本\n",
    "  - 如果找到则返回 Match 对象，否则返回 `None`\n",
    "    - `match.start(), match.end()` 返回匹配到对象的起止位置\n",
    "- **`pattern.search()`**\n",
    "  - 返回子串，而不是 `re.search()` 的整个字符串\n",
    "- `re.match()`\n",
    "  - 只有 pattern 在文本的最开始才返回结果，否则返回 `None`\n",
    "- `re.findall()`\n",
    "  - `finditer` 返回一个迭代器，可以使用 `match.start(), match.end()` 返回起止位置\n",
    "- `groups()`\n",
    "  - **返回匹配到的字符序列**，不需要再用起止位置确定返回的字符串\n",
    "  - `group(index)`: 返回单独的一个 group（匹配到的结果）\n",
    "  - `(?P<name>pattern)`: 给一个 group 命名，`match.groupdict()` 返回 {名字:值} 的字典\n",
    "  - 用「行数」引用或用 `(?P=pattern_name)` 引用\n",
    "- `re.findall(r'a((a*)(b*))',t)`: 类似这种，第一个 a 是不返回到结果的，只返回括号里面的\n",
    "- `re.sub()`\n",
    "  - `\\g<name>` 语法也适用于编号引用，并且使用它可以消除组号和周围文字数字之间的任何歧义。\n",
    "  - `bold = re.compile(r'\\*{2}(?P<bold_text>.*?)\\*{2}', re.UNICODE)`，替换时，中间那块不变\n",
    "    - `bold.sub(r'<b>\\g<bold_text></b>', text)`: `<bold_text>` 是表达式名字\n",
    "  - `bold = re.compile(r'\\*{2}(.*?)\\*{2}', re.UNICODE)`\n",
    "    - `bold.sub(r'<b>\\1</b>', text)`: `bold` 是正则表达式，`<b>\\1</b>` 表示要替换的正则内容，`\\1` 表示匹配时的中间部分**不变**\n",
    "  - `subn()` 返回修改后的字符串和替换的数量\n",
    "- `re.split()`\n",
    "  - `re.split(r'(\\n{2,})', text)`: 返回分隔符和分割后的结果\n",
    "  - `re.split(r'\\n{2,}', text)`: 返回分割后的结果"
   ]
  },
  {
   "cell_type": "markdown",
   "metadata": {},
   "source": [
    "## 正则要义\n",
    "\n",
    "\n",
    "\n",
    "- 数量\n",
    "  - {} 多少次\n",
    "  - \\* 等于 {0,}，0 次或任意正次数\n",
    "  - \\+  等于 {1,}，1 次或任意正次数\n",
    "  - ?  等于 {0,1}，0 次或 1 次\n",
    "  - pattern 后面加「?」（英文的问号）就是非贪婪匹配，默认是贪婪匹配（匹配尽可能多的字符）\n",
    "    - 也就是匹配数量少的次数（也就是 {} 左边的数字次数）\n",
    "- 转义\n",
    "  - 范围\n",
    "    - `[ab]`: a or b，`[\\w\\d.+-]` 里面的「.+-」就是代表自身\n",
    "    - `a[ab]+`: aa... or ab...\n",
    "    - `a[ab]+?`: aa or ab\n",
    "    - `[^-. ]+`: 不含 `-, ., 空格` 的\n",
    "    - `[A-Z][a-z]+`: 一个大写字母后面跟着小写字母\n",
    "  - 小数点\n",
    "    - `.` 表示任何单独的字符，除了换行符（\\n）\n",
    "    - `a.*b`: a 后面任意字符，b 结尾\n",
    "    - `a.*?b`: a 后面任意字符，b 结尾，非贪婪\n",
    "  - 反斜杠\n",
    "    - `\\d`: a digit\n",
    "    - `\\D`: a non-digit\n",
    "    - `\\s`: whitespace(tab, space, newline, etc.)\n",
    "    - `\\S`: non-whitespace\n",
    "    - `\\w`: alphanumeric 字母数字\n",
    "    - `\\W`: non-alphanumeric 非字母数字（标点，符号如#等）\n",
    "    - `\\`: 转义\n",
    "- 位置\n",
    "  - `^`: string or line 开始\n",
    "  - `$`: string or line 结尾\n",
    "  - `\\A`: string 开始\n",
    "  - `\\Z`: string 结尾\n",
    "  - `\\b`: empty string at the beginning or end of a word\n",
    "  - `\\B`: empty string not at the beginning or end of a word\n",
    "  - 例子\n",
    "    - `r'^\\w+',     # word at start of string`\n",
    "    - `r'\\A\\w+',    # word at start of string`\n",
    "    - `r'\\w+\\S*$',  # word at end of string, with optional punctuation`\n",
    "    - `r'\\w+\\S*\\Z', # word at end of string, with optional punctuation`\n",
    "    - `r'\\w*t\\w*',  # word containing 't'`\n",
    "    - `r'\\bt\\w+',   # 't' at start of word`\n",
    "    - `r'\\w+t\\b',   # 't' at end of word`\n",
    "    - `r'\\Bt\\B',    # 't', not start or end of word`\n",
    "- 逻辑\n",
    "  - `()`: 分组，视为整体\n",
    "  - `|`: 管道符，要么用左边的字符串匹配，要么用右边的匹配"
   ]
  }
 ],
 "metadata": {
  "kernelspec": {
   "display_name": "Python 3",
   "language": "python",
   "name": "python3"
  },
  "language_info": {
   "codemirror_mode": {
    "name": "ipython",
    "version": 3
   },
   "file_extension": ".py",
   "mimetype": "text/x-python",
   "name": "python",
   "nbconvert_exporter": "python",
   "pygments_lexer": "ipython3",
   "version": "3.7.4"
  },
  "latex_envs": {
   "LaTeX_envs_menu_present": true,
   "autoclose": false,
   "autocomplete": true,
   "bibliofile": "biblio.bib",
   "cite_by": "apalike",
   "current_citInitial": 1,
   "eqLabelWithNumbers": true,
   "eqNumInitial": 1,
   "hotkeys": {
    "equation": "Ctrl-E",
    "itemize": "Ctrl-I"
   },
   "labels_anchors": false,
   "latex_user_defs": false,
   "report_style_numbering": false,
   "user_envs_cfg": false
  },
  "toc": {
   "base_numbering": 1,
   "nav_menu": {
    "height": "264px",
    "width": "252px"
   },
   "number_sections": true,
   "sideBar": true,
   "skip_h1_title": false,
   "title_cell": "Table of Contents",
   "title_sidebar": "Contents",
   "toc_cell": true,
   "toc_position": {},
   "toc_section_display": "block",
   "toc_window_display": true
  }
 },
 "nbformat": 4,
 "nbformat_minor": 1
}
