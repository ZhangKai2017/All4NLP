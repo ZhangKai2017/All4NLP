{
 "cells": [
  {
   "cell_type": "markdown",
   "metadata": {},
   "source": [
    "## EmbeddingLayer"
   ]
  },
  {
   "cell_type": "code",
   "execution_count": 32,
   "metadata": {},
   "outputs": [],
   "source": [
    "import tensorflow as tf\n",
    "import numpy as np"
   ]
  },
  {
   "cell_type": "code",
   "execution_count": 33,
   "metadata": {},
   "outputs": [],
   "source": [
    "layer = tf.keras.layers.Layer()"
   ]
  },
  {
   "cell_type": "code",
   "execution_count": 34,
   "metadata": {},
   "outputs": [
    {
     "data": {
      "text/plain": [
       "TensorShape([100, 8])"
      ]
     },
     "execution_count": 34,
     "metadata": {},
     "output_type": "execute_result"
    }
   ],
   "source": [
    "vocab_size = 100\n",
    "hidden_size = 8\n",
    "shared_weights = layer.add_weight(\n",
    "    name=\"weights\",\n",
    "    shape=[vocab_size, hidden_size],\n",
    "    initializer=tf.random_normal_initializer(mean=0., stddev=hidden_size**-0.5))\n",
    "shared_weights.shape"
   ]
  },
  {
   "cell_type": "code",
   "execution_count": 35,
   "metadata": {},
   "outputs": [
    {
     "data": {
      "text/plain": [
       "(2, 3)"
      ]
     },
     "execution_count": 35,
     "metadata": {},
     "output_type": "execute_result"
    }
   ],
   "source": [
    "inputs = np.array(([[1,0,2], [2, 3, 4]])).astype(np.int32)\n",
    "inputs.shape"
   ]
  },
  {
   "cell_type": "markdown",
   "metadata": {},
   "source": [
    "### Embedding\n",
    "\n",
    " inputs: An int64 tensor with shape [batch_size, length]\n",
    "\n",
    "- `embeddings = tf.gather(shared_weights, inputs)`\n",
    "- `embeddings *= tf.expand_dims(mask, -1)` # mask inputs 0\n",
    "- `embeddings *= hidden_size ** 0.5`"
   ]
  },
  {
   "cell_type": "code",
   "execution_count": 36,
   "metadata": {},
   "outputs": [
    {
     "data": {
      "text/plain": [
       "<tf.Tensor: shape=(8,), dtype=float32, numpy=\n",
       "array([ 0.08372386,  0.05048609,  0.16432548,  0.4777148 ,  0.31101075,\n",
       "       -0.30477154,  0.03502798, -0.5772347 ], dtype=float32)>"
      ]
     },
     "execution_count": 36,
     "metadata": {},
     "output_type": "execute_result"
    }
   ],
   "source": [
    "shared_weights[1]"
   ]
  },
  {
   "cell_type": "code",
   "execution_count": 37,
   "metadata": {},
   "outputs": [
    {
     "data": {
      "text/plain": [
       "<tf.Tensor: shape=(8,), dtype=float32, numpy=\n",
       "array([-0.22813846, -0.2596496 , -0.38707775,  0.272889  , -0.03881969,\n",
       "        0.21126126, -0.42600307, -0.3824733 ], dtype=float32)>"
      ]
     },
     "execution_count": 37,
     "metadata": {},
     "output_type": "execute_result"
    }
   ],
   "source": [
    "shared_weights[0]"
   ]
  },
  {
   "cell_type": "code",
   "execution_count": 38,
   "metadata": {},
   "outputs": [
    {
     "data": {
      "text/plain": [
       "<tf.Tensor: shape=(2, 3, 8), dtype=float32, numpy=\n",
       "array([[[ 0.08372386,  0.05048609,  0.16432548,  0.4777148 ,\n",
       "          0.31101075, -0.30477154,  0.03502798, -0.5772347 ],\n",
       "        [-0.22813846, -0.2596496 , -0.38707775,  0.272889  ,\n",
       "         -0.03881969,  0.21126126, -0.42600307, -0.3824733 ],\n",
       "        [-0.3283202 ,  0.49591866,  0.35914728, -0.25279596,\n",
       "          0.05099809,  0.06368607,  0.45409086,  0.43724275]],\n",
       "\n",
       "       [[-0.3283202 ,  0.49591866,  0.35914728, -0.25279596,\n",
       "          0.05099809,  0.06368607,  0.45409086,  0.43724275],\n",
       "        [-0.10552198,  0.66613936, -0.05832133, -0.29209968,\n",
       "          0.5103657 , -0.01987784, -0.10523101,  0.10913604],\n",
       "        [ 0.06957933,  0.39914945,  0.34985012, -0.42831638,\n",
       "          0.20860526, -0.25281206,  0.4204362 ,  0.2888742 ]]],\n",
       "      dtype=float32)>"
      ]
     },
     "execution_count": 38,
     "metadata": {},
     "output_type": "execute_result"
    }
   ],
   "source": [
    "embeddings = tf.gather(shared_weights, inputs)\n",
    "embeddings"
   ]
  },
  {
   "cell_type": "code",
   "execution_count": 39,
   "metadata": {},
   "outputs": [
    {
     "data": {
      "text/plain": [
       "<tf.Tensor: shape=(2, 3), dtype=float32, numpy=\n",
       "array([[1., 0., 1.],\n",
       "       [1., 1., 1.]], dtype=float32)>"
      ]
     },
     "execution_count": 39,
     "metadata": {},
     "output_type": "execute_result"
    }
   ],
   "source": [
    "mask = tf.cast(tf.not_equal(inputs, 0), embeddings.dtype)\n",
    "mask"
   ]
  },
  {
   "cell_type": "code",
   "execution_count": 40,
   "metadata": {},
   "outputs": [
    {
     "data": {
      "text/plain": [
       "<tf.Tensor: shape=(2, 3, 1), dtype=float32, numpy=\n",
       "array([[[1.],\n",
       "        [0.],\n",
       "        [1.]],\n",
       "\n",
       "       [[1.],\n",
       "        [1.],\n",
       "        [1.]]], dtype=float32)>"
      ]
     },
     "execution_count": 40,
     "metadata": {},
     "output_type": "execute_result"
    }
   ],
   "source": [
    "tf.expand_dims(mask, -1)"
   ]
  },
  {
   "cell_type": "code",
   "execution_count": 41,
   "metadata": {},
   "outputs": [
    {
     "data": {
      "text/plain": [
       "<tf.Tensor: shape=(2, 3, 8), dtype=float32, numpy=\n",
       "array([[[ 0.08372386,  0.05048609,  0.16432548,  0.4777148 ,\n",
       "          0.31101075, -0.30477154,  0.03502798, -0.5772347 ],\n",
       "        [-0.        , -0.        , -0.        ,  0.        ,\n",
       "         -0.        ,  0.        , -0.        , -0.        ],\n",
       "        [-0.3283202 ,  0.49591866,  0.35914728, -0.25279596,\n",
       "          0.05099809,  0.06368607,  0.45409086,  0.43724275]],\n",
       "\n",
       "       [[-0.3283202 ,  0.49591866,  0.35914728, -0.25279596,\n",
       "          0.05099809,  0.06368607,  0.45409086,  0.43724275],\n",
       "        [-0.10552198,  0.66613936, -0.05832133, -0.29209968,\n",
       "          0.5103657 , -0.01987784, -0.10523101,  0.10913604],\n",
       "        [ 0.06957933,  0.39914945,  0.34985012, -0.42831638,\n",
       "          0.20860526, -0.25281206,  0.4204362 ,  0.2888742 ]]],\n",
       "      dtype=float32)>"
      ]
     },
     "execution_count": 41,
     "metadata": {},
     "output_type": "execute_result"
    }
   ],
   "source": [
    "embeddings *= tf.expand_dims(mask, -1)\n",
    "embeddings"
   ]
  },
  {
   "cell_type": "code",
   "execution_count": 42,
   "metadata": {},
   "outputs": [
    {
     "data": {
      "text/plain": [
       "<tf.Tensor: shape=(2, 3, 8), dtype=float32, numpy=\n",
       "array([[[ 0.23680682,  0.14279622,  0.46478263,  1.3511815 ,\n",
       "          0.8796712 , -0.86202407,  0.09907408, -1.6326662 ],\n",
       "        [-0.        , -0.        , -0.        ,  0.        ,\n",
       "         -0.        ,  0.        , -0.        , -0.        ],\n",
       "        [-0.92862976,  1.4026698 ,  1.0158219 , -0.71501493,\n",
       "          0.14424439,  0.18013139,  1.2843629 ,  1.2367092 ]],\n",
       "\n",
       "       [[-0.92862976,  1.4026698 ,  1.0158219 , -0.71501493,\n",
       "          0.14424439,  0.18013139,  1.2843629 ,  1.2367092 ],\n",
       "        [-0.29846123,  1.8841267 , -0.16495763, -0.82618266,\n",
       "          1.4435322 , -0.05622302, -0.29763824,  0.30868334],\n",
       "        [ 0.19680007,  1.1289651 ,  0.98952556, -1.2114617 ,\n",
       "          0.59002477, -0.7150605 ,  1.1891731 ,  0.81705964]]],\n",
       "      dtype=float32)>"
      ]
     },
     "execution_count": 42,
     "metadata": {},
     "output_type": "execute_result"
    }
   ],
   "source": [
    "embeddings *= hidden_size ** 0.5\n",
    "embeddings"
   ]
  },
  {
   "cell_type": "markdown",
   "metadata": {},
   "source": [
    "### Linear\n",
    "\n",
    "inputs: A float32 tensor with shape [batch_size, length, hidden_size]\n",
    "\n",
    "- `x = tf.reshape(inputs, [-1, hidden_size])`\n",
    "- `logits = tf.matmul(x, shared_weights, transpose_b=True)`"
   ]
  },
  {
   "cell_type": "code",
   "execution_count": 43,
   "metadata": {},
   "outputs": [],
   "source": [
    "batch_size = tf.shape(inputs)[0]\n",
    "length = tf.shape(inputs)[1]"
   ]
  },
  {
   "cell_type": "code",
   "execution_count": 44,
   "metadata": {},
   "outputs": [
    {
     "data": {
      "text/plain": [
       "(<tf.Tensor: shape=(), dtype=int32, numpy=2>,\n",
       " <tf.Tensor: shape=(), dtype=int32, numpy=3>)"
      ]
     },
     "execution_count": 44,
     "metadata": {},
     "output_type": "execute_result"
    }
   ],
   "source": [
    "batch_size, length"
   ]
  },
  {
   "cell_type": "code",
   "execution_count": 45,
   "metadata": {},
   "outputs": [
    {
     "data": {
      "text/plain": [
       "TensorShape([2, 3, 8])"
      ]
     },
     "execution_count": 45,
     "metadata": {},
     "output_type": "execute_result"
    }
   ],
   "source": [
    "embeddings.shape"
   ]
  },
  {
   "cell_type": "code",
   "execution_count": 46,
   "metadata": {},
   "outputs": [
    {
     "data": {
      "text/plain": [
       "(2, 3)"
      ]
     },
     "execution_count": 46,
     "metadata": {},
     "output_type": "execute_result"
    }
   ],
   "source": [
    "inputs.shape"
   ]
  },
  {
   "cell_type": "code",
   "execution_count": 48,
   "metadata": {},
   "outputs": [
    {
     "data": {
      "text/plain": [
       "TensorShape([6, 8])"
      ]
     },
     "execution_count": 48,
     "metadata": {},
     "output_type": "execute_result"
    }
   ],
   "source": [
    "# inputs: A float32 tensor with shape [batch_size, length, hidden_size]\n",
    "# here we use embeddins\n",
    "x = tf.reshape(embeddings, [-1, hidden_size])\n",
    "x.shape"
   ]
  },
  {
   "cell_type": "code",
   "execution_count": 50,
   "metadata": {},
   "outputs": [
    {
     "data": {
      "text/plain": [
       "TensorShape([100, 8])"
      ]
     },
     "execution_count": 50,
     "metadata": {},
     "output_type": "execute_result"
    }
   ],
   "source": [
    "shared_weights.shape"
   ]
  },
  {
   "cell_type": "code",
   "execution_count": 52,
   "metadata": {},
   "outputs": [
    {
     "data": {
      "text/plain": [
       "TensorShape([6, 100])"
      ]
     },
     "execution_count": 52,
     "metadata": {},
     "output_type": "execute_result"
    }
   ],
   "source": [
    "logits = tf.matmul(x, shared_weights, transpose_b=True)\n",
    "logits.shape"
   ]
  },
  {
   "cell_type": "markdown",
   "metadata": {},
   "source": [
    "### FFN-Layer"
   ]
  },
  {
   "cell_type": "code",
   "execution_count": 53,
   "metadata": {},
   "outputs": [],
   "source": [
    "# hidden_size: int, output dim of hidden layer.\n",
    "# filter_size: int, filter size for the inner (first) dense layer.\n",
    "# relu_dropout: float, dropout rate for training.\n",
    "hidden_size = 8\n",
    "filter_size = 4\n",
    "relu_dropout = 0.5"
   ]
  },
  {
   "cell_type": "code",
   "execution_count": 65,
   "metadata": {},
   "outputs": [],
   "source": [
    "filter_dense_layer = tf.keras.layers.Dense(filter_size, use_bias=True, activation=tf.nn.relu, name=\"filter_layer\")"
   ]
  },
  {
   "cell_type": "code",
   "execution_count": 66,
   "metadata": {},
   "outputs": [],
   "source": [
    "output_dense_layer = tf.keras.layers.Dense(hidden_size, use_bias=True, name=\"output_layer\")"
   ]
  },
  {
   "cell_type": "code",
   "execution_count": 76,
   "metadata": {},
   "outputs": [
    {
     "data": {
      "text/plain": [
       "TensorShape([2, 3, 8])"
      ]
     },
     "execution_count": 76,
     "metadata": {},
     "output_type": "execute_result"
    }
   ],
   "source": [
    "embeddings.shape"
   ]
  },
  {
   "cell_type": "code",
   "execution_count": 77,
   "metadata": {},
   "outputs": [
    {
     "data": {
      "text/plain": [
       "TensorShape([2, 3, 4])"
      ]
     },
     "execution_count": 77,
     "metadata": {},
     "output_type": "execute_result"
    }
   ],
   "source": [
    "output = filter_dense_layer(embeddings)\n",
    "output.shape"
   ]
  },
  {
   "cell_type": "code",
   "execution_count": 78,
   "metadata": {},
   "outputs": [
    {
     "data": {
      "text/plain": [
       "TensorShape([2, 3, 4])"
      ]
     },
     "execution_count": 78,
     "metadata": {},
     "output_type": "execute_result"
    }
   ],
   "source": [
    "# training\n",
    "output = tf.nn.dropout(output, rate=relu_dropout)\n",
    "output.shape"
   ]
  },
  {
   "cell_type": "code",
   "execution_count": 79,
   "metadata": {},
   "outputs": [
    {
     "data": {
      "text/plain": [
       "TensorShape([2, 3, 8])"
      ]
     },
     "execution_count": 79,
     "metadata": {},
     "output_type": "execute_result"
    }
   ],
   "source": [
    "# evaluate\n",
    "output = filter_dense_layer(embeddings)\n",
    "output = output_dense_layer(output)\n",
    "output.shape"
   ]
  },
  {
   "cell_type": "markdown",
   "metadata": {},
   "source": [
    "### AttentionLayer"
   ]
  },
  {
   "cell_type": "code",
   "execution_count": null,
   "metadata": {},
   "outputs": [],
   "source": []
  },
  {
   "cell_type": "code",
   "execution_count": null,
   "metadata": {},
   "outputs": [],
   "source": []
  }
 ],
 "metadata": {
  "kernelspec": {
   "display_name": "Python 3",
   "language": "python",
   "name": "python3"
  },
  "language_info": {
   "codemirror_mode": {
    "name": "ipython",
    "version": 3
   },
   "file_extension": ".py",
   "mimetype": "text/x-python",
   "name": "python",
   "nbconvert_exporter": "python",
   "pygments_lexer": "ipython3",
   "version": "3.7.4"
  },
  "latex_envs": {
   "LaTeX_envs_menu_present": true,
   "autoclose": false,
   "autocomplete": true,
   "bibliofile": "biblio.bib",
   "cite_by": "apalike",
   "current_citInitial": 1,
   "eqLabelWithNumbers": true,
   "eqNumInitial": 1,
   "hotkeys": {
    "equation": "Ctrl-E",
    "itemize": "Ctrl-I"
   },
   "labels_anchors": false,
   "latex_user_defs": false,
   "report_style_numbering": false,
   "user_envs_cfg": false
  },
  "toc": {
   "base_numbering": 1,
   "nav_menu": {},
   "number_sections": true,
   "sideBar": true,
   "skip_h1_title": false,
   "title_cell": "Table of Contents",
   "title_sidebar": "Contents",
   "toc_cell": false,
   "toc_position": {},
   "toc_section_display": true,
   "toc_window_display": false
  }
 },
 "nbformat": 4,
 "nbformat_minor": 2
}
