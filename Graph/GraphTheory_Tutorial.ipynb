{
 "cells": [
  {
   "cell_type": "markdown",
   "metadata": {
    "toc": true
   },
   "source": [
    "<h1>Table of Contents<span class=\"tocSkip\"></span></h1>\n",
    "<div class=\"toc\"><ul class=\"toc-item\"><li><span><a href=\"#Graph-Theory-and-Graphs-in-Python\" data-toc-modified-id=\"Graph-Theory-and-Graphs-in-Python-1\"><span class=\"toc-item-num\">1&nbsp;&nbsp;</span>Graph Theory and Graphs in Python</a></span><ul class=\"toc-item\"><li><span><a href=\"#Introduction-into-Graph-Theory-Using-Python\" data-toc-modified-id=\"Introduction-into-Graph-Theory-Using-Python-1.1\"><span class=\"toc-item-num\">1.1&nbsp;&nbsp;</span>Introduction into Graph Theory Using Python</a></span></li><li><span><a href=\"#Graphs-as-a-Python-class\" data-toc-modified-id=\"Graphs-as-a-Python-class-1.2\"><span class=\"toc-item-num\">1.2&nbsp;&nbsp;</span>Graphs as a Python class</a></span></li><li><span><a href=\"#Tree-/-Forest\" data-toc-modified-id=\"Tree-/-Forest-1.3\"><span class=\"toc-item-num\">1.3&nbsp;&nbsp;</span>Tree / Forest</a></span><ul class=\"toc-item\"><li><span><a href=\"#Spanning-Tree\" data-toc-modified-id=\"Spanning-Tree-1.3.1\"><span class=\"toc-item-num\">1.3.1&nbsp;&nbsp;</span>Spanning Tree</a></span></li><li><span><a href=\"#Hamiltonian-Game\" data-toc-modified-id=\"Hamiltonian-Game-1.3.2\"><span class=\"toc-item-num\">1.3.2&nbsp;&nbsp;</span>Hamiltonian Game</a></span></li></ul></li><li><span><a href=\"#Distance-and-Diameter-of-a-graph\" data-toc-modified-id=\"Distance-and-Diameter-of-a-graph-1.4\"><span class=\"toc-item-num\">1.4&nbsp;&nbsp;</span>Distance and Diameter of a graph</a></span></li><li><span><a href=\"#Connected-Graphs\" data-toc-modified-id=\"Connected-Graphs-1.5\"><span class=\"toc-item-num\">1.5&nbsp;&nbsp;</span>Connected Graphs</a></span></li><li><span><a href=\"#Graph-Density\" data-toc-modified-id=\"Graph-Density-1.6\"><span class=\"toc-item-num\">1.6&nbsp;&nbsp;</span>Graph Density</a></span></li><li><span><a href=\"#Implementation-of-the-Erdös-Gallai-theorem\" data-toc-modified-id=\"Implementation-of-the-Erdös-Gallai-theorem-1.7\"><span class=\"toc-item-num\">1.7&nbsp;&nbsp;</span>Implementation of the Erdös-Gallai theorem</a></span></li><li><span><a href=\"#Degree-Sequence\" data-toc-modified-id=\"Degree-Sequence-1.8\"><span class=\"toc-item-num\">1.8&nbsp;&nbsp;</span>Degree Sequence</a></span></li><li><span><a href=\"#Degree\" data-toc-modified-id=\"Degree-1.9\"><span class=\"toc-item-num\">1.9&nbsp;&nbsp;</span>Degree</a></span></li><li><span><a href=\"#Paths-in-Graphs\" data-toc-modified-id=\"Paths-in-Graphs-1.10\"><span class=\"toc-item-num\">1.10&nbsp;&nbsp;</span>Paths in Graphs</a></span></li></ul></li></ul></div>"
   ]
  },
  {
   "cell_type": "markdown",
   "metadata": {},
   "source": [
    "# Graph Theory and Graphs in Python\n",
    "\n",
    "[Python Advanced: Graph Theory and Graphs in Python](http://www.python-course.eu/graphs_python.php)"
   ]
  },
  {
   "cell_type": "markdown",
   "metadata": {},
   "source": [
    "- Paths\n",
    "  - Adjacent vertices\n",
    "    - Two vertices are adjacent when they are both incident to a common edge. \n",
    "  - Path in an undirected Graph\n",
    "    - A path in an undirected graph is a sequence of vertices P = ( v1, v2, ..., vn ) ∈ V x V x ... x V such that vi is adjacent to v{i+1} for 1 ≤ i < n. Such a path P is called a path of length n from v1 to vn. \n",
    "    - (a,c,e,b,c,d) is a path but not a simple path\n",
    "  - Simple Path\n",
    "    - A path with no repeated vertices is called a simple path. \n",
    "    - (a, c, e) is a simple path\n",
    "\n",
    "- Degree\n",
    "  - Degree\n",
    "    - The degree of a vertex v in a graph is the number of edges connecting it, with loops counted twice.\n",
    "    - The degree of a vertex v is denoted deg(v). \n",
    "    - The maximum degree of a graph G, denoted by Δ(G), and the minimum degree of a graph, denoted by δ(G), are the maximum and minimum degree of its vertices. \n",
    "  - regular graph\n",
    "    - If all the degrees in a graph are the same, the graph is a regular graph. In a regular graph, all degrees are the same, and so we can speak of the degree of the graph. \n",
    "  - degree sum formular(Handshaking lemma)\n",
    "    - ∑v ∈ Vdeg(v) = 2 |E|\n",
    "    - the sum of degrees of all the vertices is equal to the number of edges multiplied by 2.\n",
    "    - We can conclude that **the number of vertices with odd degree has to be even.**（有奇数度的顶点个数一定是偶数）\n",
    "    - \"handshaking lemma\" stems from a popular mathematical problem: In any group of people the number of people who have shaken hands with an odd number of other people from the group is even.\n",
    "\n",
    "- Degree Sequence\n",
    "  - The degree sequence of an undirected graph is defined as the sequence of its vertex degrees in a non-increasing order. \n",
    "  - Isomorphic graphs have the same degree sequence.   \n",
    "  - However, two graphs with the same degree sequence are not necessarily isomorphic.   \n",
    "\n",
    "- The Erdös-Gallai theorem \n",
    "  - The Erdös-Gallai theorem states that a non-increasing sequence of n numbers di (for i = 1, ..., n) is the degree sequence of a simple graph if and only if the **sum of the sequence is even** and the **following condition** is fulfilled:   \n",
    "$$\\sum_{i=1}^k d_i \\leqslant k(k-1) + \\sum_{i=k+1}^n min(d_i,k) \\quad for \\ k \\in {1,...,n}$$  \n",
    "  - 什么叫合法的度数序列？就是存在一个无重边无自环（简单）的无向图，使得图中每个点的度数构成的序列为给定的序列。\n",
    "\n",
    "- Graph Density\n",
    "  - The graph density is defined as the ratio of the number of edges of a given graph, and the total number of edges, the graph could have.\n",
    "  - It measures how close a given graph is to a complete graph. \n",
    "  - $D = \\frac {\\lvert E \\rvert}{\\lvert V \\rvert(\\lvert V \\rvert -1)}$\n",
    "  - A dense graph is a graph in which the number of edges is close to the maximal number of edges. A graph with only a few edges, is called a sparse graph.\n",
    "  - The precisest mathematical notation uses the big O notation.\n",
    "  - A dense graph is a graph G = (V, E) in which |E| = Θ(|V|2). \n",
    "\n",
    "- Connected Graphs\n",
    "  - A graph is said to be connected if every pair of vertices in the graph is connected.  \n",
    "  - It possible to determine with a simple algorithm whether a graph is connected:\n",
    "    - Choose an arbitrary node x of the graph G as the starting point\n",
    "    - Determine the set A of all the nodes which can be reached from x.\n",
    "    - If A is equal to the set of nodes of G, the graph is connected; otherwise it is disconnected.  \n",
    "\n",
    "- Distance and Diameter of a graph  \n",
    "  - The distance \"dist\" between two vertices in a graph is the length of the shortest path between these vertices. \n",
    "    - No backtracks, detours, or loops are allowed for the calculation of a distance. \n",
    "  - The eccentricity of a vertex s of a graph g is the maximal distance to every other vertex of the graph:   \n",
    "    - e(s) = max( { dist(s,v) | v ∈ V }), (V is the set of all vertices of g)   \n",
    "  - The diameter d of a graph is defined as the maximum eccentricity of any vertex in the graph.   \n",
    "    - **This means that the diameter is the length of the shortest path between the most distanced nodes.** \n",
    "    - 最短路径里面最长的那个就是图的直径。\n",
    "  - To determine the diameter of a graph,   \n",
    "    - first find the shortest path between each pair of vertices.   \n",
    "    - The greatest length of any of these paths is the diameter of the graph.\n",
    "\n",
    "- Tree / Forest\n",
    "  - A tree is an undirected graph which contains no cycles（某条路径的起点和终点相同）. This means that any two vertices of the graph are connected by exactly one simple path. \n",
    "  - **A forest is a disjoint union of trees.**   \n",
    "  - Contrary to forests in nature, a forest in graph theory can consist of a single tree! \n",
    "  - A graph with one vertex and no edge is a tree (and a forest). \n",
    "\n",
    "- Spanning Tree\n",
    "  - A spanning tree T of a connected, undirected graph G is a subgraph G' of G, which is a tree, and G' contains all the vertices and a subset of the edges of G.   \n",
    "  - G' contains all the edges of G, if G is a tree graph.   \n",
    "  - Informally, a spanning tree of G is a selection of edges of G that form a tree spanning every vertex.   \n",
    "  - That is, every vertex lies in the tree, but no cycles (or loops) are contained.   \n",
    "\n",
    "- Hamiltonian Game\n",
    "  - An Hamiltonian path is a path in an undirected or directed graph that visits each vertex **exactly once**.   \n",
    "  - A Hamiltonian cycle (or circuit) is a Hamiltonian path that is a cycle.   \n",
    "  - Note for computer scientists: Generally, it is not not possible to determine, whether such paths or cycles exist in arbitrary graphs, because the Hamiltonian path problem has been proven to be NP-complete. \n",
    "  - It is named after William Rowan Hamilton who invented the so-called \"icosian game\", or Hamilton's puzzle, which involves finding a Hamiltonian cycle in the edge graph of the dodecahedron.   \n",
    "  - Hamilton solved this problem using the icosian calculus, an algebraic structure based on roots of unity with many similarities to the quaternions, which he also invented. "
   ]
  },
  {
   "cell_type": "markdown",
   "metadata": {},
   "source": [
    "## Introduction into Graph Theory Using Python"
   ]
  },
  {
   "cell_type": "markdown",
   "metadata": {},
   "source": [
    "![](http://www.python-course.eu/images/simple_graph_isolated.png)"
   ]
  },
  {
   "cell_type": "code",
   "execution_count": 1,
   "metadata": {
    "collapsed": true
   },
   "outputs": [],
   "source": [
    "graph = { \"a\" : [\"c\"],\n",
    "          \"b\" : [\"c\", \"e\"],\n",
    "          \"c\" : [\"a\", \"b\", \"d\", \"e\"],\n",
    "          \"d\" : [\"c\"],\n",
    "          \"e\" : [\"c\", \"b\"],\n",
    "          \"f\" : []\n",
    "        }"
   ]
  },
  {
   "cell_type": "code",
   "execution_count": 2,
   "metadata": {},
   "outputs": [
    {
     "data": {
      "text/plain": [
       "{'a': ['c'],\n",
       " 'b': ['c', 'e'],\n",
       " 'c': ['a', 'b', 'd', 'e'],\n",
       " 'd': ['c'],\n",
       " 'e': ['c', 'b'],\n",
       " 'f': []}"
      ]
     },
     "execution_count": 2,
     "metadata": {},
     "output_type": "execute_result"
    }
   ],
   "source": [
    "graph"
   ]
  },
  {
   "cell_type": "code",
   "execution_count": 3,
   "metadata": {
    "collapsed": true
   },
   "outputs": [],
   "source": [
    "def generate_edges(graph):\n",
    "    edges = []\n",
    "    for node in graph:\n",
    "        for neighbour in graph[node]:\n",
    "            edges.append((node, neighbour))\n",
    "    return edges"
   ]
  },
  {
   "cell_type": "code",
   "execution_count": 4,
   "metadata": {
    "scrolled": true
   },
   "outputs": [
    {
     "name": "stdout",
     "output_type": "stream",
     "text": [
      "[('b', 'c'), ('b', 'e'), ('a', 'c'), ('d', 'c'), ('c', 'a'), ('c', 'b'), ('c', 'd'), ('c', 'e'), ('e', 'c'), ('e', 'b')]\n"
     ]
    }
   ],
   "source": [
    "print(generate_edges(graph))"
   ]
  },
  {
   "cell_type": "code",
   "execution_count": 5,
   "metadata": {
    "collapsed": true
   },
   "outputs": [],
   "source": [
    "def find_isolated_nodes(graph):\n",
    "    \"\"\"returns a list of isolated nodes.\"\"\"\n",
    "    isolated = []\n",
    "    for node in graph:\n",
    "        if not graph[node]:\n",
    "            isolated += node\n",
    "    return isolated"
   ]
  },
  {
   "cell_type": "code",
   "execution_count": 6,
   "metadata": {},
   "outputs": [
    {
     "name": "stdout",
     "output_type": "stream",
     "text": [
      "['f']\n"
     ]
    }
   ],
   "source": [
    "print(find_isolated_nodes(graph))"
   ]
  },
  {
   "cell_type": "markdown",
   "metadata": {},
   "source": [
    "## Graphs as a Python class"
   ]
  },
  {
   "cell_type": "markdown",
   "metadata": {},
   "source": [
    "![](http://www.python-course.eu/images/simple_graph_with_loop.png)"
   ]
  },
  {
   "cell_type": "code",
   "execution_count": 30,
   "metadata": {},
   "outputs": [],
   "source": [
    "\"\"\" A Python Class\n",
    "A simple Python graph class, demonstrating the essential \n",
    "facts and functionalities of graphs.\n",
    "\"\"\"\n",
    "\n",
    "class Graph(object):\n",
    "\n",
    "    def __init__(self, graph_dict=None):\n",
    "        \"\"\" initializes a graph object \n",
    "            If no dictionary or None is given, \n",
    "            an empty dictionary will be used\n",
    "        \"\"\"\n",
    "        if graph_dict == None:\n",
    "            graph_dict = {}\n",
    "        self.__graph_dict = graph_dict\n",
    "\n",
    "    def vertices(self):\n",
    "        \"\"\" returns the vertices of a graph \"\"\"\n",
    "        return list(self.__graph_dict.keys())\n",
    "\n",
    "    def edges(self):\n",
    "        \"\"\" returns the edges of a graph \"\"\"\n",
    "        return self.__generate_edges()\n",
    "\n",
    "    def add_vertex(self, vertex):\n",
    "        \"\"\" If the vertex \"vertex\" is not in \n",
    "            self.__graph_dict, a key \"vertex\" with an empty\n",
    "            list as a value is added to the dictionary. \n",
    "            Otherwise nothing has to be done. \n",
    "        \"\"\"\n",
    "        if vertex not in self.__graph_dict:\n",
    "            self.__graph_dict[vertex] = []\n",
    "\n",
    "    def add_edge(self, edge):\n",
    "        \"\"\" assumes that edge is of type set, tuple or list; \n",
    "            between two vertices can be multiple edges! \n",
    "        \"\"\"\n",
    "        edge = set(edge)\n",
    "        # tuple 后变为 y,x\n",
    "        (vertex1, vertex2) = tuple(edge)\n",
    "        if vertex1 in self.__graph_dict:\n",
    "            self.__graph_dict[vertex1].append(vertex2)\n",
    "        else:\n",
    "            self.__graph_dict[vertex1] = [vertex2]\n",
    "\n",
    "    def __generate_edges(self):\n",
    "        \"\"\" A static method generating the edges of the \n",
    "            graph \"graph\". Edges are represented as sets \n",
    "            with one (a loop back to the vertex) or two \n",
    "            vertices \n",
    "        \"\"\"\n",
    "        edges = []\n",
    "        for vertex in self.__graph_dict:\n",
    "            for neighbour in self.__graph_dict[vertex]:\n",
    "                if {neighbour, vertex} not in edges:\n",
    "                    # 重复值算一次，集合而非元组\n",
    "                    #print((neighbour, vertex))\n",
    "                    edges.append({vertex, neighbour})\n",
    "        return edges\n",
    "\n",
    "    def __str__(self):\n",
    "        res = \"vertices: \"\n",
    "        for k in self.__graph_dict:\n",
    "            res += str(k) + \" \"\n",
    "        res += \"\\nedges: \"\n",
    "        for edge in self.__generate_edges():\n",
    "            res += str(edge) + \" \"\n",
    "        return res\n",
    "    \n",
    "    def find_path(self, start_vertex, end_vertex, path=None):\n",
    "        \"\"\" find a path from start_vertex to end_vertex \n",
    "            in graph \"\"\"\n",
    "        if path == None:\n",
    "            path = []\n",
    "        graph = self.__graph_dict\n",
    "        path = path + [start_vertex]\n",
    "        if start_vertex == end_vertex:\n",
    "            return path\n",
    "        if start_vertex not in graph:\n",
    "            return None\n",
    "        for vertex in graph[start_vertex]:\n",
    "            if vertex not in path:\n",
    "                # 递归！\n",
    "                extended_path = self.find_path(vertex, \n",
    "                                               end_vertex, \n",
    "                                               path)\n",
    "                if extended_path: \n",
    "                    return extended_path\n",
    "        return None\n",
    "    \n",
    "    def find_all_paths(self, start_vertex, end_vertex, path=[]):\n",
    "        \"\"\" find all paths from start_vertex to \n",
    "            end_vertex in graph \"\"\"\n",
    "        graph = self.__graph_dict \n",
    "        path = path + [start_vertex]\n",
    "        if start_vertex == end_vertex:\n",
    "            return [path]\n",
    "        if start_vertex not in graph:\n",
    "            return []\n",
    "        paths = []\n",
    "        for vertex in graph[start_vertex]:\n",
    "            if vertex not in path:\n",
    "                # 递归！\n",
    "                extended_paths = self.find_all_paths(vertex, \n",
    "                                                     end_vertex, \n",
    "                                                     path)\n",
    "#                 if extended_paths != []:\n",
    "#                     paths.append(extended_paths)\n",
    "#                 print(extended_paths)\n",
    "                for p in extended_paths: \n",
    "                    paths.append(p)\n",
    "        return paths\n",
    "    \n",
    "    def vertex_degree(self, vertex):\n",
    "        \"\"\" The degree of a vertex is the number of edges connecting\n",
    "            it, i.e. the number of adjacent vertices. Loops are counted \n",
    "            double, i.e. every occurence of vertex in the list \n",
    "            of adjacent vertices. \"\"\" \n",
    "        adj_vertices =  self.__graph_dict[vertex]\n",
    "        # 额外加上包含该顶点的量（1）\n",
    "        degree = len(adj_vertices) + adj_vertices.count(vertex)\n",
    "        return degree\n",
    "\n",
    "    def find_isolated_vertices(self):\n",
    "        \"\"\" returns a list of isolated vertices. 孤立点\"\"\"\n",
    "        graph = self.__graph_dict\n",
    "        isolated = []\n",
    "        for vertex in graph:\n",
    "            #print(isolated, vertex)\n",
    "            if not graph[vertex]:\n",
    "                isolated += [vertex]\n",
    "        return isolated\n",
    "\n",
    "    def delta(self):\n",
    "        \"\"\" the minimum degree of the vertices \"\"\"\n",
    "        min = 100000000\n",
    "        # 遍历顶点\n",
    "        for vertex in self.__graph_dict:\n",
    "            vertex_degree = self.vertex_degree(vertex)\n",
    "            if vertex_degree < min:\n",
    "                min = vertex_degree\n",
    "        return min\n",
    "        \n",
    "    def Delta(self):\n",
    "        \"\"\" the maximum degree of the vertices \"\"\"\n",
    "        max = 0\n",
    "        for vertex in self.__graph_dict:\n",
    "            vertex_degree = self.vertex_degree(vertex)\n",
    "            if vertex_degree > max:\n",
    "                max = vertex_degree\n",
    "        return max\n",
    "\n",
    "    def degree_sequence(self):\n",
    "        \"\"\" calculates the degree sequence \"\"\"\n",
    "        seq = []\n",
    "        # 遍历顶点\n",
    "        for vertex in self.__graph_dict:\n",
    "            seq.append(self.vertex_degree(vertex))\n",
    "        # 从大到小排序\n",
    "        seq.sort(reverse=True)\n",
    "        return tuple(seq)\n",
    "\n",
    "    \n",
    "    @staticmethod\n",
    "    def is_degree_sequence(sequence):\n",
    "        \"\"\" Method returns True, if the sequence \"sequence\" is a \n",
    "            degree sequence, i.e. a non-increasing sequence. \n",
    "            Otherwise False is returned.\n",
    "        \"\"\"\n",
    "        # check if the sequence sequence is non-increasing:\n",
    "        # all 参数是一个 iterable，所有值为真时，返回真\n",
    "        return all( x>=y for x, y in zip(sequence, sequence[1:]))\n",
    "\n",
    "    @staticmethod\n",
    "    def erdoes_gallai(dsequence):\n",
    "        \"\"\" Checks if the condition of the Erdoes-Gallai inequality \n",
    "            is fullfilled \n",
    "        \"\"\"\n",
    "        if sum(dsequence) % 2:\n",
    "            # sum of sequence is odd\n",
    "            return False\n",
    "        if Graph.is_degree_sequence(dsequence):\n",
    "            for k in range(1,len(dsequence) + 1):\n",
    "                left = sum(dsequence[:k])\n",
    "                right =  k * (k-1) + sum([min(x,k) for x in dsequence[k:]])\n",
    "                if left > right:\n",
    "                    return False\n",
    "        else:\n",
    "            # sequence is increasing\n",
    "            return False\n",
    "        return True\n",
    "\n",
    "    def density(self):\n",
    "        \"\"\" method to calculate the density of a graph \"\"\"\n",
    "        g = self.__graph_dict\n",
    "        V = len(g.keys())\n",
    "        E = len(self.edges())\n",
    "        return 2.0 * E / (V *(V - 1))\n",
    "\n",
    "    def is_connected(self, \n",
    "                     vertices_encountered = None, \n",
    "                     start_vertex=None):\n",
    "        \"\"\" determines if the graph is connected \"\"\"\n",
    "        if vertices_encountered is None:\n",
    "            vertices_encountered = set()\n",
    "        gdict = self.__graph_dict        \n",
    "        vertices = list(gdict.keys()) # \"list\" necessary in Python 3 \n",
    "        if not start_vertex:\n",
    "            # chosse a vertex from graph as a starting point\n",
    "            start_vertex = vertices[0]\n",
    "        vertices_encountered.add(start_vertex)\n",
    "        if len(vertices_encountered) != len(vertices):\n",
    "            for vertex in gdict[start_vertex]:\n",
    "                if vertex not in vertices_encountered:\n",
    "                    # 递归！\n",
    "                    if self.is_connected(vertices_encountered, vertex):\n",
    "                        return True\n",
    "        else:\n",
    "            return True\n",
    "        return False    \n",
    "\n",
    "    def diameter(self):\n",
    "        \"\"\" calculates the diameter of the graph \"\"\"\n",
    "        \n",
    "        v = self.vertices() \n",
    "        # 遍历完所有的对儿\n",
    "        pairs = [ (v[i],v[j]) for i in range(len(v)-1) for j in range(i+1, len(v))]\n",
    "        smallest_paths = []\n",
    "        for (s,e) in pairs:\n",
    "            paths = self.find_all_paths(s,e)\n",
    "            # key 是长度，取最短的那个 path\n",
    "            smallest = sorted(paths, key=len)[0]\n",
    "            smallest_paths.append(smallest)\n",
    "        \n",
    "        # smallest_paths 里面都是 path，又一种排序方法\n",
    "        smallest_paths.sort(key=len)\n",
    "\n",
    "        # longest path is at the end of list, \n",
    "        # i.e. diameter corresponds to the length of this path\n",
    "        diameter = len(smallest_paths[-1]) - 1\n",
    "        return diameter\n",
    "\n",
    "\n",
    "\n",
    "if __name__ == \"__main__\":\n",
    "\n",
    "    g = { \"a\" : [\"d\"],\n",
    "          \"b\" : [\"c\"],\n",
    "          \"c\" : [\"b\", \"c\", \"d\", \"e\"],\n",
    "          \"d\" : [\"a\", \"c\"],\n",
    "          \"e\" : [\"c\"],\n",
    "          \"f\" : []\n",
    "        }\n",
    "\n",
    "\n",
    "    graph = Graph(g)"
   ]
  },
  {
   "cell_type": "code",
   "execution_count": 8,
   "metadata": {},
   "outputs": [
    {
     "name": "stdout",
     "output_type": "stream",
     "text": [
      "Vertices of graph:\n",
      "['b', 'a', 'f', 'd', 'c', 'e']\n",
      "Edges of graph:\n",
      "[{'b', 'c'}, {'d', 'a'}, {'d', 'c'}, {'c'}, {'c', 'e'}]\n",
      "Add vertex:\n",
      "Vertices of graph:\n",
      "['z', 'b', 'a', 'f', 'd', 'c', 'e']\n",
      "Add an edge:\n",
      "Vertices of graph:\n",
      "['z', 'b', 'a', 'f', 'd', 'c', 'e']\n",
      "Edges of graph:\n",
      "[{'z', 'a'}, {'b', 'c'}, {'d', 'a'}, {'d', 'c'}, {'c'}, {'c', 'e'}]\n",
      "Adding an edge {\"x\",\"y\"} with new vertices:\n",
      "Vertices of graph:\n",
      "['z', 'b', 'a', 'f', 'd', 'c', 'x', 'e']\n",
      "Edges of graph:\n",
      "[{'z', 'a'}, {'b', 'c'}, {'d', 'a'}, {'d', 'c'}, {'c'}, {'c', 'e'}, {'x', 'y'}]\n"
     ]
    }
   ],
   "source": [
    "print(\"Vertices of graph:\")\n",
    "print(graph.vertices())\n",
    "\n",
    "print(\"Edges of graph:\")\n",
    "print(graph.edges())\n",
    "\n",
    "print(\"Add vertex:\")\n",
    "graph.add_vertex(\"z\")\n",
    "\n",
    "print(\"Vertices of graph:\")\n",
    "print(graph.vertices())\n",
    "\n",
    "print(\"Add an edge:\")\n",
    "graph.add_edge({\"a\",\"z\"})\n",
    "\n",
    "print(\"Vertices of graph:\")\n",
    "print(graph.vertices())\n",
    "\n",
    "print(\"Edges of graph:\")\n",
    "print(graph.edges())\n",
    "\n",
    "print('Adding an edge {\"x\",\"y\"} with new vertices:')\n",
    "graph.add_edge({\"x\",\"y\"})\n",
    "\n",
    "print(\"Vertices of graph:\")\n",
    "print(graph.vertices())\n",
    "\n",
    "print(\"Edges of graph:\")\n",
    "print(graph.edges())"
   ]
  },
  {
   "cell_type": "markdown",
   "metadata": {},
   "source": [
    "## Tree / Forest"
   ]
  },
  {
   "cell_type": "markdown",
   "metadata": {},
   "source": [
    "A tree is an undirected graph which contains no cycles（某条路径的起点和终点相同）. This means that any two vertices of the graph are connected by exactly one simple path. \n",
    "\n",
    "**A forest is a disjoint union of trees.**   \n",
    "Contrary to forests in nature, a forest in graph theory can consist of a single tree! \n",
    "\n",
    "A graph with one vertex and no edge is a tree (and a forest). "
   ]
  },
  {
   "cell_type": "markdown",
   "metadata": {},
   "source": [
    "A tree and forest:  \n",
    "![](http://www.python-course.eu/images/tree_graph.png)"
   ]
  },
  {
   "cell_type": "markdown",
   "metadata": {},
   "source": [
    "Two Trees:  \n",
    "![](http://www.python-course.eu/images/forest_graph.png)"
   ]
  },
  {
   "cell_type": "markdown",
   "metadata": {},
   "source": [
    "### Spanning Tree"
   ]
  },
  {
   "cell_type": "markdown",
   "metadata": {},
   "source": [
    "A spanning tree T of a connected, undirected graph G is a subgraph G' of G, which is a tree, and G' contains all the vertices and a subset of the edges of G.   \n",
    "\n",
    "G' contains all the edges of G, if G is a tree graph.   \n",
    "\n",
    "Informally, a spanning tree of G is a selection of edges of G that form a tree spanning every vertex.   \n",
    "That is, every vertex lies in the tree, but no cycles (or loops) are contained. "
   ]
  },
  {
   "cell_type": "markdown",
   "metadata": {},
   "source": [
    "### Hamiltonian Game"
   ]
  },
  {
   "cell_type": "markdown",
   "metadata": {},
   "source": [
    "An Hamiltonian path is a path in an undirected or directed graph that visits each vertex **exactly once**.   \n",
    "\n",
    "A Hamiltonian cycle (or circuit) is a Hamiltonian path that is a cycle.   \n",
    "\n",
    "Note for computer scientists: Generally, it is not not possible to determine, whether such paths or cycles exist in arbitrary graphs, because the Hamiltonian path problem has been proven to be NP-complete. \n",
    "\n",
    "It is named after William Rowan Hamilton who invented the so-called \"icosian game\", or Hamilton's puzzle, which involves finding a Hamiltonian cycle in the edge graph of the dodecahedron.   \n",
    "\n",
    "Hamilton solved this problem using the icosian calculus, an algebraic structure based on roots of unity with many similarities to the quaternions, which he also invented. "
   ]
  },
  {
   "cell_type": "markdown",
   "metadata": {},
   "source": [
    "## Distance and Diameter of a graph  \n",
    "\n",
    "The distance \"dist\" between two vertices in a graph is the length of the shortest path between these vertices. No backtracks, detours, or loops are allowed for the calculation of a distance. \n",
    "\n",
    "The eccentricity of a vertex s of a graph g is the maximal distance to every other vertex of the graph:   \n",
    "e(s) = max( { dist(s,v) | v ∈ V })   \n",
    "(V is the set of all vertices of g)   \n",
    "\n",
    "The diameter d of a graph is defined as the maximum eccentricity of any vertex in the graph.   \n",
    "**This means that the diameter is the length of the shortest path between the most distanced nodes.**   \n",
    "\n",
    "To determine the diameter of a graph,   \n",
    "  - first find the shortest path between each pair of vertices.   \n",
    "  - The greatest length of any of these paths is the diameter of the graph. \n",
    "\n",
    "最短路径里面最长的那个就是图的直径。"
   ]
  },
  {
   "cell_type": "code",
   "execution_count": 15,
   "metadata": {},
   "outputs": [],
   "source": [
    "v = list(g.keys())"
   ]
  },
  {
   "cell_type": "code",
   "execution_count": 16,
   "metadata": {},
   "outputs": [
    {
     "data": {
      "text/plain": [
       "['b', 'a', 'f', 'd', 'c', 'e']"
      ]
     },
     "execution_count": 16,
     "metadata": {},
     "output_type": "execute_result"
    }
   ],
   "source": [
    "v"
   ]
  },
  {
   "cell_type": "code",
   "execution_count": 17,
   "metadata": {
    "collapsed": true
   },
   "outputs": [],
   "source": [
    "pairs = [ (v[i],v[j]) for i in range(len(v)-1) for j in range(i+1, len(v))]"
   ]
  },
  {
   "cell_type": "code",
   "execution_count": 19,
   "metadata": {},
   "outputs": [
    {
     "data": {
      "text/plain": [
       "[('b', 'a'),\n",
       " ('b', 'f'),\n",
       " ('b', 'd'),\n",
       " ('b', 'c'),\n",
       " ('b', 'e'),\n",
       " ('a', 'f'),\n",
       " ('a', 'd'),\n",
       " ('a', 'c'),\n",
       " ('a', 'e'),\n",
       " ('f', 'd'),\n",
       " ('f', 'c'),\n",
       " ('f', 'e'),\n",
       " ('d', 'c'),\n",
       " ('d', 'e'),\n",
       " ('c', 'e')]"
      ]
     },
     "execution_count": 19,
     "metadata": {},
     "output_type": "execute_result"
    }
   ],
   "source": [
    "pairs"
   ]
  },
  {
   "cell_type": "code",
   "execution_count": 31,
   "metadata": {
    "collapsed": true
   },
   "outputs": [],
   "source": [
    "test = [['h','s','c'],['h'],['h', 'c']]"
   ]
  },
  {
   "cell_type": "code",
   "execution_count": 32,
   "metadata": {},
   "outputs": [
    {
     "data": {
      "text/plain": [
       "['h']"
      ]
     },
     "execution_count": 32,
     "metadata": {},
     "output_type": "execute_result"
    }
   ],
   "source": [
    "sorted(test, key=len)[0]"
   ]
  },
  {
   "cell_type": "code",
   "execution_count": 33,
   "metadata": {},
   "outputs": [],
   "source": [
    "test.sort(key=len)"
   ]
  },
  {
   "cell_type": "code",
   "execution_count": 34,
   "metadata": {},
   "outputs": [
    {
     "data": {
      "text/plain": [
       "[['h'], ['h', 'c'], ['h', 's', 'c']]"
      ]
     },
     "execution_count": 34,
     "metadata": {},
     "output_type": "execute_result"
    }
   ],
   "source": [
    "test"
   ]
  },
  {
   "cell_type": "code",
   "execution_count": 35,
   "metadata": {},
   "outputs": [
    {
     "name": "stdout",
     "output_type": "stream",
     "text": [
      "3\n"
     ]
    }
   ],
   "source": [
    "g = { \"a\" : [\"c\"],\n",
    "      \"b\" : [\"c\",\"e\",\"f\"],\n",
    "      \"c\" : [\"a\",\"b\",\"d\",\"e\"],\n",
    "      \"d\" : [\"c\"],\n",
    "      \"e\" : [\"b\",\"c\",\"f\"],\n",
    "      \"f\" : [\"b\",\"e\"]\n",
    "}\n",
    "\n",
    "\n",
    "graph = Graph(g)\n",
    "\n",
    "diameter = graph.diameter()\n",
    "\n",
    "print(diameter)"
   ]
  },
  {
   "cell_type": "markdown",
   "metadata": {},
   "source": [
    "## Connected Graphs\n",
    "\n",
    "A graph is said to be connected if every pair of vertices in the graph is connected.  \n",
    "\n",
    "It possible to determine with a simple algorithm whether a graph is connected:\n",
    "- Choose an arbitrary node x of the graph G as the starting point\n",
    "- Determine the set A of all the nodes which can be reached from x.\n",
    "- If A is equal to the set of nodes of G, the graph is connected; otherwise it is disconnected."
   ]
  },
  {
   "cell_type": "code",
   "execution_count": 11,
   "metadata": {},
   "outputs": [
    {
     "name": "stdout",
     "output_type": "stream",
     "text": [
      "vertices: b a f d c e \n",
      "edges: {'b', 'c'} {'d', 'a'} {'d', 'c'} {'c'} {'c', 'e'} \n",
      "False\n",
      "vertices: b a f d c e \n",
      "edges: {'b', 'c'} {'d', 'a'} {'a', 'f'} {'d', 'c'} {'c'} {'c', 'e'} \n",
      "True\n",
      "vertices: b a f d c e \n",
      "edges: {'b', 'c'} {'b'} {'d', 'a'} {'a', 'f'} {'d', 'c'} {'c'} {'c', 'e'} \n",
      "True\n"
     ]
    }
   ],
   "source": [
    "g = { \"a\" : [\"d\"],\n",
    "      \"b\" : [\"c\"],\n",
    "      \"c\" : [\"b\", \"c\", \"d\", \"e\"],\n",
    "      \"d\" : [\"a\", \"c\"],\n",
    "      \"e\" : [\"c\"],\n",
    "      \"f\" : []\n",
    "}\n",
    "\n",
    "g2 = { \"a\" : [\"d\",\"f\"],\n",
    "       \"b\" : [\"c\"],\n",
    "       \"c\" : [\"b\", \"c\", \"d\", \"e\"],\n",
    "       \"d\" : [\"a\", \"c\"],\n",
    "       \"e\" : [\"c\"],\n",
    "       \"f\" : [\"a\"]\n",
    "}\n",
    "\n",
    "g3 = { \"a\" : [\"d\",\"f\"],\n",
    "       \"b\" : [\"c\",\"b\"],\n",
    "       \"c\" : [\"b\", \"c\", \"d\", \"e\"],\n",
    "       \"d\" : [\"a\", \"c\"],\n",
    "       \"e\" : [\"c\"],\n",
    "       \"f\" : [\"a\"]\n",
    "}\n",
    "\n",
    "\n",
    "graph = Graph(g)\n",
    "print(graph)\n",
    "print(graph.is_connected())\n",
    "\n",
    "graph = Graph(g2)\n",
    "print(graph)\n",
    "print(graph.is_connected())\n",
    "\n",
    "graph = Graph(g3)\n",
    "print(graph)\n",
    "print(graph.is_connected())"
   ]
  },
  {
   "cell_type": "markdown",
   "metadata": {},
   "source": [
    "## Graph Density"
   ]
  },
  {
   "cell_type": "code",
   "execution_count": 9,
   "metadata": {},
   "outputs": [
    {
     "name": "stdout",
     "output_type": "stream",
     "text": [
      "0.4666666666666667\n",
      "1.0\n",
      "0.0\n"
     ]
    }
   ],
   "source": [
    "g = { \"a\" : [\"d\",\"f\"],\n",
    "       \"b\" : [\"c\",\"b\"],\n",
    "       \"c\" : [\"b\", \"c\", \"d\", \"e\"],\n",
    "       \"d\" : [\"a\", \"c\"],\n",
    "       \"e\" : [\"c\"],\n",
    "       \"f\" : [\"a\"]\n",
    "}\n",
    "\n",
    "complete_graph = { \n",
    "    \"a\" : [\"b\",\"c\"],\n",
    "    \"b\" : [\"a\",\"c\"],\n",
    "    \"c\" : [\"a\",\"b\"]\n",
    "}\n",
    "\n",
    "isolated_graph = { \n",
    "    \"a\" : [],\n",
    "    \"b\" : [],\n",
    "    \"c\" : []\n",
    "}\n",
    "\n",
    "\n",
    "graph = Graph(g)\n",
    "print(graph.density())\n",
    "\n",
    "graph = Graph(complete_graph)\n",
    "print(graph.density())\n",
    "\n",
    "graph = Graph(isolated_graph)\n",
    "print(graph.density())"
   ]
  },
  {
   "cell_type": "markdown",
   "metadata": {},
   "source": [
    "## Implementation of the Erdös-Gallai theorem"
   ]
  },
  {
   "cell_type": "markdown",
   "metadata": {},
   "source": [
    "The Erdös-Gallai theorem states that a non-increasing sequence of n numbers di (for i = 1, ..., n) is the degree sequence of a simple graph if and only if the sum of the sequence is even and the following condition is fulfilled:   \n",
    "$$\\sum_{i=1}^k d_i \\leqslant k(k-1) + \\sum_{i=k+1}^n min(d_i,k) \\quad for \\ k \\in {1,...,n}$$  \n",
    "\n",
    "什么叫合法的度数序列？就是存在一个无重边无自环（简单）的无向图，使得图中每个点的度数构成的序列为给定的序列。"
   ]
  },
  {
   "cell_type": "code",
   "execution_count": 185,
   "metadata": {},
   "outputs": [],
   "source": [
    "def erdoes_gallai(dsequence):\n",
    "    \"\"\" Checks if the condition of the Erdoes-Gallai inequality \n",
    "        is fullfilled \n",
    "    \"\"\"\n",
    "    if sum(dsequence) % 2:\n",
    "        # sum of sequence is odd\n",
    "        return False\n",
    "    for k in range(1,len(dsequence) + 1):\n",
    "        left = sum(dsequence[:k])\n",
    "        right =  k * (k-1) + sum([min(x,k) for x in dsequence[k:]])\n",
    "        if left > right:\n",
    "            return False\n",
    "    return True"
   ]
  },
  {
   "cell_type": "code",
   "execution_count": 229,
   "metadata": {
    "scrolled": true
   },
   "outputs": [
    {
     "data": {
      "text/plain": [
       "False"
      ]
     },
     "execution_count": 229,
     "metadata": {},
     "output_type": "execute_result"
    }
   ],
   "source": [
    "graph.erdoes_gallai(t)"
   ]
  },
  {
   "cell_type": "code",
   "execution_count": 241,
   "metadata": {},
   "outputs": [
    {
     "data": {
      "text/plain": [
       "(5, 2, 1, 1, 1, 0)"
      ]
     },
     "execution_count": 241,
     "metadata": {},
     "output_type": "execute_result"
    }
   ],
   "source": [
    "t = graph.degree_sequence()\n",
    "t"
   ]
  },
  {
   "cell_type": "code",
   "execution_count": 242,
   "metadata": {},
   "outputs": [
    {
     "name": "stdout",
     "output_type": "stream",
     "text": [
      "5\n",
      "4\n",
      "False\n",
      "7\n",
      "5\n",
      "False\n",
      "8\n",
      "8\n",
      "True\n",
      "9\n",
      "13\n",
      "True\n",
      "10\n",
      "20\n",
      "True\n",
      "10\n",
      "30\n",
      "True\n"
     ]
    }
   ],
   "source": [
    "for k in range(1, len(t) + 1):\n",
    "    left = sum(t[:k])\n",
    "    print(left)\n",
    "    right = k * (k-1) + sum([min(x,k) for x in t[k:]])\n",
    "    print(right)\n",
    "    if left>right:\n",
    "        print('False')\n",
    "    else:\n",
    "        print('True')"
   ]
  },
  {
   "cell_type": "markdown",
   "metadata": {},
   "source": [
    "## Degree Sequence\n",
    "\n",
    "Isomorphic graphs have the same degree sequence.   \n",
    "However, two graphs with the same degree sequence are not necessarily isomorphic. "
   ]
  },
  {
   "cell_type": "code",
   "execution_count": 177,
   "metadata": {},
   "outputs": [
    {
     "name": "stdout",
     "output_type": "stream",
     "text": [
      "Degree sequence:\n",
      "(5, 2, 1, 1, 1, 0)\n"
     ]
    }
   ],
   "source": [
    "print('Degree sequence:')\n",
    "print(graph.degree_sequence())"
   ]
  },
  {
   "cell_type": "markdown",
   "metadata": {
    "collapsed": true
   },
   "source": [
    "## Degree"
   ]
  },
  {
   "cell_type": "code",
   "execution_count": 141,
   "metadata": {},
   "outputs": [
    {
     "name": "stdout",
     "output_type": "stream",
     "text": [
      "Degree of vertex:\n",
      "5\n"
     ]
    }
   ],
   "source": [
    "print('Degree of vertex:')\n",
    "print(graph.vertex_degree(\"c\"))"
   ]
  },
  {
   "cell_type": "code",
   "execution_count": 153,
   "metadata": {},
   "outputs": [
    {
     "name": "stdout",
     "output_type": "stream",
     "text": [
      "Isolated vertices:\n",
      "['z', 'f']\n"
     ]
    }
   ],
   "source": [
    "print('Isolated vertices:')\n",
    "print(graph.find_isolated_vertices())"
   ]
  },
  {
   "cell_type": "code",
   "execution_count": 155,
   "metadata": {},
   "outputs": [
    {
     "name": "stdout",
     "output_type": "stream",
     "text": [
      "Minimum degree of the vertices:\n",
      "0\n"
     ]
    }
   ],
   "source": [
    "print('Minimum degree of the vertices:')\n",
    "print(graph.delta())"
   ]
  },
  {
   "cell_type": "code",
   "execution_count": 156,
   "metadata": {
    "scrolled": true
   },
   "outputs": [
    {
     "name": "stdout",
     "output_type": "stream",
     "text": [
      "Maximum degree of the vertices:\n",
      "5\n"
     ]
    }
   ],
   "source": [
    "print('Maximum degree of the vertices:')\n",
    "print(graph.Delta())"
   ]
  },
  {
   "cell_type": "markdown",
   "metadata": {},
   "source": [
    "## Paths in Graphs"
   ]
  },
  {
   "cell_type": "code",
   "execution_count": 163,
   "metadata": {},
   "outputs": [
    {
     "name": "stdout",
     "output_type": "stream",
     "text": [
      "Vertices of graph:\n",
      "['a', 'y', 'c', 'z', 'f', 'b', 'e', 'd']\n",
      "Edges of graph:\n",
      "[{'a', 'd'}, {'a', 'z'}, {'y', 'x'}, {'b', 'c'}, {'c'}, {'c', 'd'}, {'c', 'e'}]\n",
      "The path from vertex \"a\" to vertex \"b\":\n",
      "['a', 'd', 'c', 'b']\n",
      "The path from vertex \"a\" to vertex \"f\":\n",
      "None\n",
      "The path from vertex \"c\" to vertex \"c\":\n",
      "['c']\n"
     ]
    }
   ],
   "source": [
    "print(\"Vertices of graph:\")\n",
    "print(graph.vertices())\n",
    "\n",
    "print(\"Edges of graph:\")\n",
    "print(graph.edges())\n",
    "\n",
    "\n",
    "print('The path from vertex \"a\" to vertex \"b\":')\n",
    "path = graph.find_path(\"a\", \"b\")\n",
    "print(path)\n",
    "\n",
    "print('The path from vertex \"a\" to vertex \"f\":')\n",
    "path = graph.find_path(\"a\", \"f\")\n",
    "print(path)\n",
    "\n",
    "print('The path from vertex \"c\" to vertex \"c\":')\n",
    "path = graph.find_path(\"c\", \"c\")\n",
    "print(path)"
   ]
  },
  {
   "cell_type": "code",
   "execution_count": 170,
   "metadata": {
    "scrolled": false
   },
   "outputs": [
    {
     "name": "stdout",
     "output_type": "stream",
     "text": [
      "Vertices of graph:\n",
      "['a', 'c', 'f', 'b', 'e', 'd']\n",
      "Edges of graph:\n",
      "[{'a', 'd'}, {'a', 'f'}, {'b', 'c'}, {'c'}, {'c', 'd'}, {'c', 'e'}, {'f', 'd'}]\n",
      "All paths from vertex \"a\" to vertex \"b\":\n",
      "[['a', 'd', 'c', 'b'], ['a', 'f', 'd', 'c', 'b']]\n",
      "All paths from vertex \"a\" to vertex \"f\":\n",
      "[['a', 'f']]\n",
      "All paths from vertex \"c\" to vertex \"c\":\n",
      "[['c']]\n"
     ]
    }
   ],
   "source": [
    "g = { \"a\" : [\"d\", \"f\"],\n",
    "      \"b\" : [\"c\"],\n",
    "      \"c\" : [\"b\", \"c\", \"d\", \"e\"],\n",
    "      \"d\" : [\"a\", \"c\"],\n",
    "      \"e\" : [\"c\"],\n",
    "      \"f\" : [\"d\"]\n",
    "    }\n",
    "\n",
    "\n",
    "graph = Graph(g)\n",
    "\n",
    "print(\"Vertices of graph:\")\n",
    "print(graph.vertices())\n",
    "\n",
    "print(\"Edges of graph:\")\n",
    "print(graph.edges())\n",
    "\n",
    "\n",
    "print('All paths from vertex \"a\" to vertex \"b\":')\n",
    "path = graph.find_all_paths(\"a\", \"b\")\n",
    "print(path)\n",
    "\n",
    "print('All paths from vertex \"a\" to vertex \"f\":')\n",
    "path = graph.find_all_paths(\"a\", \"f\")\n",
    "print(path)\n",
    "\n",
    "print('All paths from vertex \"c\" to vertex \"c\":')\n",
    "path = graph.find_all_paths(\"c\", \"c\")\n",
    "print(path)"
   ]
  },
  {
   "cell_type": "code",
   "execution_count": null,
   "metadata": {
    "collapsed": true
   },
   "outputs": [],
   "source": []
  }
 ],
 "metadata": {
  "kernelspec": {
   "display_name": "Python 3",
   "language": "python",
   "name": "python3"
  },
  "language_info": {
   "codemirror_mode": {
    "name": "ipython",
    "version": 3
   },
   "file_extension": ".py",
   "mimetype": "text/x-python",
   "name": "python",
   "nbconvert_exporter": "python",
   "pygments_lexer": "ipython3",
   "version": "3.7.4"
  },
  "latex_envs": {
   "LaTeX_envs_menu_present": true,
   "autoclose": false,
   "autocomplete": true,
   "bibliofile": "biblio.bib",
   "cite_by": "apalike",
   "current_citInitial": 1,
   "eqLabelWithNumbers": true,
   "eqNumInitial": 1,
   "hotkeys": {
    "equation": "Ctrl-E",
    "itemize": "Ctrl-I"
   },
   "labels_anchors": false,
   "latex_user_defs": false,
   "report_style_numbering": false,
   "user_envs_cfg": false
  },
  "toc": {
   "base_numbering": 1,
   "nav_menu": {
    "height": "246px",
    "width": "252px"
   },
   "number_sections": true,
   "sideBar": true,
   "skip_h1_title": false,
   "title_cell": "Table of Contents",
   "title_sidebar": "Contents",
   "toc_cell": true,
   "toc_position": {
    "height": "calc(100% - 180px)",
    "left": "10px",
    "top": "150px",
    "width": "246.188px"
   },
   "toc_section_display": "block",
   "toc_window_display": true
  }
 },
 "nbformat": 4,
 "nbformat_minor": 1
}
