{
 "cells": [
  {
   "cell_type": "markdown",
   "metadata": {
    "toc": true
   },
   "source": [
    "<h1>Table of Contents<span class=\"tocSkip\"></span></h1>\n",
    "<div class=\"toc\"><ul class=\"toc-item\"><li><span><a href=\"#Creating-a-Graph\" data-toc-modified-id=\"Creating-a-Graph-1\"><span class=\"toc-item-num\">1&nbsp;&nbsp;</span>Creating a Graph</a></span><ul class=\"toc-item\"><li><span><a href=\"#Creating-an-empty-Graph\" data-toc-modified-id=\"Creating-an-empty-Graph-1.1\"><span class=\"toc-item-num\">1.1&nbsp;&nbsp;</span>Creating an empty Graph</a></span></li><li><span><a href=\"#Adding-Nodes-to-our-Graph\" data-toc-modified-id=\"Adding-Nodes-to-our-Graph-1.2\"><span class=\"toc-item-num\">1.2&nbsp;&nbsp;</span>Adding Nodes to our Graph</a></span></li><li><span><a href=\"#Adding-Edges-to-our-graph\" data-toc-modified-id=\"Adding-Edges-to-our-graph-1.3\"><span class=\"toc-item-num\">1.3&nbsp;&nbsp;</span>Adding Edges to our graph</a></span></li><li><span><a href=\"#Generate-Path-Graph\" data-toc-modified-id=\"Generate-Path-Graph-1.4\"><span class=\"toc-item-num\">1.4&nbsp;&nbsp;</span>Generate Path Graph</a></span></li><li><span><a href=\"#Renaming-Nodes\" data-toc-modified-id=\"Renaming-Nodes-1.5\"><span class=\"toc-item-num\">1.5&nbsp;&nbsp;</span>Renaming Nodes</a></span></li></ul></li></ul></div>"
   ]
  },
  {
   "cell_type": "markdown",
   "metadata": {},
   "source": [
    "NetworkX\n",
    "\n",
    "- [Python Advanced: Graphs in Python: NetworkX](http://www.python-course.eu/networkx.php)\n",
    "- [networkx/networkx: Official NetworkX source code repository.](https://github.com/networkx/networkx)"
   ]
  },
  {
   "cell_type": "markdown",
   "metadata": {},
   "source": [
    "[MacOS 安装 pygraphviz | 梦寒's Blog](http://www.v1en.com/2016/08/25/macos-install-pygraphviz/)"
   ]
  },
  {
   "cell_type": "markdown",
   "metadata": {},
   "source": [
    "## Creating a Graph"
   ]
  },
  {
   "cell_type": "code",
   "execution_count": 1,
   "metadata": {
    "collapsed": true
   },
   "outputs": [],
   "source": [
    "import matplotlib.pyplot as plt\n",
    "import networkx as nx\n",
    "%matplotlib inline"
   ]
  },
  {
   "cell_type": "markdown",
   "metadata": {},
   "source": [
    "### Creating an empty Graph"
   ]
  },
  {
   "cell_type": "code",
   "execution_count": 2,
   "metadata": {},
   "outputs": [
    {
     "name": "stdout",
     "output_type": "stream",
     "text": [
      "[]\n",
      "[]\n",
      "<class 'list'>\n",
      "<class 'list'>\n"
     ]
    }
   ],
   "source": [
    "G = nx.Graph()\n",
    "\n",
    "print(G.nodes())\n",
    "print(G.edges())\n",
    "\n",
    "print(type(G.nodes()))\n",
    "print(type(G.edges()))"
   ]
  },
  {
   "cell_type": "markdown",
   "metadata": {},
   "source": [
    "### Adding Nodes to our Graph"
   ]
  },
  {
   "cell_type": "code",
   "execution_count": 3,
   "metadata": {
    "collapsed": true
   },
   "outputs": [],
   "source": [
    "G.add_node(\"a\")\n",
    "G.add_nodes_from([\"b\", \"c\"])"
   ]
  },
  {
   "cell_type": "code",
   "execution_count": 4,
   "metadata": {},
   "outputs": [
    {
     "name": "stdout",
     "output_type": "stream",
     "text": [
      "Nodes of graph: \n",
      "['c', 'a', 'b']\n",
      "Edges of graph: \n",
      "[]\n"
     ]
    }
   ],
   "source": [
    "print(\"Nodes of graph: \")\n",
    "print(G.nodes())\n",
    "print(\"Edges of graph: \")\n",
    "print(G.edges())"
   ]
  },
  {
   "cell_type": "markdown",
   "metadata": {},
   "source": [
    "### Adding Edges to our graph"
   ]
  },
  {
   "cell_type": "code",
   "execution_count": 5,
   "metadata": {
    "collapsed": true
   },
   "outputs": [],
   "source": [
    "G.add_edge(1,2)"
   ]
  },
  {
   "cell_type": "code",
   "execution_count": 6,
   "metadata": {
    "collapsed": true
   },
   "outputs": [],
   "source": [
    "edge = (\"d\", \"e\")\n",
    "G.add_edge(*edge)\n",
    "edge = (\"a\", \"b\")\n",
    "G.add_edge(*edge)"
   ]
  },
  {
   "cell_type": "code",
   "execution_count": 7,
   "metadata": {},
   "outputs": [
    {
     "name": "stdout",
     "output_type": "stream",
     "text": [
      "Nodes of graph: \n",
      "[1, 2, 'c', 'a', 'e', 'd', 'b']\n",
      "Edges of graph: \n",
      "[(1, 2), ('a', 'b'), ('e', 'd')]\n"
     ]
    }
   ],
   "source": [
    "print(\"Nodes of graph: \")\n",
    "print(G.nodes())\n",
    "print(\"Edges of graph: \")\n",
    "print(G.edges())"
   ]
  },
  {
   "cell_type": "code",
   "execution_count": 8,
   "metadata": {
    "collapsed": true
   },
   "outputs": [],
   "source": [
    "# adding a list of edges\n",
    "G.add_edges_from([(\"a\",\"c\"),(\"c\",\"d\"), (\"a\",1), (1,\"d\"), (\"a\",2)])"
   ]
  },
  {
   "cell_type": "code",
   "execution_count": 9,
   "metadata": {},
   "outputs": [
    {
     "data": {
      "text/plain": [
       "[(1, 2),\n",
       " (1, 'd'),\n",
       " (1, 'a'),\n",
       " (2, 'a'),\n",
       " ('c', 'd'),\n",
       " ('c', 'a'),\n",
       " ('a', 'b'),\n",
       " ('e', 'd')]"
      ]
     },
     "execution_count": 9,
     "metadata": {},
     "output_type": "execute_result"
    }
   ],
   "source": [
    "G.edges()"
   ]
  },
  {
   "cell_type": "code",
   "execution_count": 10,
   "metadata": {},
   "outputs": [
    {
     "data": {
      "image/png": "[encoded data removed]",
      "text/plain": [
       "<matplotlib.figure.Figure at 0x1116b3e48>"
      ]
     },
     "metadata": {},
     "output_type": "display_data"
    }
   ],
   "source": [
    "nx.draw(G)\n",
    "plt.savefig(\"simple_path.png\")\n",
    "plt.show()"
   ]
  },
  {
   "cell_type": "markdown",
   "metadata": {},
   "source": [
    "### Generate Path Graph"
   ]
  },
  {
   "cell_type": "code",
   "execution_count": 11,
   "metadata": {},
   "outputs": [
    {
     "name": "stdout",
     "output_type": "stream",
     "text": [
      "Nodes of graph: \n",
      "[0, 1, 2, 3]\n",
      "Edges of graph: \n",
      "[(0, 1), (1, 2), (2, 3)]\n"
     ]
    },
    {
     "data": {
      "image/png": "[encoded data removed]",
      "text/plain": [
       "<matplotlib.figure.Figure at 0x111703390>"
      ]
     },
     "metadata": {},
     "output_type": "display_data"
    }
   ],
   "source": [
    "G = nx.path_graph(4)\n",
    "\n",
    "print(\"Nodes of graph: \")\n",
    "print(G.nodes())\n",
    "print(\"Edges of graph: \")\n",
    "print(G.edges())\n",
    "nx.draw(G)\n",
    "plt.savefig(\"path_graph1.png\")\n",
    "plt.show()"
   ]
  },
  {
   "cell_type": "markdown",
   "metadata": {},
   "source": [
    "### Renaming Nodes"
   ]
  },
  {
   "cell_type": "code",
   "execution_count": 12,
   "metadata": {},
   "outputs": [
    {
     "name": "stdout",
     "output_type": "stream",
     "text": [
      "Nodes of graph: \n",
      "['New York', 'London', 'Toronto', 'Berlin']\n",
      "[0, 1, 2, 3]\n",
      "Edges of graph: \n",
      "[('Toronto', 'London'), ('Berlin', 'New York'), ('Berlin', 'London')]\n",
      "[(0, 1), (1, 2), (2, 3)]\n"
     ]
    },
    {
     "data": {
      "image/png": "[encoded data removed]",
      "text/plain": [
       "<matplotlib.figure.Figure at 0x11171acf8>"
      ]
     },
     "metadata": {},
     "output_type": "display_data"
    }
   ],
   "source": [
    "G=nx.path_graph(4)\n",
    "cities = {0:\"Toronto\",1:\"London\",2:\"Berlin\",3:\"New York\"}\n",
    "\n",
    "H=nx.relabel_nodes(G,cities)\n",
    " \n",
    "print(\"Nodes of graph: \")\n",
    "print(H.nodes())\n",
    "print(G.nodes())\n",
    "print(\"Edges of graph: \")\n",
    "print(H.edges())\n",
    "print(G.edges())\n",
    "nx.draw(H)\n",
    "plt.savefig(\"path_graph_cities.png\")\n",
    "plt.show()"
   ]
  },
  {
   "cell_type": "code",
   "execution_count": 13,
   "metadata": {
    "scrolled": true
   },
   "outputs": [
    {
     "data": {
      "text/plain": [
       "{0: 'a', 1: 'b', 2: 'c', 3: 'd'}"
      ]
     },
     "execution_count": 13,
     "metadata": {},
     "output_type": "execute_result"
    }
   ],
   "source": [
    "dict(zip(G.nodes(),\"abcde\"))"
   ]
  },
  {
   "cell_type": "code",
   "execution_count": 14,
   "metadata": {},
   "outputs": [
    {
     "name": "stdout",
     "output_type": "stream",
     "text": [
      "Nodes of graph: \n",
      "[5, 6, 7, 8, 9, 'a', 'd', 'c', 'e', 'b']\n"
     ]
    }
   ],
   "source": [
    "G=nx.path_graph(10)\n",
    "mapping=dict(zip(G.nodes(),\"abcde\"))\n",
    "# 从原始节点标签的节点到新的节点标签的映射不一定是完整的。\n",
    "nx.relabel_nodes(G, mapping, copy=False)\n",
    "\n",
    "print(\"Nodes of graph: \")\n",
    "print(G.nodes())"
   ]
  },
  {
   "cell_type": "code",
   "execution_count": 15,
   "metadata": {},
   "outputs": [
    {
     "name": "stdout",
     "output_type": "stream",
     "text": [
      "Nodes of graph: \n",
      "[5, 'a', 7, 8, 9, 'd', 6, 'c', 'e', 'b']\n"
     ]
    }
   ],
   "source": [
    "G=nx.path_graph(10)\n",
    "mapping=dict(zip(G.nodes(),\"abcde\"))\n",
    "H = nx.relabel_nodes(G, mapping)\n",
    " \n",
    "print(\"Nodes of graph: \")\n",
    "print(H.nodes())"
   ]
  },
  {
   "cell_type": "code",
   "execution_count": 16,
   "metadata": {},
   "outputs": [
    {
     "name": "stdout",
     "output_type": "stream",
     "text": [
      "Nodes of graph: \n",
      "[107, 106, 103, 108, 109, 104, 105, 100, 102, 101]\n"
     ]
    }
   ],
   "source": [
    "G=nx.path_graph(10)\n",
    "\n",
    "def mapping(x):\n",
    "    return x + 100\n",
    "\n",
    "nx.relabel_nodes(G, mapping, copy=False)\n",
    " \n",
    "print(\"Nodes of graph: \")\n",
    "print(G.nodes())"
   ]
  },
  {
   "cell_type": "code",
   "execution_count": 17,
   "metadata": {},
   "outputs": [
    {
     "name": "stdout",
     "output_type": "stream",
     "text": [
      "Nodes of graph: \n",
      "[100, 101, 102, 103, 104, 105, 106, 107, 108, 109]\n"
     ]
    }
   ],
   "source": [
    "G=nx.path_graph(10)\n",
    "\n",
    "def mapping(x):\n",
    "    return x + 100\n",
    "\n",
    "H = nx.relabel_nodes(G, mapping)\n",
    " \n",
    "print(\"Nodes of graph: \")\n",
    "print(H.nodes())"
   ]
  },
  {
   "cell_type": "code",
   "execution_count": null,
   "metadata": {
    "collapsed": true
   },
   "outputs": [],
   "source": []
  }
 ],
 "metadata": {
  "kernelspec": {
   "display_name": "Python 3",
   "language": "python",
   "name": "python3"
  },
  "language_info": {
   "codemirror_mode": {
    "name": "ipython",
    "version": 3
   },
   "file_extension": ".py",
   "mimetype": "text/x-python",
   "name": "python",
   "nbconvert_exporter": "python",
   "pygments_lexer": "ipython3",
   "version": "3.7.4"
  },
  "latex_envs": {
   "LaTeX_envs_menu_present": true,
   "autoclose": false,
   "autocomplete": true,
   "bibliofile": "biblio.bib",
   "cite_by": "apalike",
   "current_citInitial": 1,
   "eqLabelWithNumbers": true,
   "eqNumInitial": 1,
   "hotkeys": {
    "equation": "Ctrl-E",
    "itemize": "Ctrl-I"
   },
   "labels_anchors": false,
   "latex_user_defs": false,
   "report_style_numbering": false,
   "user_envs_cfg": false
  },
  "toc": {
   "base_numbering": 1,
   "nav_menu": {
    "height": "138px",
    "width": "252px"
   },
   "number_sections": true,
   "sideBar": true,
   "skip_h1_title": false,
   "title_cell": "Table of Contents",
   "title_sidebar": "Contents",
   "toc_cell": true,
   "toc_position": {
    "height": "calc(100% - 180px)",
    "left": "10px",
    "top": "150px",
    "width": "384px"
   },
   "toc_section_display": "block",
   "toc_window_display": true
  }
 },
 "nbformat": 4,
 "nbformat_minor": 1
}
