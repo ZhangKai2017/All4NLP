{
 "cells": [
  {
   "cell_type": "code",
   "execution_count": 1,
   "metadata": {},
   "outputs": [],
   "source": [
    "dictionary = {\n",
    "    \"北京烤鸭\",\n",
    "    \"特别\",\n",
    "    \"喜欢\"\n",
    "}\n",
    "sentence = \"他特别喜欢北京烤鸭\""
   ]
  },
  {
   "cell_type": "code",
   "execution_count": 248,
   "metadata": {},
   "outputs": [],
   "source": [
    "# 最大后向匹配（递归）\n",
    "def seg(sentence):\n",
    "    res = []\n",
    "    def maxmatch(res, sentence, dictionary):\n",
    "        if len(sentence) == 0:\n",
    "            return list()\n",
    "        for i in reversed(range(1, len(sentence)+1)):\n",
    "            fw = sentence[:i]\n",
    "            rw = sentence[i:]\n",
    "            if fw in dictionary:\n",
    "                res.append(fw)\n",
    "                return maxmatch(res, rw, dictionary)\n",
    "        res.append(fw)\n",
    "        return maxmatch(res, rw, dictionary)\n",
    "    maxmatch(res, sentence, dictionary)\n",
    "    return res"
   ]
  },
  {
   "cell_type": "code",
   "execution_count": 3,
   "metadata": {},
   "outputs": [
    {
     "data": {
      "text/plain": [
       "['他', '特别', '喜欢', '北京烤鸭']"
      ]
     },
     "execution_count": 3,
     "metadata": {},
     "output_type": "execute_result"
    }
   ],
   "source": [
    "seg(sentence)"
   ]
  },
  {
   "cell_type": "markdown",
   "metadata": {},
   "source": [
    "# 分词\n",
    "\n",
    "参考资料：\n",
    "\n",
    "- [ysc/word: Java 分布式中文分词组件 - word 分词](https://github.com/ysc/word)"
   ]
  },
  {
   "cell_type": "markdown",
   "metadata": {},
   "source": [
    "## 词典"
   ]
  },
  {
   "cell_type": "code",
   "execution_count": 234,
   "metadata": {},
   "outputs": [],
   "source": [
    "import pnlp"
   ]
  },
  {
   "cell_type": "code",
   "execution_count": 235,
   "metadata": {
    "scrolled": true
   },
   "outputs": [
    {
     "data": {
      "text/plain": [
       "415870"
      ]
     },
     "execution_count": 235,
     "metadata": {},
     "output_type": "execute_result"
    }
   ],
   "source": [
    "dictionary = pnlp.read_lines(\"./dic.txt\")\n",
    "# 字典中不能包括一个字的词，否则都被切成一个字了\n",
    "dictionary = [w for w in dictionary if len(w) > 1]\n",
    "dictionary = set(dictionary)\n",
    "len(dictionary)"
   ]
  },
  {
   "cell_type": "code",
   "execution_count": 236,
   "metadata": {},
   "outputs": [
    {
     "data": {
      "text/plain": [
       "16"
      ]
     },
     "execution_count": 236,
     "metadata": {},
     "output_type": "execute_result"
    }
   ],
   "source": [
    "MAX_LEN = max(len(w) for w in dictionary)\n",
    "MAX_LEN"
   ]
  },
  {
   "cell_type": "markdown",
   "metadata": {},
   "source": [
    "## 最大正向匹配"
   ]
  },
  {
   "cell_type": "code",
   "execution_count": 162,
   "metadata": {},
   "outputs": [],
   "source": [
    "def forward_max_match2(sent):\n",
    "    res = []\n",
    "    while len(sent) > 0:\n",
    "        length = min(MAX_LEN, len(sent))\n",
    "        try_word = sent[:length]\n",
    "        while try_word not in dictionary:\n",
    "            if len(try_word) == 1:\n",
    "                break\n",
    "            try_word = try_word[:-1]\n",
    "        res.append(try_word)\n",
    "        sent = sent[len(try_word):]\n",
    "    return res"
   ]
  },
  {
   "cell_type": "code",
   "execution_count": 163,
   "metadata": {},
   "outputs": [],
   "source": [
    "def forward_max_match(sent):\n",
    "    res = []\n",
    "    length = MAX_LEN\n",
    "    text_len = len(sent)\n",
    "    start = 0\n",
    "    while start < text_len:\n",
    "        length = min(length, text_len - start)\n",
    "        while sent[start:start+length] not in dictionary:\n",
    "            if length == 1:\n",
    "                break\n",
    "            length -= 1\n",
    "        res.append(sent[start:start+length])\n",
    "        start += length\n",
    "        length = MAX_LEN\n",
    "    return res"
   ]
  },
  {
   "cell_type": "code",
   "execution_count": 164,
   "metadata": {},
   "outputs": [],
   "source": [
    "sen = \"美国加州大学的科学家发现\""
   ]
  },
  {
   "cell_type": "code",
   "execution_count": 165,
   "metadata": {},
   "outputs": [
    {
     "data": {
      "text/plain": [
       "['美国加州大学', '的', '科学家', '发现']"
      ]
     },
     "execution_count": 165,
     "metadata": {},
     "output_type": "execute_result"
    }
   ],
   "source": [
    "forward_max_match(sen)"
   ]
  },
  {
   "cell_type": "code",
   "execution_count": 166,
   "metadata": {},
   "outputs": [
    {
     "data": {
      "text/plain": [
       "['美国加州大学', '的', '科学家', '发现']"
      ]
     },
     "execution_count": 166,
     "metadata": {},
     "output_type": "execute_result"
    }
   ],
   "source": [
    "forward_max_match2(sen)"
   ]
  },
  {
   "cell_type": "code",
   "execution_count": 171,
   "metadata": {
    "scrolled": true
   },
   "outputs": [
    {
     "name": "stdout",
     "output_type": "stream",
     "text": [
      "8.67 µs ± 397 ns per loop (mean ± std. dev. of 7 runs, 100000 loops each)\n"
     ]
    }
   ],
   "source": [
    "%timeit forward_max_match(sen)"
   ]
  },
  {
   "cell_type": "code",
   "execution_count": 172,
   "metadata": {},
   "outputs": [
    {
     "name": "stdout",
     "output_type": "stream",
     "text": [
      "8.51 µs ± 188 ns per loop (mean ± std. dev. of 7 runs, 100000 loops each)\n"
     ]
    }
   ],
   "source": [
    "%timeit forward_max_match2(sen)"
   ]
  },
  {
   "cell_type": "markdown",
   "metadata": {},
   "source": [
    "## 正向最小匹配"
   ]
  },
  {
   "cell_type": "code",
   "execution_count": 157,
   "metadata": {},
   "outputs": [],
   "source": [
    "def forward_min_match(sent):\n",
    "    res = []\n",
    "    length = 1\n",
    "    text_len = len(sent)\n",
    "    start = 0\n",
    "    while start < text_len:\n",
    "        while sent[start:start+length] not in dictionary:\n",
    "            if length == MAX_LEN or length == text_len - start:\n",
    "                length = 1\n",
    "                break\n",
    "            length += 1\n",
    "        res.append(sent[start:start+length])\n",
    "        start += length\n",
    "        length = 1\n",
    "    return res"
   ]
  },
  {
   "cell_type": "code",
   "execution_count": 158,
   "metadata": {},
   "outputs": [],
   "source": [
    "sen = \"美国加州大学的科学家发现\""
   ]
  },
  {
   "cell_type": "code",
   "execution_count": 159,
   "metadata": {},
   "outputs": [
    {
     "data": {
      "text/plain": [
       "['美国', '加州', '大学', '的', '科学', '家', '发现']"
      ]
     },
     "execution_count": 159,
     "metadata": {},
     "output_type": "execute_result"
    }
   ],
   "source": [
    "forward_min_match(sen)"
   ]
  },
  {
   "cell_type": "markdown",
   "metadata": {},
   "source": [
    "## 最大反向匹配"
   ]
  },
  {
   "cell_type": "code",
   "execution_count": 225,
   "metadata": {},
   "outputs": [],
   "source": [
    "def backward_max_match(sent):\n",
    "    res = []\n",
    "    length = MAX_LEN\n",
    "    text_len = len(sent)\n",
    "    start = max(0, text_len - length)\n",
    "    length = min(length, text_len - start)\n",
    "    while start >= 0 and length > 0:\n",
    "        while sent[start: start+length] not in dictionary:\n",
    "            if length == 1:\n",
    "                break\n",
    "            length -= 1\n",
    "            start += 1\n",
    "        res.append(sent[start: start+length])\n",
    "        length = MAX_LEN\n",
    "        if length > start:\n",
    "            length = start\n",
    "        start -= length\n",
    "    return list(reversed(res))"
   ]
  },
  {
   "cell_type": "code",
   "execution_count": 226,
   "metadata": {},
   "outputs": [],
   "source": [
    "MAX_LEN = max(len(w) for w in dictionary)"
   ]
  },
  {
   "cell_type": "code",
   "execution_count": 227,
   "metadata": {},
   "outputs": [
    {
     "data": {
      "text/plain": [
       "(7, 16)"
      ]
     },
     "execution_count": 227,
     "metadata": {},
     "output_type": "execute_result"
    }
   ],
   "source": [
    "sen = \"研究生命的起源\"\n",
    "len(sen), MAX_LEN"
   ]
  },
  {
   "cell_type": "code",
   "execution_count": 228,
   "metadata": {},
   "outputs": [
    {
     "data": {
      "text/plain": [
       "['研究', '生命', '的', '起源']"
      ]
     },
     "execution_count": 228,
     "metadata": {},
     "output_type": "execute_result"
    }
   ],
   "source": [
    "backward_max_match(sen)"
   ]
  },
  {
   "cell_type": "markdown",
   "metadata": {},
   "source": [
    "## 最小反向匹配"
   ]
  },
  {
   "cell_type": "code",
   "execution_count": 237,
   "metadata": {},
   "outputs": [],
   "source": [
    "def backward_min_match(sent):\n",
    "    res = []\n",
    "    length = 1\n",
    "    text_len = len(sent)\n",
    "    start = text_len - length\n",
    "    while start >= 0:\n",
    "        while sent[start: start+length] not in dictionary:\n",
    "            length += 1\n",
    "            start -= 1\n",
    "            if length == MAX_LEN or start < 0:\n",
    "                start += length - 1\n",
    "                length = 1\n",
    "                break\n",
    "        res.append(sent[start: start+length])\n",
    "        start -= 1\n",
    "        length = 1\n",
    "    return list(reversed(res))"
   ]
  },
  {
   "cell_type": "code",
   "execution_count": 243,
   "metadata": {},
   "outputs": [],
   "source": [
    "sen = \"美国加州大学的科学家发现\""
   ]
  },
  {
   "cell_type": "code",
   "execution_count": 244,
   "metadata": {},
   "outputs": [
    {
     "data": {
      "text/plain": [
       "['美国', '加州', '大学', '的', '科', '学家', '发现']"
      ]
     },
     "execution_count": 244,
     "metadata": {},
     "output_type": "execute_result"
    }
   ],
   "source": [
    "backward_min_match(sen)"
   ]
  },
  {
   "cell_type": "markdown",
   "metadata": {},
   "source": [
    "## 数据对比"
   ]
  },
  {
   "cell_type": "code",
   "execution_count": 253,
   "metadata": {},
   "outputs": [],
   "source": [
    "sens = [\n",
    "    \"中华人民共和国万岁万岁万万岁\",\n",
    "    \"乔布斯是 Apple 产品的设计者\",\n",
    "    \"美国加州大学的科学家发现\",\n",
    "    \"研究生命的起源\",\n",
    "    \"长春市长春节致辞\",\n",
    "    \"他从马上下来\",\n",
    "    \"有意见分歧\"\n",
    "]"
   ]
  },
  {
   "cell_type": "code",
   "execution_count": 254,
   "metadata": {},
   "outputs": [
    {
     "name": "stdout",
     "output_type": "stream",
     "text": [
      "最大前向匹配： ['中华人民共和国', '万岁', '万岁', '万万岁']\n",
      "最大后向匹配： ['中华人民共和国', '万岁', '万岁', '万万岁']\n",
      "最小前向匹配： ['中华', '人民', '共和', '国', '万岁', '万岁', '万万', '岁']\n",
      "最小后向匹配： ['中华', '人民', '共和国', '万岁', '万岁', '万', '万岁']\n",
      "\n",
      "最大前向匹配： ['乔布斯', '是', ' ', 'A', 'p', 'p', 'l', 'e', ' ', '产品', '的', '设计者']\n",
      "最大后向匹配： ['乔布斯', '是', ' ', 'A', 'p', 'p', 'l', 'e', ' ', '产品', '的', '设计者']\n",
      "最小前向匹配： ['乔布', '斯', '是', ' ', 'A', 'p', 'p', 'l', 'e', ' ', '产品', '的', '设计', '者']\n",
      "最小后向匹配： ['乔', '布斯', '是', ' ', 'A', 'p', 'p', 'l', 'e', ' ', '产品', '的', '设计者']\n",
      "\n",
      "最大前向匹配： ['美国加州大学', '的', '科学家', '发现']\n",
      "最大后向匹配： ['美国加州大学', '的', '科学家', '发现']\n",
      "最小前向匹配： ['美国', '加州', '大学', '的', '科学', '家', '发现']\n",
      "最小后向匹配： ['美国', '加州', '大学', '的', '科', '学家', '发现']\n",
      "\n",
      "最大前向匹配： ['研究生', '命', '的', '起源']\n",
      "最大后向匹配： ['研究', '生命', '的', '起源']\n",
      "最小前向匹配： ['研究', '生命', '的', '起源']\n",
      "最小后向匹配： ['研究', '生命', '的', '起源']\n",
      "\n",
      "最大前向匹配： ['长春市', '长春', '节', '致辞']\n",
      "最大后向匹配： ['长春', '市长', '春节', '致辞']\n",
      "最小前向匹配： ['长春', '市长', '春节', '致辞']\n",
      "最小后向匹配： ['长春', '市长', '春节', '致辞']\n",
      "\n",
      "最大前向匹配： ['他', '从', '马上', '下来']\n",
      "最大后向匹配： ['他', '从', '马上', '下来']\n",
      "最小前向匹配： ['他', '从', '马上', '下来']\n",
      "最小后向匹配： ['他', '从', '马上', '下来']\n",
      "\n",
      "最大前向匹配： ['有意', '见', '分歧']\n",
      "最大后向匹配： ['有', '意见分歧']\n",
      "最小前向匹配： ['有意', '见', '分歧']\n",
      "最小后向匹配： ['有', '意见', '分歧']\n",
      "\n"
     ]
    }
   ],
   "source": [
    "for sen in sens:\n",
    "    \n",
    "    res = forward_max_match(sen)\n",
    "    print(\"最大前向匹配：\", res)\n",
    "    \n",
    "    res = backward_max_match(sen)\n",
    "    print(\"最大后向匹配：\", res)\n",
    "    \n",
    "    res = forward_min_match(sen)\n",
    "    print(\"最小前向匹配：\", res)\n",
    "    \n",
    "    res = backward_min_match(sen)\n",
    "    print(\"最小后向匹配：\", res)\n",
    "    \n",
    "    print()"
   ]
  },
  {
   "cell_type": "code",
   "execution_count": null,
   "metadata": {},
   "outputs": [],
   "source": []
  },
  {
   "cell_type": "code",
   "execution_count": null,
   "metadata": {},
   "outputs": [],
   "source": []
  },
  {
   "cell_type": "code",
   "execution_count": null,
   "metadata": {},
   "outputs": [],
   "source": []
  }
 ],
 "metadata": {
  "kernelspec": {
   "display_name": "Python 3",
   "language": "python",
   "name": "python3"
  },
  "language_info": {
   "codemirror_mode": {
    "name": "ipython",
    "version": 3
   },
   "file_extension": ".py",
   "mimetype": "text/x-python",
   "name": "python",
   "nbconvert_exporter": "python",
   "pygments_lexer": "ipython3",
   "version": "3.7.4"
  },
  "latex_envs": {
   "LaTeX_envs_menu_present": true,
   "autoclose": false,
   "autocomplete": true,
   "bibliofile": "biblio.bib",
   "cite_by": "apalike",
   "current_citInitial": 1,
   "eqLabelWithNumbers": true,
   "eqNumInitial": 1,
   "hotkeys": {
    "equation": "Ctrl-E",
    "itemize": "Ctrl-I"
   },
   "labels_anchors": false,
   "latex_user_defs": false,
   "report_style_numbering": false,
   "user_envs_cfg": false
  },
  "toc": {
   "base_numbering": 1,
   "nav_menu": {},
   "number_sections": true,
   "sideBar": true,
   "skip_h1_title": false,
   "title_cell": "Table of Contents",
   "title_sidebar": "Contents",
   "toc_cell": false,
   "toc_position": {
    "height": "calc(100% - 180px)",
    "left": "10px",
    "top": "150px",
    "width": "165px"
   },
   "toc_section_display": true,
   "toc_window_display": true
  }
 },
 "nbformat": 4,
 "nbformat_minor": 2
}
